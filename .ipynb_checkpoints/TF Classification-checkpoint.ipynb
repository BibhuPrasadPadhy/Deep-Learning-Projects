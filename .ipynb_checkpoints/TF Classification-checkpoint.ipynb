{
 "cells": [
  {
   "cell_type": "code",
   "execution_count": 1,
   "id": "c6b967bb",
   "metadata": {},
   "outputs": [],
   "source": [
    "import tensorflow as tf\n",
    "\n",
    "from sklearn.datasets import load_breast_cancer\n",
    "from sklearn.model_selection import train_test_split\n",
    "from sklearn.preprocessing import StandardScaler"
   ]
  },
  {
   "cell_type": "code",
   "execution_count": 2,
   "id": "d3bbd97c",
   "metadata": {},
   "outputs": [],
   "source": [
    "data = load_breast_cancer()"
   ]
  },
  {
   "cell_type": "code",
   "execution_count": 3,
   "id": "5c67583a",
   "metadata": {},
   "outputs": [
    {
     "data": {
      "text/plain": [
       "dict_keys(['data', 'target', 'frame', 'target_names', 'DESCR', 'feature_names', 'filename', 'data_module'])"
      ]
     },
     "execution_count": 3,
     "metadata": {},
     "output_type": "execute_result"
    }
   ],
   "source": [
    "data.keys()"
   ]
  },
  {
   "cell_type": "code",
   "execution_count": 4,
   "id": "b6a8228c",
   "metadata": {},
   "outputs": [
    {
     "data": {
      "text/plain": [
       "(569, 30)"
      ]
     },
     "execution_count": 4,
     "metadata": {},
     "output_type": "execute_result"
    }
   ],
   "source": [
    "data.data.shape"
   ]
  },
  {
   "cell_type": "code",
   "execution_count": 5,
   "id": "b1f14858",
   "metadata": {},
   "outputs": [
    {
     "data": {
      "text/plain": [
       "array(['malignant', 'benign'], dtype='<U9')"
      ]
     },
     "execution_count": 5,
     "metadata": {},
     "output_type": "execute_result"
    }
   ],
   "source": [
    "data.target_names"
   ]
  },
  {
   "cell_type": "code",
   "execution_count": 6,
   "id": "f36c3b1b",
   "metadata": {},
   "outputs": [
    {
     "data": {
      "text/plain": [
       "array(['mean radius', 'mean texture', 'mean perimeter', 'mean area',\n",
       "       'mean smoothness', 'mean compactness', 'mean concavity',\n",
       "       'mean concave points', 'mean symmetry', 'mean fractal dimension',\n",
       "       'radius error', 'texture error', 'perimeter error', 'area error',\n",
       "       'smoothness error', 'compactness error', 'concavity error',\n",
       "       'concave points error', 'symmetry error',\n",
       "       'fractal dimension error', 'worst radius', 'worst texture',\n",
       "       'worst perimeter', 'worst area', 'worst smoothness',\n",
       "       'worst compactness', 'worst concavity', 'worst concave points',\n",
       "       'worst symmetry', 'worst fractal dimension'], dtype='<U23')"
      ]
     },
     "execution_count": 6,
     "metadata": {},
     "output_type": "execute_result"
    }
   ],
   "source": [
    "data.feature_names"
   ]
  },
  {
   "cell_type": "code",
   "execution_count": 7,
   "id": "fdcf8cb8",
   "metadata": {},
   "outputs": [],
   "source": [
    "x_train,x_test,y_train,y_test = train_test_split(data.data,data.target,test_size=0.3)\n",
    "N,D = x_train.shape"
   ]
  },
  {
   "cell_type": "code",
   "execution_count": 8,
   "id": "8dc2a176",
   "metadata": {},
   "outputs": [],
   "source": [
    "sc = StandardScaler()\n",
    "x_train = sc.fit_transform(x_train)\n",
    "x_test = sc.transform(x_test)"
   ]
  },
  {
   "cell_type": "code",
   "execution_count": 9,
   "id": "8afb3f36",
   "metadata": {},
   "outputs": [],
   "source": [
    "model = tf.keras.models.Sequential([\n",
    "        tf.keras.layers.Input(shape=(D,)),\n",
    "        tf.keras.layers.Dense(1,activation='sigmoid')\n",
    "])"
   ]
  },
  {
   "cell_type": "code",
   "execution_count": 10,
   "id": "b0e42eb0",
   "metadata": {},
   "outputs": [],
   "source": [
    "model.compile(optimizer='adam',\n",
    "              loss='binary_crossentropy',\n",
    "              metrics=tf.keras.metrics.AUC())"
   ]
  },
  {
   "cell_type": "code",
   "execution_count": 11,
   "id": "f33db282",
   "metadata": {},
   "outputs": [
    {
     "name": "stdout",
     "output_type": "stream",
     "text": [
      "Epoch 1/100\n",
      "13/13 [==============================] - 1s 17ms/step - loss: 0.4600 - auc: 0.8773 - val_loss: 0.4723 - val_auc: 0.8624\n",
      "Epoch 2/100\n",
      "13/13 [==============================] - 0s 2ms/step - loss: 0.4248 - auc: 0.9016 - val_loss: 0.4400 - val_auc: 0.8822\n",
      "Epoch 3/100\n",
      "13/13 [==============================] - 0s 2ms/step - loss: 0.3941 - auc: 0.9187 - val_loss: 0.4111 - val_auc: 0.9004\n",
      "Epoch 4/100\n",
      "13/13 [==============================] - 0s 3ms/step - loss: 0.3671 - auc: 0.9303 - val_loss: 0.3856 - val_auc: 0.9133\n",
      "Epoch 5/100\n",
      "13/13 [==============================] - 0s 2ms/step - loss: 0.3442 - auc: 0.9392 - val_loss: 0.3631 - val_auc: 0.9260\n",
      "Epoch 6/100\n",
      "13/13 [==============================] - 0s 3ms/step - loss: 0.3242 - auc: 0.9471 - val_loss: 0.3420 - val_auc: 0.9372\n",
      "Epoch 7/100\n",
      "13/13 [==============================] - 0s 2ms/step - loss: 0.3053 - auc: 0.9548 - val_loss: 0.3248 - val_auc: 0.9456\n",
      "Epoch 8/100\n",
      "13/13 [==============================] - 0s 3ms/step - loss: 0.2899 - auc: 0.9600 - val_loss: 0.3087 - val_auc: 0.9520\n",
      "Epoch 9/100\n",
      "13/13 [==============================] - 0s 2ms/step - loss: 0.2757 - auc: 0.9640 - val_loss: 0.2942 - val_auc: 0.9579\n",
      "Epoch 10/100\n",
      "13/13 [==============================] - 0s 3ms/step - loss: 0.2630 - auc: 0.9676 - val_loss: 0.2811 - val_auc: 0.9620\n",
      "Epoch 11/100\n",
      "13/13 [==============================] - 0s 3ms/step - loss: 0.2517 - auc: 0.9705 - val_loss: 0.2689 - val_auc: 0.9670\n",
      "Epoch 12/100\n",
      "13/13 [==============================] - 0s 3ms/step - loss: 0.2414 - auc: 0.9731 - val_loss: 0.2582 - val_auc: 0.9703\n",
      "Epoch 13/100\n",
      "13/13 [==============================] - 0s 2ms/step - loss: 0.2322 - auc: 0.9752 - val_loss: 0.2484 - val_auc: 0.9726\n",
      "Epoch 14/100\n",
      "13/13 [==============================] - 0s 3ms/step - loss: 0.2237 - auc: 0.9769 - val_loss: 0.2396 - val_auc: 0.9747\n",
      "Epoch 15/100\n",
      "13/13 [==============================] - 0s 2ms/step - loss: 0.2163 - auc: 0.9785 - val_loss: 0.2312 - val_auc: 0.9763\n",
      "Epoch 16/100\n",
      "13/13 [==============================] - 0s 2ms/step - loss: 0.2090 - auc: 0.9798 - val_loss: 0.2234 - val_auc: 0.9794\n",
      "Epoch 17/100\n",
      "13/13 [==============================] - 0s 2ms/step - loss: 0.2026 - auc: 0.9807 - val_loss: 0.2160 - val_auc: 0.9809\n",
      "Epoch 18/100\n",
      "13/13 [==============================] - 0s 2ms/step - loss: 0.1967 - auc: 0.9819 - val_loss: 0.2097 - val_auc: 0.9825\n",
      "Epoch 19/100\n",
      "13/13 [==============================] - 0s 2ms/step - loss: 0.1914 - auc: 0.9825 - val_loss: 0.2038 - val_auc: 0.9835\n",
      "Epoch 20/100\n",
      "13/13 [==============================] - 0s 3ms/step - loss: 0.1864 - auc: 0.9835 - val_loss: 0.1981 - val_auc: 0.9851\n",
      "Epoch 21/100\n",
      "13/13 [==============================] - 0s 3ms/step - loss: 0.1819 - auc: 0.9844 - val_loss: 0.1930 - val_auc: 0.9863\n",
      "Epoch 22/100\n",
      "13/13 [==============================] - 0s 2ms/step - loss: 0.1774 - auc: 0.9851 - val_loss: 0.1885 - val_auc: 0.9869\n",
      "Epoch 23/100\n",
      "13/13 [==============================] - 0s 2ms/step - loss: 0.1735 - auc: 0.9857 - val_loss: 0.1842 - val_auc: 0.9874\n",
      "Epoch 24/100\n",
      "13/13 [==============================] - 0s 3ms/step - loss: 0.1698 - auc: 0.9861 - val_loss: 0.1802 - val_auc: 0.9878\n",
      "Epoch 25/100\n",
      "13/13 [==============================] - 0s 2ms/step - loss: 0.1663 - auc: 0.9866 - val_loss: 0.1761 - val_auc: 0.9884\n",
      "Epoch 26/100\n",
      "13/13 [==============================] - 0s 2ms/step - loss: 0.1630 - auc: 0.9870 - val_loss: 0.1724 - val_auc: 0.9890\n",
      "Epoch 27/100\n",
      "13/13 [==============================] - 0s 2ms/step - loss: 0.1598 - auc: 0.9873 - val_loss: 0.1688 - val_auc: 0.9896\n",
      "Epoch 28/100\n",
      "13/13 [==============================] - 0s 2ms/step - loss: 0.1569 - auc: 0.9879 - val_loss: 0.1657 - val_auc: 0.9901\n",
      "Epoch 29/100\n",
      "13/13 [==============================] - 0s 2ms/step - loss: 0.1542 - auc: 0.9879 - val_loss: 0.1623 - val_auc: 0.9910\n",
      "Epoch 30/100\n",
      "13/13 [==============================] - 0s 2ms/step - loss: 0.1514 - auc: 0.9884 - val_loss: 0.1596 - val_auc: 0.9912\n",
      "Epoch 31/100\n",
      "13/13 [==============================] - 0s 2ms/step - loss: 0.1490 - auc: 0.9889 - val_loss: 0.1571 - val_auc: 0.9915\n",
      "Epoch 32/100\n",
      "13/13 [==============================] - 0s 2ms/step - loss: 0.1466 - auc: 0.9892 - val_loss: 0.1544 - val_auc: 0.9916\n",
      "Epoch 33/100\n",
      "13/13 [==============================] - 0s 2ms/step - loss: 0.1444 - auc: 0.9897 - val_loss: 0.1521 - val_auc: 0.9916\n",
      "Epoch 34/100\n",
      "13/13 [==============================] - 0s 2ms/step - loss: 0.1422 - auc: 0.9900 - val_loss: 0.1495 - val_auc: 0.9922\n",
      "Epoch 35/100\n",
      "13/13 [==============================] - 0s 2ms/step - loss: 0.1400 - auc: 0.9904 - val_loss: 0.1472 - val_auc: 0.9926\n",
      "Epoch 36/100\n",
      "13/13 [==============================] - 0s 2ms/step - loss: 0.1382 - auc: 0.9902 - val_loss: 0.1449 - val_auc: 0.9929\n",
      "Epoch 37/100\n",
      "13/13 [==============================] - 0s 2ms/step - loss: 0.1363 - auc: 0.9905 - val_loss: 0.1430 - val_auc: 0.9931\n",
      "Epoch 38/100\n",
      "13/13 [==============================] - 0s 3ms/step - loss: 0.1345 - auc: 0.9908 - val_loss: 0.1409 - val_auc: 0.9932\n",
      "Epoch 39/100\n",
      "13/13 [==============================] - 0s 2ms/step - loss: 0.1328 - auc: 0.9909 - val_loss: 0.1391 - val_auc: 0.9934\n",
      "Epoch 40/100\n",
      "13/13 [==============================] - 0s 2ms/step - loss: 0.1312 - auc: 0.9911 - val_loss: 0.1371 - val_auc: 0.9936\n",
      "Epoch 41/100\n",
      "13/13 [==============================] - 0s 2ms/step - loss: 0.1296 - auc: 0.9914 - val_loss: 0.1352 - val_auc: 0.9938\n",
      "Epoch 42/100\n",
      "13/13 [==============================] - 0s 2ms/step - loss: 0.1280 - auc: 0.9915 - val_loss: 0.1336 - val_auc: 0.9941\n",
      "Epoch 43/100\n",
      "13/13 [==============================] - 0s 2ms/step - loss: 0.1266 - auc: 0.9915 - val_loss: 0.1320 - val_auc: 0.9942\n",
      "Epoch 44/100\n",
      "13/13 [==============================] - 0s 2ms/step - loss: 0.1251 - auc: 0.9914 - val_loss: 0.1305 - val_auc: 0.9942\n",
      "Epoch 45/100\n",
      "13/13 [==============================] - 0s 2ms/step - loss: 0.1238 - auc: 0.9916 - val_loss: 0.1291 - val_auc: 0.9944\n",
      "Epoch 46/100\n",
      "13/13 [==============================] - 0s 2ms/step - loss: 0.1226 - auc: 0.9918 - val_loss: 0.1275 - val_auc: 0.9944\n",
      "Epoch 47/100\n",
      "13/13 [==============================] - 0s 2ms/step - loss: 0.1212 - auc: 0.9920 - val_loss: 0.1261 - val_auc: 0.9944\n",
      "Epoch 48/100\n",
      "13/13 [==============================] - 0s 2ms/step - loss: 0.1200 - auc: 0.9921 - val_loss: 0.1247 - val_auc: 0.9947\n",
      "Epoch 49/100\n",
      "13/13 [==============================] - 0s 2ms/step - loss: 0.1188 - auc: 0.9922 - val_loss: 0.1234 - val_auc: 0.9947\n",
      "Epoch 50/100\n",
      "13/13 [==============================] - 0s 2ms/step - loss: 0.1176 - auc: 0.9924 - val_loss: 0.1220 - val_auc: 0.9950\n",
      "Epoch 51/100\n",
      "13/13 [==============================] - 0s 2ms/step - loss: 0.1165 - auc: 0.9925 - val_loss: 0.1206 - val_auc: 0.9951\n",
      "Epoch 52/100\n",
      "13/13 [==============================] - 0s 2ms/step - loss: 0.1154 - auc: 0.9926 - val_loss: 0.1194 - val_auc: 0.9952\n",
      "Epoch 53/100\n",
      "13/13 [==============================] - 0s 2ms/step - loss: 0.1144 - auc: 0.9928 - val_loss: 0.1182 - val_auc: 0.9952\n",
      "Epoch 54/100\n",
      "13/13 [==============================] - 0s 2ms/step - loss: 0.1134 - auc: 0.9929 - val_loss: 0.1170 - val_auc: 0.9953\n",
      "Epoch 55/100\n",
      "13/13 [==============================] - 0s 2ms/step - loss: 0.1124 - auc: 0.9930 - val_loss: 0.1159 - val_auc: 0.9955\n",
      "Epoch 56/100\n",
      "13/13 [==============================] - 0s 2ms/step - loss: 0.1115 - auc: 0.9930 - val_loss: 0.1148 - val_auc: 0.9954\n",
      "Epoch 57/100\n",
      "13/13 [==============================] - 0s 2ms/step - loss: 0.1105 - auc: 0.9929 - val_loss: 0.1139 - val_auc: 0.9955\n",
      "Epoch 58/100\n",
      "13/13 [==============================] - 0s 2ms/step - loss: 0.1097 - auc: 0.9930 - val_loss: 0.1128 - val_auc: 0.9957\n",
      "Epoch 59/100\n",
      "13/13 [==============================] - 0s 2ms/step - loss: 0.1088 - auc: 0.9930 - val_loss: 0.1118 - val_auc: 0.9960\n",
      "Epoch 60/100\n",
      "13/13 [==============================] - 0s 2ms/step - loss: 0.1080 - auc: 0.9931 - val_loss: 0.1109 - val_auc: 0.9960\n",
      "Epoch 61/100\n",
      "13/13 [==============================] - 0s 2ms/step - loss: 0.1072 - auc: 0.9932 - val_loss: 0.1100 - val_auc: 0.9961\n",
      "Epoch 62/100\n",
      "13/13 [==============================] - 0s 2ms/step - loss: 0.1064 - auc: 0.9932 - val_loss: 0.1090 - val_auc: 0.9962\n",
      "Epoch 63/100\n"
     ]
    },
    {
     "name": "stdout",
     "output_type": "stream",
     "text": [
      "13/13 [==============================] - 0s 2ms/step - loss: 0.1056 - auc: 0.9932 - val_loss: 0.1082 - val_auc: 0.9962\n",
      "Epoch 64/100\n",
      "13/13 [==============================] - 0s 2ms/step - loss: 0.1049 - auc: 0.9933 - val_loss: 0.1074 - val_auc: 0.9962\n",
      "Epoch 65/100\n",
      "13/13 [==============================] - 0s 2ms/step - loss: 0.1041 - auc: 0.9934 - val_loss: 0.1067 - val_auc: 0.9964\n",
      "Epoch 66/100\n",
      "13/13 [==============================] - 0s 2ms/step - loss: 0.1034 - auc: 0.9935 - val_loss: 0.1058 - val_auc: 0.9965\n",
      "Epoch 67/100\n",
      "13/13 [==============================] - 0s 2ms/step - loss: 0.1027 - auc: 0.9936 - val_loss: 0.1051 - val_auc: 0.9967\n",
      "Epoch 68/100\n",
      "13/13 [==============================] - 0s 2ms/step - loss: 0.1021 - auc: 0.9936 - val_loss: 0.1044 - val_auc: 0.9968\n",
      "Epoch 69/100\n",
      "13/13 [==============================] - 0s 2ms/step - loss: 0.1014 - auc: 0.9937 - val_loss: 0.1036 - val_auc: 0.9969\n",
      "Epoch 70/100\n",
      "13/13 [==============================] - 0s 2ms/step - loss: 0.1007 - auc: 0.9938 - val_loss: 0.1029 - val_auc: 0.9970\n",
      "Epoch 71/100\n",
      "13/13 [==============================] - 0s 2ms/step - loss: 0.1001 - auc: 0.9938 - val_loss: 0.1023 - val_auc: 0.9969\n",
      "Epoch 72/100\n",
      "13/13 [==============================] - 0s 2ms/step - loss: 0.0995 - auc: 0.9940 - val_loss: 0.1017 - val_auc: 0.9970\n",
      "Epoch 73/100\n",
      "13/13 [==============================] - 0s 2ms/step - loss: 0.0989 - auc: 0.9940 - val_loss: 0.1009 - val_auc: 0.9970\n",
      "Epoch 74/100\n",
      "13/13 [==============================] - 0s 2ms/step - loss: 0.0983 - auc: 0.9941 - val_loss: 0.1002 - val_auc: 0.9970\n",
      "Epoch 75/100\n",
      "13/13 [==============================] - 0s 2ms/step - loss: 0.0977 - auc: 0.9937 - val_loss: 0.0996 - val_auc: 0.9970\n",
      "Epoch 76/100\n",
      "13/13 [==============================] - 0s 2ms/step - loss: 0.0971 - auc: 0.9938 - val_loss: 0.0989 - val_auc: 0.9970\n",
      "Epoch 77/100\n",
      "13/13 [==============================] - 0s 2ms/step - loss: 0.0965 - auc: 0.9938 - val_loss: 0.0984 - val_auc: 0.9970\n",
      "Epoch 78/100\n",
      "13/13 [==============================] - 0s 2ms/step - loss: 0.0960 - auc: 0.9939 - val_loss: 0.0978 - val_auc: 0.9970\n",
      "Epoch 79/100\n",
      "13/13 [==============================] - 0s 2ms/step - loss: 0.0955 - auc: 0.9940 - val_loss: 0.0971 - val_auc: 0.9970\n",
      "Epoch 80/100\n",
      "13/13 [==============================] - 0s 2ms/step - loss: 0.0949 - auc: 0.9940 - val_loss: 0.0966 - val_auc: 0.9970\n",
      "Epoch 81/100\n",
      "13/13 [==============================] - 0s 2ms/step - loss: 0.0944 - auc: 0.9941 - val_loss: 0.0960 - val_auc: 0.9971\n",
      "Epoch 82/100\n",
      "13/13 [==============================] - 0s 2ms/step - loss: 0.0939 - auc: 0.9942 - val_loss: 0.0955 - val_auc: 0.9971\n",
      "Epoch 83/100\n",
      "13/13 [==============================] - 0s 2ms/step - loss: 0.0934 - auc: 0.9942 - val_loss: 0.0948 - val_auc: 0.9971\n",
      "Epoch 84/100\n",
      "13/13 [==============================] - 0s 2ms/step - loss: 0.0929 - auc: 0.9943 - val_loss: 0.0943 - val_auc: 0.9971\n",
      "Epoch 85/100\n",
      "13/13 [==============================] - 0s 2ms/step - loss: 0.0924 - auc: 0.9943 - val_loss: 0.0939 - val_auc: 0.9973\n",
      "Epoch 86/100\n",
      "13/13 [==============================] - 0s 2ms/step - loss: 0.0920 - auc: 0.9944 - val_loss: 0.0933 - val_auc: 0.9974\n",
      "Epoch 87/100\n",
      "13/13 [==============================] - 0s 2ms/step - loss: 0.0916 - auc: 0.9945 - val_loss: 0.0927 - val_auc: 0.9973\n",
      "Epoch 88/100\n",
      "13/13 [==============================] - 0s 3ms/step - loss: 0.0911 - auc: 0.9945 - val_loss: 0.0924 - val_auc: 0.9974\n",
      "Epoch 89/100\n",
      "13/13 [==============================] - 0s 3ms/step - loss: 0.0907 - auc: 0.9946 - val_loss: 0.0919 - val_auc: 0.9974\n",
      "Epoch 90/100\n",
      "13/13 [==============================] - 0s 3ms/step - loss: 0.0902 - auc: 0.9946 - val_loss: 0.0913 - val_auc: 0.9974\n",
      "Epoch 91/100\n",
      "13/13 [==============================] - 0s 3ms/step - loss: 0.0898 - auc: 0.9946 - val_loss: 0.0909 - val_auc: 0.9974\n",
      "Epoch 92/100\n",
      "13/13 [==============================] - 0s 3ms/step - loss: 0.0894 - auc: 0.9947 - val_loss: 0.0904 - val_auc: 0.9974\n",
      "Epoch 93/100\n",
      "13/13 [==============================] - 0s 2ms/step - loss: 0.0890 - auc: 0.9948 - val_loss: 0.0899 - val_auc: 0.9974\n",
      "Epoch 94/100\n",
      "13/13 [==============================] - 0s 2ms/step - loss: 0.0885 - auc: 0.9948 - val_loss: 0.0895 - val_auc: 0.9974\n",
      "Epoch 95/100\n",
      "13/13 [==============================] - 0s 2ms/step - loss: 0.0882 - auc: 0.9948 - val_loss: 0.0891 - val_auc: 0.9974\n",
      "Epoch 96/100\n",
      "13/13 [==============================] - 0s 2ms/step - loss: 0.0877 - auc: 0.9948 - val_loss: 0.0887 - val_auc: 0.9974\n",
      "Epoch 97/100\n",
      "13/13 [==============================] - 0s 2ms/step - loss: 0.0873 - auc: 0.9948 - val_loss: 0.0884 - val_auc: 0.9974\n",
      "Epoch 98/100\n",
      "13/13 [==============================] - 0s 2ms/step - loss: 0.0870 - auc: 0.9949 - val_loss: 0.0879 - val_auc: 0.9974\n",
      "Epoch 99/100\n",
      "13/13 [==============================] - 0s 2ms/step - loss: 0.0866 - auc: 0.9949 - val_loss: 0.0874 - val_auc: 0.9974\n",
      "Epoch 100/100\n",
      "13/13 [==============================] - 0s 2ms/step - loss: 0.0862 - auc: 0.9950 - val_loss: 0.0871 - val_auc: 0.9974\n"
     ]
    }
   ],
   "source": [
    "r = model.fit(x_train,y_train,validation_data=(x_test,y_test),epochs=100)"
   ]
  },
  {
   "cell_type": "code",
   "execution_count": 12,
   "id": "f31973c2",
   "metadata": {},
   "outputs": [
    {
     "name": "stdout",
     "output_type": "stream",
     "text": [
      "13/13 [==============================] - 0s 751us/step - loss: 0.0860 - auc: 0.9950\n",
      "Train Score [0.08600889891386032, 0.9949581027030945]\n",
      "6/6 [==============================] - 0s 801us/step - loss: 0.0871 - auc: 0.9974\n",
      "Test Score [0.08707409352064133, 0.997402548789978]\n"
     ]
    }
   ],
   "source": [
    "print('Train Score',model.evaluate(x_train,y_train))\n",
    "print('Test Score',model.evaluate(x_test,y_test))"
   ]
  },
  {
   "cell_type": "code",
   "execution_count": 13,
   "id": "e778ad9d",
   "metadata": {},
   "outputs": [
    {
     "data": {
      "text/plain": [
       "<matplotlib.legend.Legend at 0x214cd54efd0>"
      ]
     },
     "execution_count": 13,
     "metadata": {},
     "output_type": "execute_result"
    },
    {
     "data": {
      "image/png": "[encoded data removed]",
      "text/plain": [
       "<Figure size 432x288 with 1 Axes>"
      ]
     },
     "metadata": {
      "needs_background": "light"
     },
     "output_type": "display_data"
    }
   ],
   "source": [
    "import matplotlib.pyplot as plt\n",
    "plt.plot(r.history['auc'],label='auc')\n",
    "plt.plot(r.history['val_auc'],label='val_auc')\n",
    "plt.legend()"
   ]
  },
  {
   "cell_type": "code",
   "execution_count": 14,
   "id": "24ff08cf",
   "metadata": {},
   "outputs": [
    {
     "name": "stdout",
     "output_type": "stream",
     "text": [
      "6/6 [==============================] - 0s 801us/step\n"
     ]
    }
   ],
   "source": [
    "P = model.predict(x_test)"
   ]
  },
  {
   "cell_type": "code",
   "execution_count": 15,
   "id": "84d2fd25",
   "metadata": {},
   "outputs": [
    {
     "data": {
      "text/plain": [
       "array([[9.70569253e-01],\n",
       "       [5.30478656e-01],\n",
       "       [9.93529081e-01],\n",
       "       [9.98736143e-01],\n",
       "       [9.94233847e-01],\n",
       "       [1.81599376e-06],\n",
       "       [9.90497530e-01],\n",
       "       [9.65961218e-01],\n",
       "       [9.83326018e-01],\n",
       "       [9.87659097e-01],\n",
       "       [9.98939693e-01],\n",
       "       [9.93361294e-01],\n",
       "       [9.95955467e-01],\n",
       "       [4.68080398e-04],\n",
       "       [5.66962183e-01],\n",
       "       [9.97108281e-01],\n",
       "       [2.08314268e-05],\n",
       "       [1.69326551e-03],\n",
       "       [9.93167937e-01],\n",
       "       [9.36214507e-01],\n",
       "       [1.20133394e-03],\n",
       "       [4.88219812e-04],\n",
       "       [9.97368455e-01],\n",
       "       [9.98899639e-01],\n",
       "       [9.99200046e-01],\n",
       "       [9.70237076e-01],\n",
       "       [7.98788108e-03],\n",
       "       [6.28286004e-02],\n",
       "       [9.94715214e-01],\n",
       "       [9.99083638e-01],\n",
       "       [9.95087564e-01],\n",
       "       [9.84003663e-01],\n",
       "       [9.47796524e-01],\n",
       "       [9.91440237e-01],\n",
       "       [9.81595993e-01],\n",
       "       [3.57752759e-03],\n",
       "       [9.48448181e-01],\n",
       "       [9.70930636e-01],\n",
       "       [7.97472179e-01],\n",
       "       [9.40628648e-01],\n",
       "       [4.27569635e-02],\n",
       "       [1.58059236e-03],\n",
       "       [9.83352482e-01],\n",
       "       [9.58492279e-01],\n",
       "       [1.67687051e-02],\n",
       "       [9.88130033e-01],\n",
       "       [9.99396682e-01],\n",
       "       [1.28387198e-01],\n",
       "       [9.68346417e-01],\n",
       "       [2.89284796e-01],\n",
       "       [9.41807926e-01],\n",
       "       [9.98103261e-01],\n",
       "       [6.30444661e-02],\n",
       "       [9.67045546e-01],\n",
       "       [1.03452010e-02],\n",
       "       [9.93976712e-01],\n",
       "       [5.81672339e-06],\n",
       "       [2.10495957e-04],\n",
       "       [9.90479410e-01],\n",
       "       [9.69704568e-01],\n",
       "       [2.89166749e-01],\n",
       "       [9.05113578e-01],\n",
       "       [9.97199893e-01],\n",
       "       [9.67216074e-01],\n",
       "       [8.75669122e-01],\n",
       "       [7.84278691e-01],\n",
       "       [9.99486804e-01],\n",
       "       [5.94369888e-01],\n",
       "       [1.67477295e-01],\n",
       "       [9.80878592e-01],\n",
       "       [1.58318356e-02],\n",
       "       [9.39202726e-01],\n",
       "       [8.99873137e-01],\n",
       "       [1.42537829e-04],\n",
       "       [9.77992415e-01],\n",
       "       [9.56686258e-01],\n",
       "       [2.34604448e-01],\n",
       "       [8.51193845e-01],\n",
       "       [7.50668860e-08],\n",
       "       [9.88410175e-01],\n",
       "       [9.88253772e-01],\n",
       "       [8.97444625e-06],\n",
       "       [4.56611597e-05],\n",
       "       [9.94877458e-01],\n",
       "       [1.06960637e-02],\n",
       "       [6.01631400e-05],\n",
       "       [9.95859683e-01],\n",
       "       [9.03656125e-01],\n",
       "       [2.07967514e-05],\n",
       "       [9.99648571e-01],\n",
       "       [4.22811462e-03],\n",
       "       [7.10707344e-03],\n",
       "       [9.99162257e-01],\n",
       "       [9.53108013e-01],\n",
       "       [9.93300378e-01],\n",
       "       [9.59447920e-01],\n",
       "       [9.96899486e-01],\n",
       "       [8.28649790e-04],\n",
       "       [9.85648274e-01],\n",
       "       [1.83360502e-01],\n",
       "       [9.24024045e-01],\n",
       "       [9.86675143e-01],\n",
       "       [9.99187112e-01],\n",
       "       [9.98985410e-01],\n",
       "       [9.98218775e-01],\n",
       "       [8.32185745e-01],\n",
       "       [5.23735862e-03],\n",
       "       [3.55821382e-03],\n",
       "       [9.91773009e-01],\n",
       "       [9.23491001e-01],\n",
       "       [9.73123789e-01],\n",
       "       [9.90772247e-01],\n",
       "       [9.99347985e-01],\n",
       "       [9.92747188e-01],\n",
       "       [6.55141398e-02],\n",
       "       [1.79256720e-03],\n",
       "       [1.75103366e-06],\n",
       "       [1.28859133e-01],\n",
       "       [6.19034946e-01],\n",
       "       [9.99903798e-01],\n",
       "       [9.98699665e-01],\n",
       "       [4.97793127e-03],\n",
       "       [9.98937905e-01],\n",
       "       [9.99592483e-01],\n",
       "       [4.70966643e-09],\n",
       "       [9.78940785e-01],\n",
       "       [2.52925791e-03],\n",
       "       [9.89178300e-01],\n",
       "       [9.53239322e-01],\n",
       "       [4.51292217e-01],\n",
       "       [5.46576921e-03],\n",
       "       [9.97410297e-01],\n",
       "       [5.64811693e-04],\n",
       "       [6.95470444e-05],\n",
       "       [9.95415151e-01],\n",
       "       [6.19892478e-01],\n",
       "       [9.89931405e-01],\n",
       "       [3.19661319e-01],\n",
       "       [1.11148745e-01],\n",
       "       [9.81353283e-01],\n",
       "       [8.85536790e-01],\n",
       "       [3.97489261e-04],\n",
       "       [9.09479737e-01],\n",
       "       [9.15841699e-01],\n",
       "       [2.48208106e-01],\n",
       "       [4.07459766e-01],\n",
       "       [9.66949761e-01],\n",
       "       [9.96085525e-01],\n",
       "       [9.99221742e-01],\n",
       "       [9.95891571e-01],\n",
       "       [6.45555481e-02],\n",
       "       [9.68854427e-01],\n",
       "       [1.14593521e-01],\n",
       "       [3.72713680e-06],\n",
       "       [9.90147531e-01],\n",
       "       [8.51214588e-01],\n",
       "       [2.17729844e-02],\n",
       "       [2.96641327e-03],\n",
       "       [1.29045628e-04],\n",
       "       [1.32042367e-03],\n",
       "       [9.49007511e-01],\n",
       "       [9.93172526e-01],\n",
       "       [1.03553973e-01],\n",
       "       [7.70078838e-01],\n",
       "       [9.90619659e-01],\n",
       "       [9.34314370e-01],\n",
       "       [9.77605224e-01],\n",
       "       [7.22947298e-05],\n",
       "       [9.99239862e-01],\n",
       "       [8.75443104e-04],\n",
       "       [1.42700419e-01]], dtype=float32)"
      ]
     },
     "execution_count": 15,
     "metadata": {},
     "output_type": "execute_result"
    }
   ],
   "source": [
    "P"
   ]
  },
  {
   "cell_type": "code",
   "execution_count": 16,
   "id": "3f94c7d3",
   "metadata": {},
   "outputs": [
    {
     "name": "stdout",
     "output_type": "stream",
     "text": [
      "[1. 1. 1. 1. 1. 0. 1. 1. 1. 1. 1. 1. 1. 0. 1. 1. 0. 0. 1. 1. 0. 0. 1. 1.\n",
      " 1. 1. 0. 0. 1. 1. 1. 1. 1. 1. 1. 0. 1. 1. 1. 1. 0. 0. 1. 1. 0. 1. 1. 0.\n",
      " 1. 0. 1. 1. 0. 1. 0. 1. 0. 0. 1. 1. 0. 1. 1. 1. 1. 1. 1. 1. 0. 1. 0. 1.\n",
      " 1. 0. 1. 1. 0. 1. 0. 1. 1. 0. 0. 1. 0. 0. 1. 1. 0. 1. 0. 0. 1. 1. 1. 1.\n",
      " 1. 0. 1. 0. 1. 1. 1. 1. 1. 1. 0. 0. 1. 1. 1. 1. 1. 1. 0. 0. 0. 0. 1. 1.\n",
      " 1. 0. 1. 1. 0. 1. 0. 1. 1. 0. 0. 1. 0. 0. 1. 1. 1. 0. 0. 1. 1. 0. 1. 1.\n",
      " 0. 0. 1. 1. 1. 1. 0. 1. 0. 0. 1. 1. 0. 0. 0. 0. 1. 1. 0. 1. 1. 1. 1. 0.\n",
      " 1. 0. 0.]\n"
     ]
    }
   ],
   "source": [
    "import numpy as np\n",
    "P = np.round(P).flatten()\n",
    "print(P)"
   ]
  },
  {
   "cell_type": "code",
   "execution_count": 17,
   "id": "4a399dd6",
   "metadata": {},
   "outputs": [
    {
     "name": "stdout",
     "output_type": "stream",
     "text": [
      "Manually Calculated Accuracy 0.9766081871345029\n"
     ]
    }
   ],
   "source": [
    "print(\"Manually Calculated Accuracy\",np.mean(P==y_test))"
   ]
  },
  {
   "cell_type": "code",
   "execution_count": 18,
   "id": "3f1dff6f",
   "metadata": {},
   "outputs": [
    {
     "name": "stdout",
     "output_type": "stream",
     "text": [
      "6/6 [==============================] - 0s 1ms/step - loss: 0.0871 - auc: 0.9974\n",
      "Model Calculated Accuracy [0.08707409352064133, 0.997402548789978]\n"
     ]
    }
   ],
   "source": [
    "print(\"Model Calculated Accuracy\",model.evaluate(x_test,y_test))"
   ]
  },
  {
   "cell_type": "markdown",
   "id": "75f54ae7",
   "metadata": {},
   "source": [
    "#### Model Save & Load"
   ]
  },
  {
   "cell_type": "code",
   "execution_count": 21,
   "id": "6c09ae66",
   "metadata": {},
   "outputs": [],
   "source": [
    "model.save('G:\\\\git\\\\deeplearning\\\\models\\\\deep_learning_classification.h5')"
   ]
  },
  {
   "cell_type": "code",
   "execution_count": 22,
   "id": "a40e2298",
   "metadata": {},
   "outputs": [],
   "source": [
    "model2 = tf.keras.models.load_model('G:\\\\git\\\\deeplearning\\\\models\\\\deep_learning_classification.h5')"
   ]
  },
  {
   "cell_type": "code",
   "execution_count": 23,
   "id": "9e11c6d2",
   "metadata": {},
   "outputs": [
    {
     "name": "stdout",
     "output_type": "stream",
     "text": [
      "Model: \"sequential\"\n",
      "_________________________________________________________________\n",
      " Layer (type)                Output Shape              Param #   \n",
      "=================================================================\n",
      " dense (Dense)               (None, 1)                 31        \n",
      "                                                                 \n",
      "=================================================================\n",
      "Total params: 31\n",
      "Trainable params: 31\n",
      "Non-trainable params: 0\n",
      "_________________________________________________________________\n"
     ]
    }
   ],
   "source": [
    "model2.summary()"
   ]
  }
 ],
 "metadata": {
  "kernelspec": {
   "display_name": "Python 3 (ipykernel)",
   "language": "python",
   "name": "python3"
  },
  "language_info": {
   "codemirror_mode": {
    "name": "ipython",
    "version": 3
   },
   "file_extension": ".py",
   "mimetype": "text/x-python",
   "name": "python",
   "nbconvert_exporter": "python",
   "pygments_lexer": "ipython3",
   "version": "3.9.12"
  }
 },
 "nbformat": 4,
 "nbformat_minor": 5
}

{
 "cells": [
  {
   "cell_type": "code",
   "execution_count": 1,
   "id": "c6b967bb",
   "metadata": {},
   "outputs": [],
   "source": [
    "import tensorflow as tf\n",
    "\n",
    "from sklearn.datasets import load_breast_cancer\n",
    "from sklearn.model_selection import train_test_split\n",
    "from sklearn.preprocessing import StandardScaler"
   ]
  },
  {
   "cell_type": "code",
   "execution_count": 4,
   "id": "d3bbd97c",
   "metadata": {},
   "outputs": [],
   "source": [
    "data = load_breast_cancer()"
   ]
  },
  {
   "cell_type": "code",
   "execution_count": 6,
   "id": "5c67583a",
   "metadata": {},
   "outputs": [
    {
     "data": {
      "text/plain": [
       "dict_keys(['data', 'target', 'frame', 'target_names', 'DESCR', 'feature_names', 'filename', 'data_module'])"
      ]
     },
     "execution_count": 6,
     "metadata": {},
     "output_type": "execute_result"
    }
   ],
   "source": [
    "data.keys()"
   ]
  },
  {
   "cell_type": "code",
   "execution_count": 9,
   "id": "b6a8228c",
   "metadata": {},
   "outputs": [
    {
     "data": {
      "text/plain": [
       "(569, 30)"
      ]
     },
     "execution_count": 9,
     "metadata": {},
     "output_type": "execute_result"
    }
   ],
   "source": [
    "data.data.shape"
   ]
  },
  {
   "cell_type": "code",
   "execution_count": 13,
   "id": "b1f14858",
   "metadata": {},
   "outputs": [
    {
     "data": {
      "text/plain": [
       "array(['malignant', 'benign'], dtype='<U9')"
      ]
     },
     "execution_count": 13,
     "metadata": {},
     "output_type": "execute_result"
    }
   ],
   "source": [
    "data.target_names"
   ]
  },
  {
   "cell_type": "code",
   "execution_count": 15,
   "id": "f36c3b1b",
   "metadata": {},
   "outputs": [
    {
     "data": {
      "text/plain": [
       "array(['mean radius', 'mean texture', 'mean perimeter', 'mean area',\n",
       "       'mean smoothness', 'mean compactness', 'mean concavity',\n",
       "       'mean concave points', 'mean symmetry', 'mean fractal dimension',\n",
       "       'radius error', 'texture error', 'perimeter error', 'area error',\n",
       "       'smoothness error', 'compactness error', 'concavity error',\n",
       "       'concave points error', 'symmetry error',\n",
       "       'fractal dimension error', 'worst radius', 'worst texture',\n",
       "       'worst perimeter', 'worst area', 'worst smoothness',\n",
       "       'worst compactness', 'worst concavity', 'worst concave points',\n",
       "       'worst symmetry', 'worst fractal dimension'], dtype='<U23')"
      ]
     },
     "execution_count": 15,
     "metadata": {},
     "output_type": "execute_result"
    }
   ],
   "source": [
    "data.feature_names"
   ]
  },
  {
   "cell_type": "code",
   "execution_count": 17,
   "id": "fdcf8cb8",
   "metadata": {},
   "outputs": [],
   "source": [
    "x_train,x_test,y_train,y_test = train_test_split(data.data,data.target,test_size=0.3)\n",
    "N,D = x_train.shape"
   ]
  },
  {
   "cell_type": "code",
   "execution_count": 20,
   "id": "8dc2a176",
   "metadata": {},
   "outputs": [],
   "source": [
    "sc = StandardScaler()\n",
    "x_train = sc.fit_transform(x_train)\n",
    "x_test = sc.transform(x_test)"
   ]
  },
  {
   "cell_type": "code",
   "execution_count": 28,
   "id": "8afb3f36",
   "metadata": {},
   "outputs": [],
   "source": [
    "model = tf.keras.models.Sequential([\n",
    "        tf.keras.layers.Input(shape=(D,)),\n",
    "        tf.keras.layers.Dense(1,activation='sigmoid')\n",
    "])"
   ]
  },
  {
   "cell_type": "code",
   "execution_count": 32,
   "id": "b0e42eb0",
   "metadata": {},
   "outputs": [],
   "source": [
    "model.compile(optimizer='adam',\n",
    "              loss='binary_crossentropy',\n",
    "              metrics=tf.keras.metrics.AUC())"
   ]
  },
  {
   "cell_type": "code",
   "execution_count": 36,
   "id": "f33db282",
   "metadata": {},
   "outputs": [
    {
     "name": "stdout",
     "output_type": "stream",
     "text": [
      "Epoch 1/100\n",
      "13/13 [==============================] - 0s 4ms/step - loss: 0.0845 - auc: 0.9960 - val_loss: 0.1253 - val_auc: 0.9902\n",
      "Epoch 2/100\n",
      "13/13 [==============================] - 0s 2ms/step - loss: 0.0840 - auc: 0.9960 - val_loss: 0.1247 - val_auc: 0.9904\n",
      "Epoch 3/100\n",
      "13/13 [==============================] - 0s 2ms/step - loss: 0.0835 - auc: 0.9960 - val_loss: 0.1242 - val_auc: 0.9905\n",
      "Epoch 4/100\n",
      "13/13 [==============================] - 0s 2ms/step - loss: 0.0829 - auc: 0.9961 - val_loss: 0.1237 - val_auc: 0.9907\n",
      "Epoch 5/100\n",
      "13/13 [==============================] - 0s 2ms/step - loss: 0.0824 - auc: 0.9961 - val_loss: 0.1232 - val_auc: 0.9907\n",
      "Epoch 6/100\n",
      "13/13 [==============================] - 0s 2ms/step - loss: 0.0820 - auc: 0.9962 - val_loss: 0.1227 - val_auc: 0.9908\n",
      "Epoch 7/100\n",
      "13/13 [==============================] - 0s 2ms/step - loss: 0.0815 - auc: 0.9962 - val_loss: 0.1222 - val_auc: 0.9908\n",
      "Epoch 8/100\n",
      "13/13 [==============================] - 0s 2ms/step - loss: 0.0811 - auc: 0.9962 - val_loss: 0.1218 - val_auc: 0.9908\n",
      "Epoch 9/100\n",
      "13/13 [==============================] - 0s 2ms/step - loss: 0.0806 - auc: 0.9962 - val_loss: 0.1214 - val_auc: 0.9908\n",
      "Epoch 10/100\n",
      "13/13 [==============================] - 0s 2ms/step - loss: 0.0801 - auc: 0.9962 - val_loss: 0.1209 - val_auc: 0.9908\n",
      "Epoch 11/100\n",
      "13/13 [==============================] - 0s 2ms/step - loss: 0.0797 - auc: 0.9962 - val_loss: 0.1204 - val_auc: 0.9908\n",
      "Epoch 12/100\n",
      "13/13 [==============================] - 0s 2ms/step - loss: 0.0793 - auc: 0.9963 - val_loss: 0.1201 - val_auc: 0.9908\n",
      "Epoch 13/100\n",
      "13/13 [==============================] - 0s 2ms/step - loss: 0.0789 - auc: 0.9963 - val_loss: 0.1195 - val_auc: 0.9909\n",
      "Epoch 14/100\n",
      "13/13 [==============================] - 0s 2ms/step - loss: 0.0784 - auc: 0.9963 - val_loss: 0.1190 - val_auc: 0.9910\n",
      "Epoch 15/100\n",
      "13/13 [==============================] - 0s 2ms/step - loss: 0.0780 - auc: 0.9963 - val_loss: 0.1187 - val_auc: 0.9909\n",
      "Epoch 16/100\n",
      "13/13 [==============================] - 0s 2ms/step - loss: 0.0776 - auc: 0.9963 - val_loss: 0.1182 - val_auc: 0.9910\n",
      "Epoch 17/100\n",
      "13/13 [==============================] - 0s 2ms/step - loss: 0.0772 - auc: 0.9962 - val_loss: 0.1178 - val_auc: 0.9910\n",
      "Epoch 18/100\n",
      "13/13 [==============================] - 0s 2ms/step - loss: 0.0769 - auc: 0.9962 - val_loss: 0.1175 - val_auc: 0.9910\n",
      "Epoch 19/100\n",
      "13/13 [==============================] - 0s 3ms/step - loss: 0.0765 - auc: 0.9962 - val_loss: 0.1172 - val_auc: 0.9911\n",
      "Epoch 20/100\n",
      "13/13 [==============================] - 0s 2ms/step - loss: 0.0762 - auc: 0.9962 - val_loss: 0.1168 - val_auc: 0.9908\n",
      "Epoch 21/100\n",
      "13/13 [==============================] - 0s 2ms/step - loss: 0.0758 - auc: 0.9962 - val_loss: 0.1165 - val_auc: 0.9910\n",
      "Epoch 22/100\n",
      "13/13 [==============================] - 0s 2ms/step - loss: 0.0754 - auc: 0.9962 - val_loss: 0.1161 - val_auc: 0.9913\n",
      "Epoch 23/100\n",
      "13/13 [==============================] - 0s 3ms/step - loss: 0.0751 - auc: 0.9963 - val_loss: 0.1157 - val_auc: 0.9914\n",
      "Epoch 24/100\n",
      "13/13 [==============================] - 0s 2ms/step - loss: 0.0747 - auc: 0.9963 - val_loss: 0.1154 - val_auc: 0.9915\n",
      "Epoch 25/100\n",
      "13/13 [==============================] - 0s 2ms/step - loss: 0.0744 - auc: 0.9963 - val_loss: 0.1152 - val_auc: 0.9913\n",
      "Epoch 26/100\n",
      "13/13 [==============================] - 0s 2ms/step - loss: 0.0741 - auc: 0.9963 - val_loss: 0.1149 - val_auc: 0.9915\n",
      "Epoch 27/100\n",
      "13/13 [==============================] - 0s 2ms/step - loss: 0.0738 - auc: 0.9963 - val_loss: 0.1146 - val_auc: 0.9916\n",
      "Epoch 28/100\n",
      "13/13 [==============================] - 0s 2ms/step - loss: 0.0735 - auc: 0.9963 - val_loss: 0.1142 - val_auc: 0.9916\n",
      "Epoch 29/100\n",
      "13/13 [==============================] - 0s 2ms/step - loss: 0.0732 - auc: 0.9964 - val_loss: 0.1139 - val_auc: 0.9917\n",
      "Epoch 30/100\n",
      "13/13 [==============================] - 0s 3ms/step - loss: 0.0728 - auc: 0.9964 - val_loss: 0.1136 - val_auc: 0.9917\n",
      "Epoch 31/100\n",
      "13/13 [==============================] - 0s 3ms/step - loss: 0.0726 - auc: 0.9964 - val_loss: 0.1133 - val_auc: 0.9917\n",
      "Epoch 32/100\n",
      "13/13 [==============================] - 0s 2ms/step - loss: 0.0722 - auc: 0.9964 - val_loss: 0.1130 - val_auc: 0.9917\n",
      "Epoch 33/100\n",
      "13/13 [==============================] - 0s 2ms/step - loss: 0.0720 - auc: 0.9965 - val_loss: 0.1126 - val_auc: 0.9917\n",
      "Epoch 34/100\n",
      "13/13 [==============================] - 0s 2ms/step - loss: 0.0717 - auc: 0.9965 - val_loss: 0.1123 - val_auc: 0.9917\n",
      "Epoch 35/100\n",
      "13/13 [==============================] - 0s 2ms/step - loss: 0.0714 - auc: 0.9965 - val_loss: 0.1120 - val_auc: 0.9918\n",
      "Epoch 36/100\n",
      "13/13 [==============================] - 0s 3ms/step - loss: 0.0711 - auc: 0.9965 - val_loss: 0.1118 - val_auc: 0.9919\n",
      "Epoch 37/100\n",
      "13/13 [==============================] - 0s 3ms/step - loss: 0.0709 - auc: 0.9965 - val_loss: 0.1114 - val_auc: 0.9919\n",
      "Epoch 38/100\n",
      "13/13 [==============================] - 0s 2ms/step - loss: 0.0706 - auc: 0.9965 - val_loss: 0.1111 - val_auc: 0.9920\n",
      "Epoch 39/100\n",
      "13/13 [==============================] - 0s 2ms/step - loss: 0.0704 - auc: 0.9965 - val_loss: 0.1108 - val_auc: 0.9921\n",
      "Epoch 40/100\n",
      "13/13 [==============================] - 0s 2ms/step - loss: 0.0701 - auc: 0.9964 - val_loss: 0.1105 - val_auc: 0.9920\n",
      "Epoch 41/100\n",
      "13/13 [==============================] - 0s 2ms/step - loss: 0.0699 - auc: 0.9964 - val_loss: 0.1102 - val_auc: 0.9920\n",
      "Epoch 42/100\n",
      "13/13 [==============================] - 0s 3ms/step - loss: 0.0696 - auc: 0.9964 - val_loss: 0.1100 - val_auc: 0.9921\n",
      "Epoch 43/100\n",
      "13/13 [==============================] - 0s 3ms/step - loss: 0.0694 - auc: 0.9964 - val_loss: 0.1098 - val_auc: 0.9920\n",
      "Epoch 44/100\n",
      "13/13 [==============================] - 0s 2ms/step - loss: 0.0691 - auc: 0.9964 - val_loss: 0.1096 - val_auc: 0.9922\n",
      "Epoch 45/100\n",
      "13/13 [==============================] - 0s 2ms/step - loss: 0.0689 - auc: 0.9964 - val_loss: 0.1094 - val_auc: 0.9921\n",
      "Epoch 46/100\n",
      "13/13 [==============================] - 0s 2ms/step - loss: 0.0687 - auc: 0.9964 - val_loss: 0.1091 - val_auc: 0.9922\n",
      "Epoch 47/100\n",
      "13/13 [==============================] - 0s 2ms/step - loss: 0.0685 - auc: 0.9964 - val_loss: 0.1090 - val_auc: 0.9923\n",
      "Epoch 48/100\n",
      "13/13 [==============================] - 0s 2ms/step - loss: 0.0682 - auc: 0.9965 - val_loss: 0.1087 - val_auc: 0.9922\n",
      "Epoch 49/100\n",
      "13/13 [==============================] - 0s 2ms/step - loss: 0.0680 - auc: 0.9965 - val_loss: 0.1085 - val_auc: 0.9922\n",
      "Epoch 50/100\n",
      "13/13 [==============================] - 0s 2ms/step - loss: 0.0678 - auc: 0.9964 - val_loss: 0.1083 - val_auc: 0.9922\n",
      "Epoch 51/100\n",
      "13/13 [==============================] - 0s 2ms/step - loss: 0.0676 - auc: 0.9965 - val_loss: 0.1080 - val_auc: 0.9922\n",
      "Epoch 52/100\n",
      "13/13 [==============================] - 0s 2ms/step - loss: 0.0674 - auc: 0.9965 - val_loss: 0.1078 - val_auc: 0.9922\n",
      "Epoch 53/100\n",
      "13/13 [==============================] - 0s 3ms/step - loss: 0.0671 - auc: 0.9965 - val_loss: 0.1076 - val_auc: 0.9923\n",
      "Epoch 54/100\n",
      "13/13 [==============================] - 0s 3ms/step - loss: 0.0670 - auc: 0.9965 - val_loss: 0.1073 - val_auc: 0.9923\n",
      "Epoch 55/100\n",
      "13/13 [==============================] - 0s 2ms/step - loss: 0.0668 - auc: 0.9965 - val_loss: 0.1071 - val_auc: 0.9923\n",
      "Epoch 56/100\n",
      "13/13 [==============================] - 0s 2ms/step - loss: 0.0665 - auc: 0.9965 - val_loss: 0.1069 - val_auc: 0.9922\n",
      "Epoch 57/100\n",
      "13/13 [==============================] - 0s 3ms/step - loss: 0.0664 - auc: 0.9965 - val_loss: 0.1067 - val_auc: 0.9922\n",
      "Epoch 58/100\n",
      "13/13 [==============================] - 0s 2ms/step - loss: 0.0661 - auc: 0.9966 - val_loss: 0.1066 - val_auc: 0.9924\n",
      "Epoch 59/100\n",
      "13/13 [==============================] - 0s 2ms/step - loss: 0.0660 - auc: 0.9966 - val_loss: 0.1064 - val_auc: 0.9924\n",
      "Epoch 60/100\n",
      "13/13 [==============================] - 0s 2ms/step - loss: 0.0658 - auc: 0.9967 - val_loss: 0.1062 - val_auc: 0.9925\n",
      "Epoch 61/100\n",
      "13/13 [==============================] - 0s 2ms/step - loss: 0.0656 - auc: 0.9967 - val_loss: 0.1061 - val_auc: 0.9924\n",
      "Epoch 62/100\n",
      "13/13 [==============================] - 0s 2ms/step - loss: 0.0654 - auc: 0.9966 - val_loss: 0.1060 - val_auc: 0.9924\n",
      "Epoch 63/100\n"
     ]
    },
    {
     "name": "stdout",
     "output_type": "stream",
     "text": [
      "13/13 [==============================] - 0s 2ms/step - loss: 0.0653 - auc: 0.9966 - val_loss: 0.1057 - val_auc: 0.9926\n",
      "Epoch 64/100\n",
      "13/13 [==============================] - 0s 2ms/step - loss: 0.0650 - auc: 0.9966 - val_loss: 0.1056 - val_auc: 0.9926\n",
      "Epoch 65/100\n",
      "13/13 [==============================] - 0s 2ms/step - loss: 0.0649 - auc: 0.9966 - val_loss: 0.1054 - val_auc: 0.9926\n",
      "Epoch 66/100\n",
      "13/13 [==============================] - 0s 2ms/step - loss: 0.0647 - auc: 0.9966 - val_loss: 0.1052 - val_auc: 0.9926\n",
      "Epoch 67/100\n",
      "13/13 [==============================] - 0s 2ms/step - loss: 0.0645 - auc: 0.9967 - val_loss: 0.1050 - val_auc: 0.9926\n",
      "Epoch 68/100\n",
      "13/13 [==============================] - 0s 2ms/step - loss: 0.0644 - auc: 0.9967 - val_loss: 0.1049 - val_auc: 0.9925\n",
      "Epoch 69/100\n",
      "13/13 [==============================] - 0s 2ms/step - loss: 0.0643 - auc: 0.9967 - val_loss: 0.1045 - val_auc: 0.9926\n",
      "Epoch 70/100\n",
      "13/13 [==============================] - 0s 2ms/step - loss: 0.0640 - auc: 0.9967 - val_loss: 0.1044 - val_auc: 0.9926\n",
      "Epoch 71/100\n",
      "13/13 [==============================] - 0s 2ms/step - loss: 0.0639 - auc: 0.9967 - val_loss: 0.1042 - val_auc: 0.9926\n",
      "Epoch 72/100\n",
      "13/13 [==============================] - 0s 2ms/step - loss: 0.0637 - auc: 0.9967 - val_loss: 0.1041 - val_auc: 0.9926\n",
      "Epoch 73/100\n",
      "13/13 [==============================] - 0s 3ms/step - loss: 0.0635 - auc: 0.9968 - val_loss: 0.1039 - val_auc: 0.9926\n",
      "Epoch 74/100\n",
      "13/13 [==============================] - 0s 3ms/step - loss: 0.0634 - auc: 0.9968 - val_loss: 0.1037 - val_auc: 0.9926\n",
      "Epoch 75/100\n",
      "13/13 [==============================] - 0s 2ms/step - loss: 0.0632 - auc: 0.9968 - val_loss: 0.1035 - val_auc: 0.9926\n",
      "Epoch 76/100\n",
      "13/13 [==============================] - 0s 3ms/step - loss: 0.0631 - auc: 0.9964 - val_loss: 0.1034 - val_auc: 0.9926\n",
      "Epoch 77/100\n",
      "13/13 [==============================] - 0s 2ms/step - loss: 0.0629 - auc: 0.9964 - val_loss: 0.1032 - val_auc: 0.9926\n",
      "Epoch 78/100\n",
      "13/13 [==============================] - 0s 2ms/step - loss: 0.0628 - auc: 0.9964 - val_loss: 0.1030 - val_auc: 0.9927\n",
      "Epoch 79/100\n",
      "13/13 [==============================] - 0s 3ms/step - loss: 0.0626 - auc: 0.9964 - val_loss: 0.1029 - val_auc: 0.9927\n",
      "Epoch 80/100\n",
      "13/13 [==============================] - 0s 3ms/step - loss: 0.0625 - auc: 0.9965 - val_loss: 0.1028 - val_auc: 0.9927\n",
      "Epoch 81/100\n",
      "13/13 [==============================] - 0s 2ms/step - loss: 0.0623 - auc: 0.9965 - val_loss: 0.1026 - val_auc: 0.9929\n",
      "Epoch 82/100\n",
      "13/13 [==============================] - 0s 2ms/step - loss: 0.0622 - auc: 0.9965 - val_loss: 0.1024 - val_auc: 0.9929\n",
      "Epoch 83/100\n",
      "13/13 [==============================] - 0s 2ms/step - loss: 0.0621 - auc: 0.9965 - val_loss: 0.1022 - val_auc: 0.9929\n",
      "Epoch 84/100\n",
      "13/13 [==============================] - 0s 2ms/step - loss: 0.0619 - auc: 0.9965 - val_loss: 0.1021 - val_auc: 0.9929\n",
      "Epoch 85/100\n",
      "13/13 [==============================] - 0s 3ms/step - loss: 0.0617 - auc: 0.9965 - val_loss: 0.1020 - val_auc: 0.9930\n",
      "Epoch 86/100\n",
      "13/13 [==============================] - 0s 3ms/step - loss: 0.0616 - auc: 0.9965 - val_loss: 0.1018 - val_auc: 0.9931\n",
      "Epoch 87/100\n",
      "13/13 [==============================] - 0s 2ms/step - loss: 0.0615 - auc: 0.9965 - val_loss: 0.1016 - val_auc: 0.9931\n",
      "Epoch 88/100\n",
      "13/13 [==============================] - 0s 2ms/step - loss: 0.0613 - auc: 0.9965 - val_loss: 0.1014 - val_auc: 0.9931\n",
      "Epoch 89/100\n",
      "13/13 [==============================] - 0s 2ms/step - loss: 0.0612 - auc: 0.9965 - val_loss: 0.1012 - val_auc: 0.9931\n",
      "Epoch 90/100\n",
      "13/13 [==============================] - 0s 3ms/step - loss: 0.0611 - auc: 0.9965 - val_loss: 0.1012 - val_auc: 0.9930\n",
      "Epoch 91/100\n",
      "13/13 [==============================] - 0s 2ms/step - loss: 0.0609 - auc: 0.9965 - val_loss: 0.1011 - val_auc: 0.9930\n",
      "Epoch 92/100\n",
      "13/13 [==============================] - 0s 3ms/step - loss: 0.0608 - auc: 0.9965 - val_loss: 0.1010 - val_auc: 0.9930\n",
      "Epoch 93/100\n",
      "13/13 [==============================] - 0s 2ms/step - loss: 0.0607 - auc: 0.9965 - val_loss: 0.1009 - val_auc: 0.9930\n",
      "Epoch 94/100\n",
      "13/13 [==============================] - 0s 3ms/step - loss: 0.0606 - auc: 0.9965 - val_loss: 0.1007 - val_auc: 0.9931\n",
      "Epoch 95/100\n",
      "13/13 [==============================] - 0s 3ms/step - loss: 0.0604 - auc: 0.9965 - val_loss: 0.1006 - val_auc: 0.9931\n",
      "Epoch 96/100\n",
      "13/13 [==============================] - 0s 2ms/step - loss: 0.0603 - auc: 0.9965 - val_loss: 0.1003 - val_auc: 0.9931\n",
      "Epoch 97/100\n",
      "13/13 [==============================] - 0s 2ms/step - loss: 0.0602 - auc: 0.9966 - val_loss: 0.1002 - val_auc: 0.9931\n",
      "Epoch 98/100\n",
      "13/13 [==============================] - 0s 2ms/step - loss: 0.0601 - auc: 0.9966 - val_loss: 0.1001 - val_auc: 0.9931\n",
      "Epoch 99/100\n",
      "13/13 [==============================] - 0s 2ms/step - loss: 0.0599 - auc: 0.9966 - val_loss: 0.1000 - val_auc: 0.9931\n",
      "Epoch 100/100\n",
      "13/13 [==============================] - 0s 2ms/step - loss: 0.0598 - auc: 0.9966 - val_loss: 0.0999 - val_auc: 0.9931\n"
     ]
    }
   ],
   "source": [
    "r = model.fit(x_train,y_train,validation_data=(x_test,y_test),epochs=100)"
   ]
  },
  {
   "cell_type": "code",
   "execution_count": 37,
   "id": "f31973c2",
   "metadata": {},
   "outputs": [
    {
     "name": "stdout",
     "output_type": "stream",
     "text": [
      "13/13 [==============================] - 0s 834us/step - loss: 0.0597 - auc: 0.9966\n",
      "Train Score [0.059718649834394455, 0.9965929388999939]\n",
      "6/6 [==============================] - 0s 801us/step - loss: 0.0999 - auc: 0.9931\n",
      "Test Score [0.09986428171396255, 0.9931372404098511]\n"
     ]
    }
   ],
   "source": [
    "print('Train Score',model.evaluate(x_train,y_train))\n",
    "print('Test Score',model.evaluate(x_test,y_test))"
   ]
  },
  {
   "cell_type": "code",
   "execution_count": 38,
   "id": "e778ad9d",
   "metadata": {},
   "outputs": [
    {
     "data": {
      "text/plain": [
       "<matplotlib.legend.Legend at 0x1f4a7f9e760>"
      ]
     },
     "execution_count": 38,
     "metadata": {},
     "output_type": "execute_result"
    },
    {
     "data": {
      "image/png": "[encoded data removed]",
      "text/plain": [
       "<Figure size 432x288 with 1 Axes>"
      ]
     },
     "metadata": {
      "needs_background": "light"
     },
     "output_type": "display_data"
    }
   ],
   "source": [
    "import matplotlib.pyplot as plt\n",
    "plt.plot(r.history['auc'],label='auc')\n",
    "plt.plot(r.history['val_auc'],label='val_auc')\n",
    "plt.legend()"
   ]
  },
  {
   "cell_type": "code",
   "execution_count": null,
   "id": "24ff08cf",
   "metadata": {},
   "outputs": [],
   "source": []
  }
 ],
 "metadata": {
  "kernelspec": {
   "display_name": "Python 3 (ipykernel)",
   "language": "python",
   "name": "python3"
  },
  "language_info": {
   "codemirror_mode": {
    "name": "ipython",
    "version": 3
   },
   "file_extension": ".py",
   "mimetype": "text/x-python",
   "name": "python",
   "nbconvert_exporter": "python",
   "pygments_lexer": "ipython3",
   "version": "3.9.12"
  }
 },
 "nbformat": 4,
 "nbformat_minor": 5
}

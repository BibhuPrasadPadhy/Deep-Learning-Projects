{
 "cells": [
  {
   "cell_type": "code",
   "execution_count": 1,
   "id": "34660b58",
   "metadata": {},
   "outputs": [],
   "source": [
    "import tensorflow as tf\n",
    "\n",
    "from sklearn.datasets import load_breast_cancer\n",
    "from sklearn.model_selection import train_test_split\n",
    "from sklearn.preprocessing import StandardScaler\n",
    "\n",
    "import pandas as pd\n",
    "import numpy as np\n",
    "import matplotlib.pyplot as plt\n",
    "\n",
    "from sklearn.datasets import load_boston\n",
    "import warnings\n",
    "warnings.filterwarnings('ignore')"
   ]
  },
  {
   "cell_type": "markdown",
   "id": "74a954bc",
   "metadata": {},
   "source": [
    "#### Load in the dataaset"
   ]
  },
  {
   "cell_type": "code",
   "execution_count": 4,
   "id": "60e8cc88",
   "metadata": {},
   "outputs": [],
   "source": [
    "df = load_boston()"
   ]
  },
  {
   "cell_type": "markdown",
   "id": "67c59182",
   "metadata": {},
   "source": [
    "#### Train - Test Split"
   ]
  },
  {
   "cell_type": "code",
   "execution_count": 6,
   "id": "e2057d43",
   "metadata": {},
   "outputs": [],
   "source": [
    "x_train,x_test,y_train,y_test = train_test_split(df.data,df.target,test_size=0.2)\n",
    "N,D = x_train.shape"
   ]
  },
  {
   "cell_type": "markdown",
   "id": "6437b964",
   "metadata": {},
   "source": [
    "#### Scaling is needed for gradient descent to perform faster"
   ]
  },
  {
   "cell_type": "code",
   "execution_count": 8,
   "id": "e103b6a3",
   "metadata": {},
   "outputs": [],
   "source": [
    "sc = StandardScaler()\n",
    "x_train = sc.fit_transform(x_train)\n",
    "x_test = sc.transform(x_test)"
   ]
  },
  {
   "cell_type": "markdown",
   "id": "c9708a3a",
   "metadata": {},
   "source": [
    "#### Create Sequential Model Object and call the compile function to compile it."
   ]
  },
  {
   "cell_type": "code",
   "execution_count": 9,
   "id": "5e3b5bbb",
   "metadata": {},
   "outputs": [],
   "source": [
    "model = tf.keras.models.Sequential([\n",
    "    tf.keras.layers.Input(shape=(D,)),\n",
    "    tf.keras.layers.Dense(1)    \n",
    "])\n",
    "\n",
    "\n",
    "model.compile(optimizer=tf.keras.optimizers.SGD(0.001,0.9),\n",
    "              loss = 'mse')"
   ]
  },
  {
   "cell_type": "markdown",
   "id": "c819e158",
   "metadata": {},
   "source": [
    "#### Learning Rate Scheduler"
   ]
  },
  {
   "cell_type": "code",
   "execution_count": 13,
   "id": "adeb9d79",
   "metadata": {},
   "outputs": [],
   "source": [
    "def schedule(epochs,lr):\n",
    "    if epochs > 50:\n",
    "        return 0.0001\n",
    "    else:\n",
    "        return 0.001\n",
    "    \n",
    "scheduler = tf.keras.callbacks.LearningRateScheduler(schedule)"
   ]
  },
  {
   "cell_type": "markdown",
   "id": "c2fd90ae",
   "metadata": {},
   "source": [
    "#### Model Fit with epochs = 100 & callbacks = learning rate scheduler object"
   ]
  },
  {
   "cell_type": "code",
   "execution_count": 15,
   "id": "78dd321d",
   "metadata": {},
   "outputs": [
    {
     "name": "stdout",
     "output_type": "stream",
     "text": [
      "Epoch 1/100\n",
      "13/13 [==============================] - 0s 4ms/step - loss: 21.7208 - val_loss: 23.9583 - lr: 0.0010\n",
      "Epoch 2/100\n",
      "13/13 [==============================] - 0s 2ms/step - loss: 21.7217 - val_loss: 23.9568 - lr: 0.0010\n",
      "Epoch 3/100\n",
      "13/13 [==============================] - 0s 2ms/step - loss: 21.7292 - val_loss: 23.9558 - lr: 0.0010\n",
      "Epoch 4/100\n",
      "13/13 [==============================] - 0s 2ms/step - loss: 21.7323 - val_loss: 23.9537 - lr: 0.0010\n",
      "Epoch 5/100\n",
      "13/13 [==============================] - 0s 2ms/step - loss: 21.7164 - val_loss: 23.9564 - lr: 0.0010\n",
      "Epoch 6/100\n",
      "13/13 [==============================] - 0s 2ms/step - loss: 21.7120 - val_loss: 23.9564 - lr: 0.0010\n",
      "Epoch 7/100\n",
      "13/13 [==============================] - 0s 2ms/step - loss: 21.7296 - val_loss: 23.9527 - lr: 0.0010\n",
      "Epoch 8/100\n",
      "13/13 [==============================] - 0s 2ms/step - loss: 21.7193 - val_loss: 23.9555 - lr: 0.0010\n",
      "Epoch 9/100\n",
      "13/13 [==============================] - 0s 2ms/step - loss: 21.7232 - val_loss: 23.9530 - lr: 0.0010\n",
      "Epoch 10/100\n",
      "13/13 [==============================] - 0s 2ms/step - loss: 21.7253 - val_loss: 23.9493 - lr: 0.0010\n",
      "Epoch 11/100\n",
      "13/13 [==============================] - 0s 2ms/step - loss: 21.7178 - val_loss: 23.9486 - lr: 0.0010\n",
      "Epoch 12/100\n",
      "13/13 [==============================] - 0s 2ms/step - loss: 21.7163 - val_loss: 23.9507 - lr: 0.0010\n",
      "Epoch 13/100\n",
      "13/13 [==============================] - 0s 2ms/step - loss: 21.7171 - val_loss: 23.9500 - lr: 0.0010\n",
      "Epoch 14/100\n",
      "13/13 [==============================] - 0s 2ms/step - loss: 21.7231 - val_loss: 23.9458 - lr: 0.0010\n",
      "Epoch 15/100\n",
      "13/13 [==============================] - 0s 2ms/step - loss: 21.7132 - val_loss: 23.9459 - lr: 0.0010\n",
      "Epoch 16/100\n",
      "13/13 [==============================] - 0s 2ms/step - loss: 21.7171 - val_loss: 23.9459 - lr: 0.0010\n",
      "Epoch 17/100\n",
      "13/13 [==============================] - 0s 2ms/step - loss: 21.7249 - val_loss: 23.9477 - lr: 0.0010\n",
      "Epoch 18/100\n",
      "13/13 [==============================] - 0s 2ms/step - loss: 21.7238 - val_loss: 23.9562 - lr: 0.0010\n",
      "Epoch 19/100\n",
      "13/13 [==============================] - 0s 2ms/step - loss: 21.7197 - val_loss: 23.9561 - lr: 0.0010\n",
      "Epoch 20/100\n",
      "13/13 [==============================] - 0s 2ms/step - loss: 21.7207 - val_loss: 23.9567 - lr: 0.0010\n",
      "Epoch 21/100\n",
      "13/13 [==============================] - 0s 2ms/step - loss: 21.7243 - val_loss: 23.9653 - lr: 0.0010\n",
      "Epoch 22/100\n",
      "13/13 [==============================] - 0s 2ms/step - loss: 21.7194 - val_loss: 23.9674 - lr: 0.0010\n",
      "Epoch 23/100\n",
      "13/13 [==============================] - 0s 2ms/step - loss: 21.7124 - val_loss: 23.9664 - lr: 0.0010\n",
      "Epoch 24/100\n",
      "13/13 [==============================] - 0s 2ms/step - loss: 21.7144 - val_loss: 23.9623 - lr: 0.0010\n",
      "Epoch 25/100\n",
      "13/13 [==============================] - 0s 2ms/step - loss: 21.7218 - val_loss: 23.9625 - lr: 0.0010\n",
      "Epoch 26/100\n",
      "13/13 [==============================] - 0s 2ms/step - loss: 21.7146 - val_loss: 23.9615 - lr: 0.0010\n",
      "Epoch 27/100\n",
      "13/13 [==============================] - 0s 2ms/step - loss: 21.7163 - val_loss: 23.9602 - lr: 0.0010\n",
      "Epoch 28/100\n",
      "13/13 [==============================] - 0s 2ms/step - loss: 21.7196 - val_loss: 23.9536 - lr: 0.0010\n",
      "Epoch 29/100\n",
      "13/13 [==============================] - 0s 2ms/step - loss: 21.7202 - val_loss: 23.9540 - lr: 0.0010\n",
      "Epoch 30/100\n",
      "13/13 [==============================] - 0s 2ms/step - loss: 21.7154 - val_loss: 23.9565 - lr: 0.0010\n",
      "Epoch 31/100\n",
      "13/13 [==============================] - 0s 2ms/step - loss: 21.7192 - val_loss: 23.9562 - lr: 0.0010\n",
      "Epoch 32/100\n",
      "13/13 [==============================] - 0s 2ms/step - loss: 21.7128 - val_loss: 23.9553 - lr: 0.0010\n",
      "Epoch 33/100\n",
      "13/13 [==============================] - 0s 2ms/step - loss: 21.7142 - val_loss: 23.9577 - lr: 0.0010\n",
      "Epoch 34/100\n",
      "13/13 [==============================] - 0s 3ms/step - loss: 21.7133 - val_loss: 23.9587 - lr: 0.0010\n",
      "Epoch 35/100\n",
      "13/13 [==============================] - 0s 2ms/step - loss: 21.7115 - val_loss: 23.9575 - lr: 0.0010\n",
      "Epoch 36/100\n",
      "13/13 [==============================] - 0s 2ms/step - loss: 21.7125 - val_loss: 23.9600 - lr: 0.0010\n",
      "Epoch 37/100\n",
      "13/13 [==============================] - 0s 2ms/step - loss: 21.7187 - val_loss: 23.9653 - lr: 0.0010\n",
      "Epoch 38/100\n",
      "13/13 [==============================] - 0s 2ms/step - loss: 21.7124 - val_loss: 23.9653 - lr: 0.0010\n",
      "Epoch 39/100\n",
      "13/13 [==============================] - 0s 2ms/step - loss: 21.7202 - val_loss: 23.9651 - lr: 0.0010\n",
      "Epoch 40/100\n",
      "13/13 [==============================] - 0s 2ms/step - loss: 21.7118 - val_loss: 23.9594 - lr: 0.0010\n",
      "Epoch 41/100\n",
      "13/13 [==============================] - 0s 2ms/step - loss: 21.7142 - val_loss: 23.9531 - lr: 0.0010\n",
      "Epoch 42/100\n",
      "13/13 [==============================] - 0s 2ms/step - loss: 21.7211 - val_loss: 23.9519 - lr: 0.0010\n",
      "Epoch 43/100\n",
      "13/13 [==============================] - 0s 2ms/step - loss: 21.7188 - val_loss: 23.9494 - lr: 0.0010\n",
      "Epoch 44/100\n",
      "13/13 [==============================] - 0s 2ms/step - loss: 21.7173 - val_loss: 23.9475 - lr: 0.0010\n",
      "Epoch 45/100\n",
      "13/13 [==============================] - 0s 2ms/step - loss: 21.7136 - val_loss: 23.9503 - lr: 0.0010\n",
      "Epoch 46/100\n",
      "13/13 [==============================] - 0s 2ms/step - loss: 21.7172 - val_loss: 23.9445 - lr: 0.0010\n",
      "Epoch 47/100\n",
      "13/13 [==============================] - 0s 3ms/step - loss: 21.7134 - val_loss: 23.9412 - lr: 0.0010\n",
      "Epoch 48/100\n",
      "13/13 [==============================] - 0s 2ms/step - loss: 21.7175 - val_loss: 23.9419 - lr: 0.0010\n",
      "Epoch 49/100\n",
      "13/13 [==============================] - 0s 2ms/step - loss: 21.7226 - val_loss: 23.9438 - lr: 0.0010\n",
      "Epoch 50/100\n",
      "13/13 [==============================] - 0s 2ms/step - loss: 21.7095 - val_loss: 23.9481 - lr: 0.0010\n",
      "Epoch 51/100\n",
      "13/13 [==============================] - 0s 2ms/step - loss: 21.7123 - val_loss: 23.9508 - lr: 0.0010\n",
      "Epoch 52/100\n",
      "13/13 [==============================] - 0s 2ms/step - loss: 21.6975 - val_loss: 23.9510 - lr: 1.0000e-04\n",
      "Epoch 53/100\n",
      "13/13 [==============================] - 0s 2ms/step - loss: 21.6976 - val_loss: 23.9503 - lr: 1.0000e-04\n",
      "Epoch 54/100\n",
      "13/13 [==============================] - 0s 2ms/step - loss: 21.6967 - val_loss: 23.9511 - lr: 1.0000e-04\n",
      "Epoch 55/100\n",
      "13/13 [==============================] - 0s 2ms/step - loss: 21.6972 - val_loss: 23.9514 - lr: 1.0000e-04\n",
      "Epoch 56/100\n",
      "13/13 [==============================] - 0s 2ms/step - loss: 21.6977 - val_loss: 23.9516 - lr: 1.0000e-04\n",
      "Epoch 57/100\n",
      "13/13 [==============================] - 0s 2ms/step - loss: 21.6975 - val_loss: 23.9514 - lr: 1.0000e-04\n",
      "Epoch 58/100\n",
      "13/13 [==============================] - 0s 2ms/step - loss: 21.6971 - val_loss: 23.9515 - lr: 1.0000e-04\n",
      "Epoch 59/100\n",
      "13/13 [==============================] - 0s 2ms/step - loss: 21.6968 - val_loss: 23.9510 - lr: 1.0000e-04\n",
      "Epoch 60/100\n",
      "13/13 [==============================] - 0s 2ms/step - loss: 21.6972 - val_loss: 23.9514 - lr: 1.0000e-04\n",
      "Epoch 61/100\n",
      "13/13 [==============================] - 0s 2ms/step - loss: 21.6971 - val_loss: 23.9513 - lr: 1.0000e-04\n",
      "Epoch 62/100\n",
      "13/13 [==============================] - 0s 2ms/step - loss: 21.6963 - val_loss: 23.9512 - lr: 1.0000e-04\n",
      "Epoch 63/100\n",
      "13/13 [==============================] - 0s 2ms/step - loss: 21.6964 - val_loss: 23.9513 - lr: 1.0000e-04\n",
      "Epoch 64/100\n",
      "13/13 [==============================] - 0s 2ms/step - loss: 21.6968 - val_loss: 23.9519 - lr: 1.0000e-04\n",
      "Epoch 65/100\n",
      "13/13 [==============================] - 0s 2ms/step - loss: 21.6975 - val_loss: 23.9519 - lr: 1.0000e-04\n",
      "Epoch 66/100\n",
      "13/13 [==============================] - 0s 2ms/step - loss: 21.6969 - val_loss: 23.9523 - lr: 1.0000e-04\n",
      "Epoch 67/100\n",
      "13/13 [==============================] - 0s 2ms/step - loss: 21.6978 - val_loss: 23.9524 - lr: 1.0000e-04\n",
      "Epoch 68/100\n",
      "13/13 [==============================] - 0s 2ms/step - loss: 21.6968 - val_loss: 23.9528 - lr: 1.0000e-04\n",
      "Epoch 69/100\n",
      "13/13 [==============================] - 0s 2ms/step - loss: 21.6964 - val_loss: 23.9526 - lr: 1.0000e-04\n",
      "Epoch 70/100\n",
      "13/13 [==============================] - 0s 2ms/step - loss: 21.6969 - val_loss: 23.9525 - lr: 1.0000e-04\n",
      "Epoch 71/100\n"
     ]
    },
    {
     "name": "stdout",
     "output_type": "stream",
     "text": [
      "13/13 [==============================] - 0s 2ms/step - loss: 21.6970 - val_loss: 23.9525 - lr: 1.0000e-04\n",
      "Epoch 72/100\n",
      "13/13 [==============================] - 0s 2ms/step - loss: 21.6959 - val_loss: 23.9534 - lr: 1.0000e-04\n",
      "Epoch 73/100\n",
      "13/13 [==============================] - 0s 2ms/step - loss: 21.6961 - val_loss: 23.9531 - lr: 1.0000e-04\n",
      "Epoch 74/100\n",
      "13/13 [==============================] - 0s 2ms/step - loss: 21.6969 - val_loss: 23.9527 - lr: 1.0000e-04\n",
      "Epoch 75/100\n",
      "13/13 [==============================] - 0s 2ms/step - loss: 21.6968 - val_loss: 23.9525 - lr: 1.0000e-04\n",
      "Epoch 76/100\n",
      "13/13 [==============================] - 0s 2ms/step - loss: 21.6969 - val_loss: 23.9527 - lr: 1.0000e-04\n",
      "Epoch 77/100\n",
      "13/13 [==============================] - 0s 2ms/step - loss: 21.6970 - val_loss: 23.9524 - lr: 1.0000e-04\n",
      "Epoch 78/100\n",
      "13/13 [==============================] - 0s 2ms/step - loss: 21.6967 - val_loss: 23.9521 - lr: 1.0000e-04\n",
      "Epoch 79/100\n",
      "13/13 [==============================] - 0s 2ms/step - loss: 21.6978 - val_loss: 23.9517 - lr: 1.0000e-04\n",
      "Epoch 80/100\n",
      "13/13 [==============================] - 0s 2ms/step - loss: 21.6966 - val_loss: 23.9517 - lr: 1.0000e-04\n",
      "Epoch 81/100\n",
      "13/13 [==============================] - 0s 2ms/step - loss: 21.6967 - val_loss: 23.9516 - lr: 1.0000e-04\n",
      "Epoch 82/100\n",
      "13/13 [==============================] - 0s 2ms/step - loss: 21.6964 - val_loss: 23.9515 - lr: 1.0000e-04\n",
      "Epoch 83/100\n",
      "13/13 [==============================] - 0s 2ms/step - loss: 21.6974 - val_loss: 23.9515 - lr: 1.0000e-04\n",
      "Epoch 84/100\n",
      "13/13 [==============================] - 0s 2ms/step - loss: 21.6961 - val_loss: 23.9514 - lr: 1.0000e-04\n",
      "Epoch 85/100\n",
      "13/13 [==============================] - 0s 2ms/step - loss: 21.6962 - val_loss: 23.9512 - lr: 1.0000e-04\n",
      "Epoch 86/100\n",
      "13/13 [==============================] - 0s 2ms/step - loss: 21.6968 - val_loss: 23.9512 - lr: 1.0000e-04\n",
      "Epoch 87/100\n",
      "13/13 [==============================] - 0s 2ms/step - loss: 21.6964 - val_loss: 23.9512 - lr: 1.0000e-04\n",
      "Epoch 88/100\n",
      "13/13 [==============================] - 0s 2ms/step - loss: 21.6969 - val_loss: 23.9510 - lr: 1.0000e-04\n",
      "Epoch 89/100\n",
      "13/13 [==============================] - 0s 2ms/step - loss: 21.6961 - val_loss: 23.9507 - lr: 1.0000e-04\n",
      "Epoch 90/100\n",
      "13/13 [==============================] - 0s 2ms/step - loss: 21.6971 - val_loss: 23.9507 - lr: 1.0000e-04\n",
      "Epoch 91/100\n",
      "13/13 [==============================] - 0s 2ms/step - loss: 21.6964 - val_loss: 23.9506 - lr: 1.0000e-04\n",
      "Epoch 92/100\n",
      "13/13 [==============================] - 0s 2ms/step - loss: 21.6967 - val_loss: 23.9503 - lr: 1.0000e-04\n",
      "Epoch 93/100\n",
      "13/13 [==============================] - 0s 2ms/step - loss: 21.6965 - val_loss: 23.9504 - lr: 1.0000e-04\n",
      "Epoch 94/100\n",
      "13/13 [==============================] - 0s 2ms/step - loss: 21.6965 - val_loss: 23.9504 - lr: 1.0000e-04\n",
      "Epoch 95/100\n",
      "13/13 [==============================] - 0s 2ms/step - loss: 21.6964 - val_loss: 23.9504 - lr: 1.0000e-04\n",
      "Epoch 96/100\n",
      "13/13 [==============================] - 0s 2ms/step - loss: 21.6969 - val_loss: 23.9503 - lr: 1.0000e-04\n",
      "Epoch 97/100\n",
      "13/13 [==============================] - 0s 2ms/step - loss: 21.6970 - val_loss: 23.9502 - lr: 1.0000e-04\n",
      "Epoch 98/100\n",
      "13/13 [==============================] - 0s 2ms/step - loss: 21.6959 - val_loss: 23.9502 - lr: 1.0000e-04\n",
      "Epoch 99/100\n",
      "13/13 [==============================] - 0s 2ms/step - loss: 21.6965 - val_loss: 23.9500 - lr: 1.0000e-04\n",
      "Epoch 100/100\n",
      "13/13 [==============================] - 0s 2ms/step - loss: 21.6963 - val_loss: 23.9499 - lr: 1.0000e-04\n"
     ]
    }
   ],
   "source": [
    "r = model.fit(x_train,y_train,validation_data=(x_test,y_test),epochs=100,callbacks=scheduler)"
   ]
  },
  {
   "cell_type": "code",
   "execution_count": 17,
   "id": "cd05b1ab",
   "metadata": {},
   "outputs": [
    {
     "data": {
      "text/plain": [
       "<matplotlib.legend.Legend at 0x1adc73e2250>"
      ]
     },
     "execution_count": 17,
     "metadata": {},
     "output_type": "execute_result"
    },
    {
     "data": {
      "image/png": "[encoded data removed]",
      "text/plain": [
       "<Figure size 432x288 with 1 Axes>"
      ]
     },
     "metadata": {
      "needs_background": "light"
     },
     "output_type": "display_data"
    }
   ],
   "source": [
    "plt.plot(r.history['loss'],label='loss')\n",
    "plt.plot(r.history['val_loss'],label='val_loss')\n",
    "plt.legend()"
   ]
  },
  {
   "cell_type": "code",
   "execution_count": 18,
   "id": "ec2c86e2",
   "metadata": {},
   "outputs": [
    {
     "name": "stdout",
     "output_type": "stream",
     "text": [
      "Model: \"sequential\"\n",
      "_________________________________________________________________\n",
      " Layer (type)                Output Shape              Param #   \n",
      "=================================================================\n",
      " dense (Dense)               (None, 1)                 14        \n",
      "                                                                 \n",
      "=================================================================\n",
      "Total params: 14\n",
      "Trainable params: 14\n",
      "Non-trainable params: 0\n",
      "_________________________________________________________________\n"
     ]
    }
   ],
   "source": [
    "model.summary()"
   ]
  },
  {
   "cell_type": "code",
   "execution_count": 21,
   "id": "620103b2",
   "metadata": {},
   "outputs": [
    {
     "data": {
      "text/plain": [
       "<keras.layers.core.dense.Dense at 0x1adbd2c7310>"
      ]
     },
     "execution_count": 21,
     "metadata": {},
     "output_type": "execute_result"
    }
   ],
   "source": [
    "model.layers[0]"
   ]
  },
  {
   "cell_type": "code",
   "execution_count": 22,
   "id": "a63457cc",
   "metadata": {},
   "outputs": [
    {
     "data": {
      "text/plain": [
       "[array([[-0.7301635 ],\n",
       "        [ 0.7922288 ],\n",
       "        [ 0.05494976],\n",
       "        [ 0.93141854],\n",
       "        [-2.1130607 ],\n",
       "        [ 2.437826  ],\n",
       "        [ 0.46568567],\n",
       "        [-2.8182886 ],\n",
       "        [ 2.3892705 ],\n",
       "        [-1.917364  ],\n",
       "        [-1.897253  ],\n",
       "        [ 0.9431529 ],\n",
       "        [-4.0634866 ]], dtype=float32),\n",
       " array([22.325039], dtype=float32)]"
      ]
     },
     "execution_count": 22,
     "metadata": {},
     "output_type": "execute_result"
    }
   ],
   "source": [
    "model.layers[0].get_weights()"
   ]
  },
  {
   "cell_type": "code",
   "execution_count": null,
   "id": "f5360cc6",
   "metadata": {},
   "outputs": [],
   "source": []
  }
 ],
 "metadata": {
  "kernelspec": {
   "display_name": "Python 3 (ipykernel)",
   "language": "python",
   "name": "python3"
  },
  "language_info": {
   "codemirror_mode": {
    "name": "ipython",
    "version": 3
   },
   "file_extension": ".py",
   "mimetype": "text/x-python",
   "name": "python",
   "nbconvert_exporter": "python",
   "pygments_lexer": "ipython3",
   "version": "3.9.12"
  }
 },
 "nbformat": 4,
 "nbformat_minor": 5
}

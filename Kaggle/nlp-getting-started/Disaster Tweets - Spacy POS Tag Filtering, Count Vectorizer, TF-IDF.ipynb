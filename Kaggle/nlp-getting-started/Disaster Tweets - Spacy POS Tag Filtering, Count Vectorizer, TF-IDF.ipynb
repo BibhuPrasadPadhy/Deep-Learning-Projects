{
 "cells": [
  {
   "cell_type": "code",
   "execution_count": 1,
   "id": "11824910",
   "metadata": {},
   "outputs": [],
   "source": [
    "import numpy as np\n",
    "import pandas as pd\n",
    "import matplotlib.pyplot as plt\n",
    "from matplotlib.pyplot import figure\n",
    "import seaborn as sns \n",
    "import re\n",
    "\n",
    "import tensorflow as tf\n",
    "import spacy\n",
    "import nltk\n",
    "#nltk.download('all')\n",
    "\n",
    "from nltk.corpus import words\n",
    "from nltk.stem.wordnet import WordNetLemmatizer \n",
    "from nltk.util import ngrams\n",
    "from wordcloud import WordCloud\n",
    "\n",
    "\n",
    "from sklearn.model_selection import train_test_split\n",
    "from sklearn.feature_extraction.text import CountVectorizer\n",
    "from sklearn.feature_extraction.text import TfidfTransformer\n",
    "\n",
    "from sklearn.naive_bayes import MultinomialNB\n",
    "from sklearn.linear_model import LogisticRegression\n",
    "from sklearn import metrics\n",
    "\n",
    "import string\n",
    "\n",
    "import transformers\n",
    "import swifter\n",
    "import contractions\n",
    "\n",
    "pd.options.display.max_rows = 100000\n",
    "pd.options.display.max_colwidth = 1000"
   ]
  },
  {
   "cell_type": "code",
   "execution_count": 21,
   "id": "420f3d6f",
   "metadata": {},
   "outputs": [],
   "source": [
    "def lemmatization(text):\n",
    "    lem = WordNetLemmatizer()\n",
    "    return \" \".join([lem.lemmatize(i) for i in text.split()])\n",
    "\n",
    "def contract_fix(text):\n",
    "    return \" \".join([contractions.fix(word) for word in text.split()])\n",
    "\n",
    "def word_freq_func(corpus):\n",
    "    word_freq = dict()\n",
    "    for token in corpus.split():\n",
    "        if token not in word_freq.keys():\n",
    "            word_freq[token]=1\n",
    "        else:\n",
    "            word_freq[token]+= 1\n",
    "        \n",
    "    word_freq_df = pd.DataFrame({'words':word_freq.keys(),'values':word_freq.values()})\n",
    "    word_freq_df = word_freq_df.sort_values(by='values',ascending=False)\n",
    "    \n",
    "    return word_freq_df\n",
    "\n",
    "def noise_removal(text):\n",
    "    return \" \".join(i for i in text.split() if i not in stop_words)\n",
    "\n",
    "def replace_char(text):\n",
    "    text = text.replace('&',' and ').replace('$',' dollar ').replace('%',' percent ')\n",
    "    return text\n",
    "\n",
    "nlp = spacy.load(\"en_core_web_sm\")\n",
    "def pos_tag_filtering(text):\n",
    "\n",
    "    doc = nlp(text)\n",
    "    pos_filtered_list = [i for i in doc if i.pos_ in ['PROPN','VERB','NOUN','ADJ','ADV','AUX','CONJ','CCONJ']]\n",
    "    pos_filtered_list = list(map(str,pos_filtered_list))\n",
    "    return \" \".join(pos_filtered_list)   \n",
    "# def decode_encode(text):\n",
    "#     return text.encode(\"ascii\",\"ignore\")"
   ]
  },
  {
   "cell_type": "code",
   "execution_count": null,
   "id": "41bbfb12",
   "metadata": {},
   "outputs": [],
   "source": []
  },
  {
   "cell_type": "code",
   "execution_count": 3,
   "id": "fd7690c0",
   "metadata": {},
   "outputs": [],
   "source": [
    "df = pd.read_csv('train.csv')\n",
    "df_submission = pd.read_csv('test.csv')"
   ]
  },
  {
   "cell_type": "code",
   "execution_count": 4,
   "id": "a032087c",
   "metadata": {},
   "outputs": [
    {
     "name": "stdout",
     "output_type": "stream",
     "text": [
      "Shape of dataset (7613, 5)\n",
      "Shape of submission dataset (3263, 4)\n"
     ]
    }
   ],
   "source": [
    "print('Shape of dataset',df.shape)\n",
    "print('Shape of submission dataset',df_submission.shape)"
   ]
  },
  {
   "cell_type": "code",
   "execution_count": 5,
   "id": "e188d948",
   "metadata": {},
   "outputs": [
    {
     "name": "stdout",
     "output_type": "stream",
     "text": [
      "<class 'pandas.core.frame.DataFrame'>\n",
      "RangeIndex: 7613 entries, 0 to 7612\n",
      "Data columns (total 5 columns):\n",
      " #   Column    Non-Null Count  Dtype \n",
      "---  ------    --------------  ----- \n",
      " 0   id        7613 non-null   int64 \n",
      " 1   keyword   7552 non-null   object\n",
      " 2   location  5080 non-null   object\n",
      " 3   text      7613 non-null   object\n",
      " 4   target    7613 non-null   int64 \n",
      "dtypes: int64(2), object(3)\n",
      "memory usage: 297.5+ KB\n"
     ]
    }
   ],
   "source": [
    "df.info()"
   ]
  },
  {
   "cell_type": "markdown",
   "id": "f446a009",
   "metadata": {},
   "source": [
    "#### Generate a crosstab between keyword and target to understand relationships and which keywords tend to have higher impact on target"
   ]
  },
  {
   "cell_type": "code",
   "execution_count": 6,
   "id": "16b90385",
   "metadata": {
    "scrolled": true
   },
   "outputs": [],
   "source": [
    "crosstab_x = (pd.crosstab(df['keyword'],df['target'],normalize='index',margins=True)*100).sort_values(1,ascending=False)\n",
    "crosstab_y = pd.crosstab(df['keyword'],df['target'],margins=True)\n",
    "master_crosstab = pd.merge(crosstab_x,crosstab_y,how='inner',left_on=crosstab_x.index,right_on=crosstab_y.index,validate=\"one_to_one\").reset_index(drop=True)\n",
    "master_crosstab.columns.name = ''\n",
    "\n",
    "# Collected list of keywords where we have more than 95% chance of the text being a disaster tweet\n",
    "high_impact_keywords = master_crosstab[master_crosstab['1_x']>95]['key_0'].tolist()"
   ]
  },
  {
   "cell_type": "code",
   "execution_count": 7,
   "id": "1e4f4a69",
   "metadata": {},
   "outputs": [
    {
     "data": {
      "text/html": [
       "<div>\n",
       "<style scoped>\n",
       "    .dataframe tbody tr th:only-of-type {\n",
       "        vertical-align: middle;\n",
       "    }\n",
       "\n",
       "    .dataframe tbody tr th {\n",
       "        vertical-align: top;\n",
       "    }\n",
       "\n",
       "    .dataframe thead th {\n",
       "        text-align: right;\n",
       "    }\n",
       "</style>\n",
       "<table border=\"1\" class=\"dataframe\">\n",
       "  <thead>\n",
       "    <tr style=\"text-align: right;\">\n",
       "      <th></th>\n",
       "      <th>key_0</th>\n",
       "      <th>0_x</th>\n",
       "      <th>1_x</th>\n",
       "      <th>0_y</th>\n",
       "      <th>1_y</th>\n",
       "      <th>All</th>\n",
       "    </tr>\n",
       "  </thead>\n",
       "  <tbody>\n",
       "    <tr>\n",
       "      <th>0</th>\n",
       "      <td>debris</td>\n",
       "      <td>0.000000</td>\n",
       "      <td>100.000000</td>\n",
       "      <td>0</td>\n",
       "      <td>37</td>\n",
       "      <td>37</td>\n",
       "    </tr>\n",
       "    <tr>\n",
       "      <th>1</th>\n",
       "      <td>wreckage</td>\n",
       "      <td>0.000000</td>\n",
       "      <td>100.000000</td>\n",
       "      <td>0</td>\n",
       "      <td>39</td>\n",
       "      <td>39</td>\n",
       "    </tr>\n",
       "    <tr>\n",
       "      <th>2</th>\n",
       "      <td>derailment</td>\n",
       "      <td>0.000000</td>\n",
       "      <td>100.000000</td>\n",
       "      <td>0</td>\n",
       "      <td>39</td>\n",
       "      <td>39</td>\n",
       "    </tr>\n",
       "    <tr>\n",
       "      <th>3</th>\n",
       "      <td>outbreak</td>\n",
       "      <td>2.500000</td>\n",
       "      <td>97.500000</td>\n",
       "      <td>1</td>\n",
       "      <td>39</td>\n",
       "      <td>40</td>\n",
       "    </tr>\n",
       "    <tr>\n",
       "      <th>4</th>\n",
       "      <td>typhoon</td>\n",
       "      <td>2.631579</td>\n",
       "      <td>97.368421</td>\n",
       "      <td>1</td>\n",
       "      <td>37</td>\n",
       "      <td>38</td>\n",
       "    </tr>\n",
       "    <tr>\n",
       "      <th>5</th>\n",
       "      <td>oil%20spill</td>\n",
       "      <td>2.631579</td>\n",
       "      <td>97.368421</td>\n",
       "      <td>1</td>\n",
       "      <td>37</td>\n",
       "      <td>38</td>\n",
       "    </tr>\n",
       "    <tr>\n",
       "      <th>6</th>\n",
       "      <td>suicide%20bombing</td>\n",
       "      <td>3.030303</td>\n",
       "      <td>96.969697</td>\n",
       "      <td>1</td>\n",
       "      <td>32</td>\n",
       "      <td>33</td>\n",
       "    </tr>\n",
       "    <tr>\n",
       "      <th>7</th>\n",
       "      <td>suicide%20bomber</td>\n",
       "      <td>3.225806</td>\n",
       "      <td>96.774194</td>\n",
       "      <td>1</td>\n",
       "      <td>30</td>\n",
       "      <td>31</td>\n",
       "    </tr>\n",
       "    <tr>\n",
       "      <th>8</th>\n",
       "      <td>bombing</td>\n",
       "      <td>6.896552</td>\n",
       "      <td>93.103448</td>\n",
       "      <td>2</td>\n",
       "      <td>27</td>\n",
       "      <td>29</td>\n",
       "    </tr>\n",
       "    <tr>\n",
       "      <th>9</th>\n",
       "      <td>rescuers</td>\n",
       "      <td>8.571429</td>\n",
       "      <td>91.428571</td>\n",
       "      <td>3</td>\n",
       "      <td>32</td>\n",
       "      <td>35</td>\n",
       "    </tr>\n",
       "    <tr>\n",
       "      <th>10</th>\n",
       "      <td>suicide%20bomb</td>\n",
       "      <td>8.571429</td>\n",
       "      <td>91.428571</td>\n",
       "      <td>3</td>\n",
       "      <td>32</td>\n",
       "      <td>35</td>\n",
       "    </tr>\n",
       "    <tr>\n",
       "      <th>11</th>\n",
       "      <td>nuclear%20disaster</td>\n",
       "      <td>8.823529</td>\n",
       "      <td>91.176471</td>\n",
       "      <td>3</td>\n",
       "      <td>31</td>\n",
       "      <td>34</td>\n",
       "    </tr>\n",
       "    <tr>\n",
       "      <th>12</th>\n",
       "      <td>evacuated</td>\n",
       "      <td>11.111111</td>\n",
       "      <td>88.888889</td>\n",
       "      <td>4</td>\n",
       "      <td>32</td>\n",
       "      <td>36</td>\n",
       "    </tr>\n",
       "    <tr>\n",
       "      <th>13</th>\n",
       "      <td>razed</td>\n",
       "      <td>11.428571</td>\n",
       "      <td>88.571429</td>\n",
       "      <td>4</td>\n",
       "      <td>31</td>\n",
       "      <td>35</td>\n",
       "    </tr>\n",
       "    <tr>\n",
       "      <th>14</th>\n",
       "      <td>wildfire</td>\n",
       "      <td>12.121212</td>\n",
       "      <td>87.878788</td>\n",
       "      <td>4</td>\n",
       "      <td>29</td>\n",
       "      <td>33</td>\n",
       "    </tr>\n",
       "  </tbody>\n",
       "</table>\n",
       "</div>"
      ],
      "text/plain": [
       "                 key_0        0_x         1_x  0_y  1_y  All\n",
       "0               debris   0.000000  100.000000    0   37   37\n",
       "1             wreckage   0.000000  100.000000    0   39   39\n",
       "2           derailment   0.000000  100.000000    0   39   39\n",
       "3             outbreak   2.500000   97.500000    1   39   40\n",
       "4              typhoon   2.631579   97.368421    1   37   38\n",
       "5          oil%20spill   2.631579   97.368421    1   37   38\n",
       "6    suicide%20bombing   3.030303   96.969697    1   32   33\n",
       "7     suicide%20bomber   3.225806   96.774194    1   30   31\n",
       "8              bombing   6.896552   93.103448    2   27   29\n",
       "9             rescuers   8.571429   91.428571    3   32   35\n",
       "10      suicide%20bomb   8.571429   91.428571    3   32   35\n",
       "11  nuclear%20disaster   8.823529   91.176471    3   31   34\n",
       "12           evacuated  11.111111   88.888889    4   32   36\n",
       "13               razed  11.428571   88.571429    4   31   35\n",
       "14            wildfire  12.121212   87.878788    4   29   33"
      ]
     },
     "execution_count": 7,
     "metadata": {},
     "output_type": "execute_result"
    }
   ],
   "source": [
    "master_crosstab.head(15)"
   ]
  },
  {
   "cell_type": "markdown",
   "id": "a16be4a8",
   "metadata": {},
   "source": [
    "#### Creating a corpus of raw text"
   ]
  },
  {
   "cell_type": "code",
   "execution_count": 8,
   "id": "b463a25c",
   "metadata": {},
   "outputs": [],
   "source": [
    "corpus_list = df['text'].tolist()\n",
    "corpus = \" \".join(corpus_list)\n",
    "vocab = list(set(corpus.split()))"
   ]
  },
  {
   "cell_type": "code",
   "execution_count": 9,
   "id": "340d2659",
   "metadata": {},
   "outputs": [
    {
     "name": "stdout",
     "output_type": "stream",
     "text": [
      "Number of unique words in the vocabulary of raw text :  31924\n"
     ]
    }
   ],
   "source": [
    "print('Number of unique words in the vocabulary of raw text : ',len(vocab))"
   ]
  },
  {
   "cell_type": "code",
   "execution_count": 10,
   "id": "ab99d826",
   "metadata": {},
   "outputs": [
    {
     "name": "stdout",
     "output_type": "stream",
     "text": [
      "Few words from vocabulary : \n",
      " ['Bolstering', 'faster.', 'Homemade', 'patient.', 'On!', 'Contact', '#straightfire', 'Fri/Sat', 'http://t.co/DQ1yLcrF9K', 'Southeast']\n"
     ]
    }
   ],
   "source": [
    "print('Few words from vocabulary : \\n',vocab[:10])"
   ]
  },
  {
   "cell_type": "markdown",
   "id": "0dafa703",
   "metadata": {},
   "source": [
    "#### Creation of word frequency dataframe & related analysis"
   ]
  },
  {
   "cell_type": "code",
   "execution_count": 11,
   "id": "4af53408",
   "metadata": {},
   "outputs": [],
   "source": [
    "word_freq_df = word_freq_func(corpus)"
   ]
  },
  {
   "cell_type": "code",
   "execution_count": 12,
   "id": "13f90f7e",
   "metadata": {},
   "outputs": [
    {
     "data": {
      "text/html": [
       "<div>\n",
       "<style scoped>\n",
       "    .dataframe tbody tr th:only-of-type {\n",
       "        vertical-align: middle;\n",
       "    }\n",
       "\n",
       "    .dataframe tbody tr th {\n",
       "        vertical-align: top;\n",
       "    }\n",
       "\n",
       "    .dataframe thead th {\n",
       "        text-align: right;\n",
       "    }\n",
       "</style>\n",
       "<table border=\"1\" class=\"dataframe\">\n",
       "  <thead>\n",
       "    <tr style=\"text-align: right;\">\n",
       "      <th></th>\n",
       "      <th>words</th>\n",
       "      <th>values</th>\n",
       "    </tr>\n",
       "  </thead>\n",
       "  <tbody>\n",
       "    <tr>\n",
       "      <th>3</th>\n",
       "      <td>the</td>\n",
       "      <td>2575</td>\n",
       "    </tr>\n",
       "    <tr>\n",
       "      <th>55</th>\n",
       "      <td>a</td>\n",
       "      <td>1845</td>\n",
       "    </tr>\n",
       "    <tr>\n",
       "      <th>23</th>\n",
       "      <td>to</td>\n",
       "      <td>1805</td>\n",
       "    </tr>\n",
       "    <tr>\n",
       "      <th>25</th>\n",
       "      <td>in</td>\n",
       "      <td>1757</td>\n",
       "    </tr>\n",
       "    <tr>\n",
       "      <th>5</th>\n",
       "      <td>of</td>\n",
       "      <td>1722</td>\n",
       "    </tr>\n",
       "    <tr>\n",
       "      <th>86</th>\n",
       "      <td>and</td>\n",
       "      <td>1302</td>\n",
       "    </tr>\n",
       "    <tr>\n",
       "      <th>87</th>\n",
       "      <td>I</td>\n",
       "      <td>1197</td>\n",
       "    </tr>\n",
       "    <tr>\n",
       "      <th>213</th>\n",
       "      <td>for</td>\n",
       "      <td>820</td>\n",
       "    </tr>\n",
       "    <tr>\n",
       "      <th>102</th>\n",
       "      <td>is</td>\n",
       "      <td>814</td>\n",
       "    </tr>\n",
       "    <tr>\n",
       "      <th>83</th>\n",
       "      <td>on</td>\n",
       "      <td>773</td>\n",
       "    </tr>\n",
       "  </tbody>\n",
       "</table>\n",
       "</div>"
      ],
      "text/plain": [
       "    words  values\n",
       "3     the    2575\n",
       "55      a    1845\n",
       "23     to    1805\n",
       "25     in    1757\n",
       "5      of    1722\n",
       "86    and    1302\n",
       "87      I    1197\n",
       "213   for     820\n",
       "102    is     814\n",
       "83     on     773"
      ]
     },
     "execution_count": 12,
     "metadata": {},
     "output_type": "execute_result"
    }
   ],
   "source": [
    "word_freq_df.head(10)"
   ]
  },
  {
   "cell_type": "code",
   "execution_count": 13,
   "id": "eef76e79",
   "metadata": {},
   "outputs": [
    {
     "data": {
      "text/html": [
       "<div>\n",
       "<style scoped>\n",
       "    .dataframe tbody tr th:only-of-type {\n",
       "        vertical-align: middle;\n",
       "    }\n",
       "\n",
       "    .dataframe tbody tr th {\n",
       "        vertical-align: top;\n",
       "    }\n",
       "\n",
       "    .dataframe thead th {\n",
       "        text-align: right;\n",
       "    }\n",
       "</style>\n",
       "<table border=\"1\" class=\"dataframe\">\n",
       "  <thead>\n",
       "    <tr style=\"text-align: right;\">\n",
       "      <th></th>\n",
       "      <th>words</th>\n",
       "      <th>values</th>\n",
       "    </tr>\n",
       "  </thead>\n",
       "  <tbody>\n",
       "    <tr>\n",
       "      <th>1101</th>\n",
       "      <td>@YouTube</td>\n",
       "      <td>82</td>\n",
       "    </tr>\n",
       "    <tr>\n",
       "      <th>1811</th>\n",
       "      <td>@</td>\n",
       "      <td>27</td>\n",
       "    </tr>\n",
       "    <tr>\n",
       "      <th>11312</th>\n",
       "      <td>@ArianaGrande</td>\n",
       "      <td>11</td>\n",
       "    </tr>\n",
       "    <tr>\n",
       "      <th>1700</th>\n",
       "      <td>@POTUS</td>\n",
       "      <td>9</td>\n",
       "    </tr>\n",
       "    <tr>\n",
       "      <th>1723</th>\n",
       "      <td>@Change</td>\n",
       "      <td>9</td>\n",
       "    </tr>\n",
       "    <tr>\n",
       "      <th>3673</th>\n",
       "      <td>@FoxNews</td>\n",
       "      <td>9</td>\n",
       "    </tr>\n",
       "    <tr>\n",
       "      <th>11178</th>\n",
       "      <td>@emmerdale</td>\n",
       "      <td>8</td>\n",
       "    </tr>\n",
       "    <tr>\n",
       "      <th>26493</th>\n",
       "      <td>@justinbieber</td>\n",
       "      <td>7</td>\n",
       "    </tr>\n",
       "    <tr>\n",
       "      <th>840</th>\n",
       "      <td>@djicemoon</td>\n",
       "      <td>7</td>\n",
       "    </tr>\n",
       "    <tr>\n",
       "      <th>27691</th>\n",
       "      <td>@Stretcher</td>\n",
       "      <td>6</td>\n",
       "    </tr>\n",
       "  </tbody>\n",
       "</table>\n",
       "</div>"
      ],
      "text/plain": [
       "               words  values\n",
       "1101        @YouTube      82\n",
       "1811               @      27\n",
       "11312  @ArianaGrande      11\n",
       "1700          @POTUS       9\n",
       "1723         @Change       9\n",
       "3673        @FoxNews       9\n",
       "11178     @emmerdale       8\n",
       "26493  @justinbieber       7\n",
       "840       @djicemoon       7\n",
       "27691     @Stretcher       6"
      ]
     },
     "execution_count": 13,
     "metadata": {},
     "output_type": "execute_result"
    }
   ],
   "source": [
    "#Checking frequency of mentions (@) in the tweet raw corpus\n",
    "word_freq_df[word_freq_df['words'].str.startswith('@')].head(10)"
   ]
  },
  {
   "cell_type": "code",
   "execution_count": 14,
   "id": "07e2009e",
   "metadata": {},
   "outputs": [
    {
     "data": {
      "text/html": [
       "<div>\n",
       "<style scoped>\n",
       "    .dataframe tbody tr th:only-of-type {\n",
       "        vertical-align: middle;\n",
       "    }\n",
       "\n",
       "    .dataframe tbody tr th {\n",
       "        vertical-align: top;\n",
       "    }\n",
       "\n",
       "    .dataframe thead th {\n",
       "        text-align: right;\n",
       "    }\n",
       "</style>\n",
       "<table border=\"1\" class=\"dataframe\">\n",
       "  <thead>\n",
       "    <tr style=\"text-align: right;\">\n",
       "      <th></th>\n",
       "      <th>words</th>\n",
       "      <th>values</th>\n",
       "    </tr>\n",
       "  </thead>\n",
       "  <tbody>\n",
       "    <tr>\n",
       "      <th>1060</th>\n",
       "      <td>#news</td>\n",
       "      <td>36</td>\n",
       "    </tr>\n",
       "    <tr>\n",
       "      <th>2881</th>\n",
       "      <td>#News</td>\n",
       "      <td>36</td>\n",
       "    </tr>\n",
       "    <tr>\n",
       "      <th>21018</th>\n",
       "      <td>#prebreak</td>\n",
       "      <td>30</td>\n",
       "    </tr>\n",
       "    <tr>\n",
       "      <th>21011</th>\n",
       "      <td>#hot</td>\n",
       "      <td>30</td>\n",
       "    </tr>\n",
       "    <tr>\n",
       "      <th>21019</th>\n",
       "      <td>#best</td>\n",
       "      <td>30</td>\n",
       "    </tr>\n",
       "    <tr>\n",
       "      <th>11624</th>\n",
       "      <td>#???</td>\n",
       "      <td>23</td>\n",
       "    </tr>\n",
       "    <tr>\n",
       "      <th>5224</th>\n",
       "      <td>#??</td>\n",
       "      <td>20</td>\n",
       "    </tr>\n",
       "    <tr>\n",
       "      <th>6280</th>\n",
       "      <td>#Hiroshima</td>\n",
       "      <td>20</td>\n",
       "    </tr>\n",
       "    <tr>\n",
       "      <th>6975</th>\n",
       "      <td>#GBBO</td>\n",
       "      <td>16</td>\n",
       "    </tr>\n",
       "    <tr>\n",
       "      <th>27946</th>\n",
       "      <td>#ISIS</td>\n",
       "      <td>11</td>\n",
       "    </tr>\n",
       "  </tbody>\n",
       "</table>\n",
       "</div>"
      ],
      "text/plain": [
       "            words  values\n",
       "1060        #news      36\n",
       "2881        #News      36\n",
       "21018   #prebreak      30\n",
       "21011        #hot      30\n",
       "21019       #best      30\n",
       "11624        #???      23\n",
       "5224          #??      20\n",
       "6280   #Hiroshima      20\n",
       "6975        #GBBO      16\n",
       "27946       #ISIS      11"
      ]
     },
     "execution_count": 14,
     "metadata": {},
     "output_type": "execute_result"
    }
   ],
   "source": [
    "#Checking frequency of hashtags(#) in the corpus\n",
    "word_freq_df[word_freq_df['words'].str.startswith('#')].head(10)"
   ]
  },
  {
   "cell_type": "markdown",
   "id": "761fc89f",
   "metadata": {},
   "source": [
    "### Target Class distribution"
   ]
  },
  {
   "cell_type": "code",
   "execution_count": 15,
   "id": "e3c01a80",
   "metadata": {},
   "outputs": [
    {
     "data": {
      "text/plain": [
       "Text(0, 0.5, 'no. of samples')"
      ]
     },
     "execution_count": 15,
     "metadata": {},
     "output_type": "execute_result"
    },
    {
     "data": {
      "image/png": "[encoded data removed]",
      "text/plain": [
       "<Figure size 432x288 with 1 Axes>"
      ]
     },
     "metadata": {
      "needs_background": "light"
     },
     "output_type": "display_data"
    }
   ],
   "source": [
    "x=df.target.value_counts()\n",
    "sns.barplot(x.index,x)\n",
    "plt.gca().set_ylabel('no. of samples')"
   ]
  },
  {
   "cell_type": "markdown",
   "id": "db1e2ad3",
   "metadata": {},
   "source": [
    "### Text Pre-Processing"
   ]
  },
  {
   "cell_type": "markdown",
   "id": "46c734a3",
   "metadata": {},
   "source": [
    "1. Noise Removal\n",
    "2. Lexicon Normalization\n",
    "3. Object Standardization"
   ]
  },
  {
   "cell_type": "code",
   "execution_count": 16,
   "id": "64375ef2",
   "metadata": {},
   "outputs": [
    {
     "data": {
      "application/vnd.jupyter.widget-view+json": {
       "model_id": "e7381e1ac0ec4ba68922475ccff20ff9",
       "version_major": 2,
       "version_minor": 0
      },
      "text/plain": [
       "Pandas Apply:   0%|          | 0/7613 [00:00<?, ?it/s]"
      ]
     },
     "metadata": {},
     "output_type": "display_data"
    },
    {
     "data": {
      "application/vnd.jupyter.widget-view+json": {
       "model_id": "164eb22f94aa478d912fc3ea976019c8",
       "version_major": 2,
       "version_minor": 0
      },
      "text/plain": [
       "Pandas Apply:   0%|          | 0/7613 [00:00<?, ?it/s]"
      ]
     },
     "metadata": {},
     "output_type": "display_data"
    },
    {
     "data": {
      "application/vnd.jupyter.widget-view+json": {
       "model_id": "ab61d6389d0a4cea8cd6d14515f4ffa4",
       "version_major": 2,
       "version_minor": 0
      },
      "text/plain": [
       "Pandas Apply:   0%|          | 0/7613 [00:00<?, ?it/s]"
      ]
     },
     "metadata": {},
     "output_type": "display_data"
    },
    {
     "data": {
      "application/vnd.jupyter.widget-view+json": {
       "model_id": "db3af888733b4ffa805220acf89e35b4",
       "version_major": 2,
       "version_minor": 0
      },
      "text/plain": [
       "Pandas Apply:   0%|          | 0/7613 [00:00<?, ?it/s]"
      ]
     },
     "metadata": {},
     "output_type": "display_data"
    }
   ],
   "source": [
    "#Noise Removal - First we will lower the text\n",
    "df['text_lowered'] = df['text'].str.lower()\n",
    "\n",
    "#Replace apostrophe/short words in python\n",
    "df['text_contraction_fixed'] = df['text_lowered'].swifter.apply(contract_fix)\n",
    "\n",
    "#Remove http URLs from the text\n",
    "df['text_url_removed'] = df['text_contraction_fixed'].swifter.apply(lambda x : re.sub(r'http\\S+', '', x))\n",
    "\n",
    "#Checking the tweets where we see punctation present\n",
    "df['text_url_spclchar_removed'] = df['text_url_removed'].swifter.apply(lambda x : re.sub(r'[^&$%a-zA-Z]', ' ', x))\n",
    "\n",
    "#Replacing few special chars with meaning\n",
    "df['text_url_spclchar_removed'] = df['text_url_spclchar_removed'].swifter.apply(replace_char)"
   ]
  },
  {
   "cell_type": "markdown",
   "id": "7c370f14",
   "metadata": {},
   "source": [
    "##### Validate if any special character"
   ]
  },
  {
   "cell_type": "code",
   "execution_count": 17,
   "id": "e1357888",
   "metadata": {},
   "outputs": [
    {
     "data": {
      "application/vnd.jupyter.widget-view+json": {
       "model_id": "6dce9618d5ce433fbc28618dccff667a",
       "version_major": 2,
       "version_minor": 0
      },
      "text/plain": [
       "Pandas Apply:   0%|          | 0/7613 [00:00<?, ?it/s]"
      ]
     },
     "metadata": {},
     "output_type": "display_data"
    }
   ],
   "source": [
    "df['find_spcl_char'] = df['text_url_spclchar_removed'].swifter.apply(lambda x : 1 if re.search(r'[^\\sa-zA-Z]',x) else 0)"
   ]
  },
  {
   "cell_type": "code",
   "execution_count": 18,
   "id": "4125978f",
   "metadata": {},
   "outputs": [
    {
     "data": {
      "text/plain": [
       "0    7613\n",
       "Name: find_spcl_char, dtype: int64"
      ]
     },
     "execution_count": 18,
     "metadata": {},
     "output_type": "execute_result"
    }
   ],
   "source": [
    "df.find_spcl_char.value_counts()"
   ]
  },
  {
   "cell_type": "markdown",
   "id": "84c28f79",
   "metadata": {},
   "source": [
    "###### No special characters left except single space"
   ]
  },
  {
   "cell_type": "markdown",
   "id": "182c9c94",
   "metadata": {},
   "source": [
    "#### Lemmatization"
   ]
  },
  {
   "cell_type": "code",
   "execution_count": 19,
   "id": "f70f2ef3",
   "metadata": {},
   "outputs": [
    {
     "data": {
      "application/vnd.jupyter.widget-view+json": {
       "model_id": "bef17d9747c442b59cea3b9b7b784a7a",
       "version_major": 2,
       "version_minor": 0
      },
      "text/plain": [
       "Pandas Apply:   0%|          | 0/7613 [00:00<?, ?it/s]"
      ]
     },
     "metadata": {},
     "output_type": "display_data"
    }
   ],
   "source": [
    "df['lemmatized_text'] = df['text_url_spclchar_removed'].swifter.apply(lemmatization)"
   ]
  },
  {
   "cell_type": "markdown",
   "id": "d0c57b13",
   "metadata": {},
   "source": [
    "#### POS Tagging"
   ]
  },
  {
   "cell_type": "code",
   "execution_count": 22,
   "id": "5da5dd86",
   "metadata": {},
   "outputs": [
    {
     "data": {
      "application/vnd.jupyter.widget-view+json": {
       "model_id": "0ced8b0087b248bfb8d2e984355b9243",
       "version_major": 2,
       "version_minor": 0
      },
      "text/plain": [
       "Pandas Apply:   0%|          | 0/7613 [00:00<?, ?it/s]"
      ]
     },
     "metadata": {},
     "output_type": "display_data"
    }
   ],
   "source": [
    "df['pos_filtered_text'] = df['text_url_spclchar_removed'].swifter.apply(pos_tag_filtering)"
   ]
  },
  {
   "cell_type": "code",
   "execution_count": 23,
   "id": "cdc1b64b",
   "metadata": {},
   "outputs": [],
   "source": [
    "cleaned_corpus = df['pos_filtered_text'].tolist()\n",
    "cleaned_corpus = \" \".join(cleaned_corpus)\n",
    "vocab_clean = list(set(cleaned_corpus.split()))"
   ]
  },
  {
   "cell_type": "markdown",
   "id": "ac95f9c4",
   "metadata": {},
   "source": [
    "<b>Analyzing clean corpus"
   ]
  },
  {
   "cell_type": "code",
   "execution_count": 24,
   "id": "d503fe04",
   "metadata": {},
   "outputs": [
    {
     "data": {
      "text/plain": [
       "0.5025372760305726"
      ]
     },
     "execution_count": 24,
     "metadata": {},
     "output_type": "execute_result"
    }
   ],
   "source": [
    "1 - len(vocab_clean)/len(vocab)"
   ]
  },
  {
   "cell_type": "code",
   "execution_count": 25,
   "id": "9da5e9c1",
   "metadata": {},
   "outputs": [],
   "source": [
    "word_freq_df_clean = word_freq_func(cleaned_corpus)"
   ]
  },
  {
   "cell_type": "code",
   "execution_count": 26,
   "id": "4bff28b6",
   "metadata": {},
   "outputs": [
    {
     "data": {
      "text/html": [
       "<div>\n",
       "<style scoped>\n",
       "    .dataframe tbody tr th:only-of-type {\n",
       "        vertical-align: middle;\n",
       "    }\n",
       "\n",
       "    .dataframe tbody tr th {\n",
       "        vertical-align: top;\n",
       "    }\n",
       "\n",
       "    .dataframe thead th {\n",
       "        text-align: right;\n",
       "    }\n",
       "</style>\n",
       "<table border=\"1\" class=\"dataframe\">\n",
       "  <thead>\n",
       "    <tr style=\"text-align: right;\">\n",
       "      <th></th>\n",
       "      <th>words</th>\n",
       "      <th>values</th>\n",
       "    </tr>\n",
       "  </thead>\n",
       "  <tbody>\n",
       "    <tr>\n",
       "      <th>61</th>\n",
       "      <td>and</td>\n",
       "      <td>1884</td>\n",
       "    </tr>\n",
       "    <tr>\n",
       "      <th>65</th>\n",
       "      <td>is</td>\n",
       "      <td>1383</td>\n",
       "    </tr>\n",
       "    <tr>\n",
       "      <th>1</th>\n",
       "      <td>are</td>\n",
       "      <td>599</td>\n",
       "    </tr>\n",
       "    <tr>\n",
       "      <th>95</th>\n",
       "      <td>have</td>\n",
       "      <td>471</td>\n",
       "    </tr>\n",
       "    <tr>\n",
       "      <th>292</th>\n",
       "      <td>be</td>\n",
       "      <td>412</td>\n",
       "    </tr>\n",
       "    <tr>\n",
       "      <th>124</th>\n",
       "      <td>was</td>\n",
       "      <td>401</td>\n",
       "    </tr>\n",
       "    <tr>\n",
       "      <th>58</th>\n",
       "      <td>am</td>\n",
       "      <td>386</td>\n",
       "    </tr>\n",
       "    <tr>\n",
       "      <th>89</th>\n",
       "      <td>do</td>\n",
       "      <td>369</td>\n",
       "    </tr>\n",
       "    <tr>\n",
       "      <th>164</th>\n",
       "      <td>will</td>\n",
       "      <td>350</td>\n",
       "    </tr>\n",
       "    <tr>\n",
       "      <th>319</th>\n",
       "      <td>amp</td>\n",
       "      <td>344</td>\n",
       "    </tr>\n",
       "    <tr>\n",
       "      <th>29</th>\n",
       "      <td>just</td>\n",
       "      <td>323</td>\n",
       "    </tr>\n",
       "    <tr>\n",
       "      <th>162</th>\n",
       "      <td>but</td>\n",
       "      <td>316</td>\n",
       "    </tr>\n",
       "    <tr>\n",
       "      <th>62</th>\n",
       "      <td>can</td>\n",
       "      <td>279</td>\n",
       "    </tr>\n",
       "    <tr>\n",
       "      <th>78</th>\n",
       "      <td>so</td>\n",
       "      <td>268</td>\n",
       "    </tr>\n",
       "    <tr>\n",
       "      <th>245</th>\n",
       "      <td>has</td>\n",
       "      <td>263</td>\n",
       "    </tr>\n",
       "    <tr>\n",
       "      <th>8</th>\n",
       "      <td>fire</td>\n",
       "      <td>254</td>\n",
       "    </tr>\n",
       "    <tr>\n",
       "      <th>68</th>\n",
       "      <td>now</td>\n",
       "      <td>234</td>\n",
       "    </tr>\n",
       "    <tr>\n",
       "      <th>226</th>\n",
       "      <td>get</td>\n",
       "      <td>229</td>\n",
       "    </tr>\n",
       "    <tr>\n",
       "      <th>160</th>\n",
       "      <td>new</td>\n",
       "      <td>228</td>\n",
       "    </tr>\n",
       "    <tr>\n",
       "      <th>149</th>\n",
       "      <td>more</td>\n",
       "      <td>218</td>\n",
       "    </tr>\n",
       "  </tbody>\n",
       "</table>\n",
       "</div>"
      ],
      "text/plain": [
       "    words  values\n",
       "61    and    1884\n",
       "65     is    1383\n",
       "1     are     599\n",
       "95   have     471\n",
       "292    be     412\n",
       "124   was     401\n",
       "58     am     386\n",
       "89     do     369\n",
       "164  will     350\n",
       "319   amp     344\n",
       "29   just     323\n",
       "162   but     316\n",
       "62    can     279\n",
       "78     so     268\n",
       "245   has     263\n",
       "8    fire     254\n",
       "68    now     234\n",
       "226   get     229\n",
       "160   new     228\n",
       "149  more     218"
      ]
     },
     "execution_count": 26,
     "metadata": {},
     "output_type": "execute_result"
    }
   ],
   "source": [
    "word_freq_df_clean.head(20)"
   ]
  },
  {
   "cell_type": "markdown",
   "id": "139dd0dd",
   "metadata": {},
   "source": [
    "### X-Y Split"
   ]
  },
  {
   "cell_type": "code",
   "execution_count": 27,
   "id": "236af081",
   "metadata": {},
   "outputs": [],
   "source": [
    "x = df['pos_filtered_text']\n",
    "y = df['target']"
   ]
  },
  {
   "cell_type": "markdown",
   "id": "478b3ba2",
   "metadata": {},
   "source": [
    "#### Train,Test Split"
   ]
  },
  {
   "cell_type": "code",
   "execution_count": 28,
   "id": "bcd70c56",
   "metadata": {},
   "outputs": [
    {
     "name": "stdout",
     "output_type": "stream",
     "text": [
      "(5709,)\n",
      "(1904,)\n",
      "(5709,)\n",
      "(1904,)\n"
     ]
    }
   ],
   "source": [
    "\n",
    "x_train, x_test, y_train, y_test = train_test_split(x, y, random_state=1)\n",
    "print(x_train.shape)\n",
    "print(x_test.shape)\n",
    "print(y_train.shape)\n",
    "print(y_test.shape)"
   ]
  },
  {
   "cell_type": "code",
   "execution_count": 32,
   "id": "2840e6c0",
   "metadata": {},
   "outputs": [
    {
     "data": {
      "text/plain": [
       "'deeds are reason earthquake may allah forgive'"
      ]
     },
     "execution_count": 32,
     "metadata": {},
     "output_type": "execute_result"
    }
   ],
   "source": [
    "x_train[0]"
   ]
  },
  {
   "cell_type": "markdown",
   "id": "1f19d914",
   "metadata": {},
   "source": [
    "#### CountVectorizer & TF-IDF"
   ]
  },
  {
   "cell_type": "code",
   "execution_count": 29,
   "id": "7ea71243",
   "metadata": {},
   "outputs": [],
   "source": [
    "# instantiate the vectorizer\n",
    "vectorizer = CountVectorizer()\n",
    "vectorizer.fit(x_train)\n",
    "\n",
    "x_train_count = vectorizer.transform(x_train)\n",
    "x_test_count = vectorizer.transform(x_test)"
   ]
  },
  {
   "cell_type": "code",
   "execution_count": 30,
   "id": "34efb28b",
   "metadata": {},
   "outputs": [],
   "source": [
    "tfidf_transformer = TfidfTransformer()\n",
    "tfidf_transformer.fit(x_train_count)\n",
    "\n",
    "x_train_tfidf = tfidf_transformer.transform(x_train_count)\n",
    "x_test_tfidf = tfidf_transformer.transform(x_test_count)"
   ]
  },
  {
   "cell_type": "code",
   "execution_count": 31,
   "id": "ef35bd33",
   "metadata": {},
   "outputs": [
    {
     "data": {
      "text/plain": [
       "(5709, 13271)"
      ]
     },
     "execution_count": 31,
     "metadata": {},
     "output_type": "execute_result"
    }
   ],
   "source": [
    "x_train_count.shape"
   ]
  },
  {
   "cell_type": "markdown",
   "id": "9002466d",
   "metadata": {},
   "source": [
    "<b> Multinomial NB"
   ]
  },
  {
   "cell_type": "code",
   "execution_count": 124,
   "id": "f4ee26bb",
   "metadata": {},
   "outputs": [],
   "source": [
    "nb = MultinomialNB()\n",
    "\n",
    "nb.fit(x_train_count, y_train)\n",
    "y_pred_class = nb.predict(x_test_count)"
   ]
  },
  {
   "cell_type": "code",
   "execution_count": 125,
   "id": "2cd48e6f",
   "metadata": {},
   "outputs": [
    {
     "data": {
      "text/plain": [
       "0.8025210084033614"
      ]
     },
     "execution_count": 125,
     "metadata": {},
     "output_type": "execute_result"
    }
   ],
   "source": [
    "metrics.accuracy_score(y_test, y_pred_class)"
   ]
  },
  {
   "cell_type": "code",
   "execution_count": 126,
   "id": "56f4fd74",
   "metadata": {},
   "outputs": [
    {
     "data": {
      "text/plain": [
       "array([[957, 134],\n",
       "       [242, 571]], dtype=int64)"
      ]
     },
     "execution_count": 126,
     "metadata": {},
     "output_type": "execute_result"
    }
   ],
   "source": [
    "metrics.confusion_matrix(y_test, y_pred_class)"
   ]
  },
  {
   "cell_type": "code",
   "execution_count": 128,
   "id": "a6269b37",
   "metadata": {},
   "outputs": [
    {
     "data": {
      "text/plain": [
       "4536                  wakeupflorida floridians more likely be killed injured trophyhunt killer gun isis\n",
       "3861                                                                   erinmariefishy is setting flames\n",
       "444                       trusting iran stop terrorism is inviting arsonist join fire brigade telegraph\n",
       "1600                                      warne ponting shocked australian collapse yahoo cricket india\n",
       "7223                             weapons stolen national guard armory new albany still missing gunsense\n",
       "7274                                              mantra morning heading make whirlwind trip down south\n",
       "4352    bayelsa poll tension bayelsa patience jonathan plans hijack apc pdp plans former first lady and\n",
       "2209                                                        wa smiles july deluge west australian yahoo\n",
       "2617         russian authorities take account petition destruction sanctioned food vladimir putin press\n",
       "5691                                 rescued dog least years ago is old but still sweet ever zak bagans\n",
       "Name: pos_filtered_text, dtype: object"
      ]
     },
     "execution_count": 128,
     "metadata": {},
     "output_type": "execute_result"
    }
   ],
   "source": [
    "x_test[y_pred_class > y_test].head(10)"
   ]
  },
  {
   "cell_type": "code",
   "execution_count": 129,
   "id": "b1015b91",
   "metadata": {},
   "outputs": [
    {
     "data": {
      "text/plain": [
       "7464                                                                                 crawling skin wounds will hea\n",
       "6837                         hollywood movie trapped miners released chile hollywood movie trapped miners starring\n",
       "5770                                               sweetpea s are running riot allotment and brightening rainy day\n",
       "4661    ledofficial can imagine are inundated requests week samples and amp as much would love be able send sweets\n",
       "4804         daviesmutia breaking news unconfirmed just heard loud bang nearby appears be blast wind neighbour ass\n",
       "299                                        latest bryansinger reveals storm is queen apocalypse rupaul alexshipppp\n",
       "1873                                                                                           sevenfigz has crush\n",
       "6923                                                                                             god ryans trouble\n",
       "7268                                                                    back seattle tacoma and portland whirlwind\n",
       "3112                  am loving classic barn shot may or may have got electrocuted got stung few times and stepped\n",
       "Name: pos_filtered_text, dtype: object"
      ]
     },
     "execution_count": 129,
     "metadata": {},
     "output_type": "execute_result"
    }
   ],
   "source": [
    "x_test[y_pred_class < y_test].head(10)"
   ]
  },
  {
   "cell_type": "code",
   "execution_count": 130,
   "id": "fa58dd6c",
   "metadata": {},
   "outputs": [
    {
     "data": {
      "text/plain": [
       "array([0.98061246, 0.05938338, 0.23990604, ..., 0.99999684, 0.99999623,\n",
       "       0.01707699])"
      ]
     },
     "execution_count": 130,
     "metadata": {},
     "output_type": "execute_result"
    }
   ],
   "source": [
    "y_pred_prob = nb.predict_proba(x_test_count)[:, 1]\n",
    "y_pred_prob"
   ]
  },
  {
   "cell_type": "code",
   "execution_count": 131,
   "id": "2b3b5791",
   "metadata": {},
   "outputs": [
    {
     "data": {
      "text/plain": [
       "0.8505529418263935"
      ]
     },
     "execution_count": 131,
     "metadata": {},
     "output_type": "execute_result"
    }
   ],
   "source": [
    "metrics.roc_auc_score(y_test, y_pred_prob)"
   ]
  },
  {
   "cell_type": "markdown",
   "id": "4af9951c",
   "metadata": {},
   "source": [
    "<b> Multinomial NB with TF-IDF"
   ]
  },
  {
   "cell_type": "code",
   "execution_count": 133,
   "id": "438e69ed",
   "metadata": {},
   "outputs": [],
   "source": [
    "nb.fit(x_train_tfidf,y_train)\n",
    "y_pred_class = nb.predict(x_test_tfidf)"
   ]
  },
  {
   "cell_type": "code",
   "execution_count": 134,
   "id": "a4a0ff2a",
   "metadata": {},
   "outputs": [
    {
     "data": {
      "text/plain": [
       "0.7977941176470589"
      ]
     },
     "execution_count": 134,
     "metadata": {},
     "output_type": "execute_result"
    }
   ],
   "source": [
    "metrics.accuracy_score(y_test, y_pred_class)"
   ]
  },
  {
   "cell_type": "code",
   "execution_count": 135,
   "id": "1ed2facd",
   "metadata": {},
   "outputs": [
    {
     "data": {
      "text/plain": [
       "array([[996,  95],\n",
       "       [290, 523]], dtype=int64)"
      ]
     },
     "execution_count": 135,
     "metadata": {},
     "output_type": "execute_result"
    }
   ],
   "source": [
    "metrics.confusion_matrix(y_test, y_pred_class)"
   ]
  },
  {
   "cell_type": "code",
   "execution_count": 137,
   "id": "6046dda2",
   "metadata": {},
   "outputs": [
    {
     "data": {
      "text/plain": [
       "array([0.70395245, 0.28634013, 0.32553158, ..., 0.8780701 , 0.8352306 ,\n",
       "       0.21113163])"
      ]
     },
     "execution_count": 137,
     "metadata": {},
     "output_type": "execute_result"
    }
   ],
   "source": [
    "y_pred_prob = nb.predict_proba(x_test_tfidf)[:, 1]\n",
    "y_pred_prob"
   ]
  },
  {
   "cell_type": "code",
   "execution_count": 138,
   "id": "801554c4",
   "metadata": {},
   "outputs": [
    {
     "data": {
      "text/plain": [
       "0.857577315461514"
      ]
     },
     "execution_count": 138,
     "metadata": {},
     "output_type": "execute_result"
    }
   ],
   "source": [
    "metrics.roc_auc_score(y_test, y_pred_prob)"
   ]
  },
  {
   "cell_type": "markdown",
   "id": "2388af5a",
   "metadata": {},
   "source": [
    "<b> We see slight improvement in roc_auc with Multinomial NB with TF-IDF matrix"
   ]
  },
  {
   "cell_type": "markdown",
   "id": "6d0e2528",
   "metadata": {},
   "source": [
    "<b>Logistic Regression"
   ]
  },
  {
   "cell_type": "markdown",
   "id": "3dcebe5a",
   "metadata": {},
   "source": [
    "###### With CV"
   ]
  },
  {
   "cell_type": "code",
   "execution_count": 149,
   "id": "bad2e339",
   "metadata": {},
   "outputs": [
    {
     "data": {
      "text/html": [
       "<style>#sk-container-id-3 {color: black;background-color: white;}#sk-container-id-3 pre{padding: 0;}#sk-container-id-3 div.sk-toggleable {background-color: white;}#sk-container-id-3 label.sk-toggleable__label {cursor: pointer;display: block;width: 100%;margin-bottom: 0;padding: 0.3em;box-sizing: border-box;text-align: center;}#sk-container-id-3 label.sk-toggleable__label-arrow:before {content: \"▸\";float: left;margin-right: 0.25em;color: #696969;}#sk-container-id-3 label.sk-toggleable__label-arrow:hover:before {color: black;}#sk-container-id-3 div.sk-estimator:hover label.sk-toggleable__label-arrow:before {color: black;}#sk-container-id-3 div.sk-toggleable__content {max-height: 0;max-width: 0;overflow: hidden;text-align: left;background-color: #f0f8ff;}#sk-container-id-3 div.sk-toggleable__content pre {margin: 0.2em;color: black;border-radius: 0.25em;background-color: #f0f8ff;}#sk-container-id-3 input.sk-toggleable__control:checked~div.sk-toggleable__content {max-height: 200px;max-width: 100%;overflow: auto;}#sk-container-id-3 input.sk-toggleable__control:checked~label.sk-toggleable__label-arrow:before {content: \"▾\";}#sk-container-id-3 div.sk-estimator input.sk-toggleable__control:checked~label.sk-toggleable__label {background-color: #d4ebff;}#sk-container-id-3 div.sk-label input.sk-toggleable__control:checked~label.sk-toggleable__label {background-color: #d4ebff;}#sk-container-id-3 input.sk-hidden--visually {border: 0;clip: rect(1px 1px 1px 1px);clip: rect(1px, 1px, 1px, 1px);height: 1px;margin: -1px;overflow: hidden;padding: 0;position: absolute;width: 1px;}#sk-container-id-3 div.sk-estimator {font-family: monospace;background-color: #f0f8ff;border: 1px dotted black;border-radius: 0.25em;box-sizing: border-box;margin-bottom: 0.5em;}#sk-container-id-3 div.sk-estimator:hover {background-color: #d4ebff;}#sk-container-id-3 div.sk-parallel-item::after {content: \"\";width: 100%;border-bottom: 1px solid gray;flex-grow: 1;}#sk-container-id-3 div.sk-label:hover label.sk-toggleable__label {background-color: #d4ebff;}#sk-container-id-3 div.sk-serial::before {content: \"\";position: absolute;border-left: 1px solid gray;box-sizing: border-box;top: 0;bottom: 0;left: 50%;z-index: 0;}#sk-container-id-3 div.sk-serial {display: flex;flex-direction: column;align-items: center;background-color: white;padding-right: 0.2em;padding-left: 0.2em;position: relative;}#sk-container-id-3 div.sk-item {position: relative;z-index: 1;}#sk-container-id-3 div.sk-parallel {display: flex;align-items: stretch;justify-content: center;background-color: white;position: relative;}#sk-container-id-3 div.sk-item::before, #sk-container-id-3 div.sk-parallel-item::before {content: \"\";position: absolute;border-left: 1px solid gray;box-sizing: border-box;top: 0;bottom: 0;left: 50%;z-index: -1;}#sk-container-id-3 div.sk-parallel-item {display: flex;flex-direction: column;z-index: 1;position: relative;background-color: white;}#sk-container-id-3 div.sk-parallel-item:first-child::after {align-self: flex-end;width: 50%;}#sk-container-id-3 div.sk-parallel-item:last-child::after {align-self: flex-start;width: 50%;}#sk-container-id-3 div.sk-parallel-item:only-child::after {width: 0;}#sk-container-id-3 div.sk-dashed-wrapped {border: 1px dashed gray;margin: 0 0.4em 0.5em 0.4em;box-sizing: border-box;padding-bottom: 0.4em;background-color: white;}#sk-container-id-3 div.sk-label label {font-family: monospace;font-weight: bold;display: inline-block;line-height: 1.2em;}#sk-container-id-3 div.sk-label-container {text-align: center;}#sk-container-id-3 div.sk-container {/* jupyter's `normalize.less` sets `[hidden] { display: none; }` but bootstrap.min.css set `[hidden] { display: none !important; }` so we also need the `!important` here to be able to override the default hidden behavior on the sphinx rendered scikit-learn.org. See: https://github.com/scikit-learn/scikit-learn/issues/21755 */display: inline-block !important;position: relative;}#sk-container-id-3 div.sk-text-repr-fallback {display: none;}</style><div id=\"sk-container-id-3\" class=\"sk-top-container\"><div class=\"sk-text-repr-fallback\"><pre>LogisticRegression(solver=&#x27;liblinear&#x27;)</pre><b>In a Jupyter environment, please rerun this cell to show the HTML representation or trust the notebook. <br />On GitHub, the HTML representation is unable to render, please try loading this page with nbviewer.org.</b></div><div class=\"sk-container\" hidden><div class=\"sk-item\"><div class=\"sk-estimator sk-toggleable\"><input class=\"sk-toggleable__control sk-hidden--visually\" id=\"sk-estimator-id-3\" type=\"checkbox\" checked><label for=\"sk-estimator-id-3\" class=\"sk-toggleable__label sk-toggleable__label-arrow\">LogisticRegression</label><div class=\"sk-toggleable__content\"><pre>LogisticRegression(solver=&#x27;liblinear&#x27;)</pre></div></div></div></div></div>"
      ],
      "text/plain": [
       "LogisticRegression(solver='liblinear')"
      ]
     },
     "execution_count": 149,
     "metadata": {},
     "output_type": "execute_result"
    }
   ],
   "source": [
    "logreg = LogisticRegression(solver='liblinear')\n",
    "\n",
    "logreg.fit(x_train_count, y_train)"
   ]
  },
  {
   "cell_type": "code",
   "execution_count": 150,
   "id": "25c9124d",
   "metadata": {},
   "outputs": [],
   "source": [
    "y_pred_class = logreg.predict(x_test_count)"
   ]
  },
  {
   "cell_type": "code",
   "execution_count": 151,
   "id": "b1417583",
   "metadata": {},
   "outputs": [
    {
     "data": {
      "text/plain": [
       "0.7935924369747899"
      ]
     },
     "execution_count": 151,
     "metadata": {},
     "output_type": "execute_result"
    }
   ],
   "source": [
    "metrics.accuracy_score(y_test, y_pred_class)"
   ]
  },
  {
   "cell_type": "code",
   "execution_count": 152,
   "id": "7023295f",
   "metadata": {},
   "outputs": [
    {
     "data": {
      "text/plain": [
       "array([[960, 131],\n",
       "       [262, 551]], dtype=int64)"
      ]
     },
     "execution_count": 152,
     "metadata": {},
     "output_type": "execute_result"
    }
   ],
   "source": [
    "metrics.confusion_matrix(y_test, y_pred_class)"
   ]
  },
  {
   "cell_type": "code",
   "execution_count": 153,
   "id": "96b0da92",
   "metadata": {},
   "outputs": [
    {
     "data": {
      "text/plain": [
       "array([0.94137283, 0.06389555, 0.20428149, ..., 0.99978985, 0.99973643,\n",
       "       0.05227032])"
      ]
     },
     "execution_count": 153,
     "metadata": {},
     "output_type": "execute_result"
    }
   ],
   "source": [
    "y_pred_prob = nb.predict_proba(x_test_count)[:, 1]\n",
    "y_pred_prob"
   ]
  },
  {
   "cell_type": "code",
   "execution_count": 154,
   "id": "7c1324fc",
   "metadata": {},
   "outputs": [
    {
     "data": {
      "text/plain": [
       "0.850217535172602"
      ]
     },
     "execution_count": 154,
     "metadata": {},
     "output_type": "execute_result"
    }
   ],
   "source": [
    "metrics.roc_auc_score(y_test, y_pred_prob)"
   ]
  },
  {
   "cell_type": "markdown",
   "id": "1f18d803",
   "metadata": {},
   "source": [
    "###### Wtih TF-IDF"
   ]
  },
  {
   "cell_type": "code",
   "execution_count": 155,
   "id": "7589943e",
   "metadata": {},
   "outputs": [
    {
     "data": {
      "text/html": [
       "<style>#sk-container-id-4 {color: black;background-color: white;}#sk-container-id-4 pre{padding: 0;}#sk-container-id-4 div.sk-toggleable {background-color: white;}#sk-container-id-4 label.sk-toggleable__label {cursor: pointer;display: block;width: 100%;margin-bottom: 0;padding: 0.3em;box-sizing: border-box;text-align: center;}#sk-container-id-4 label.sk-toggleable__label-arrow:before {content: \"▸\";float: left;margin-right: 0.25em;color: #696969;}#sk-container-id-4 label.sk-toggleable__label-arrow:hover:before {color: black;}#sk-container-id-4 div.sk-estimator:hover label.sk-toggleable__label-arrow:before {color: black;}#sk-container-id-4 div.sk-toggleable__content {max-height: 0;max-width: 0;overflow: hidden;text-align: left;background-color: #f0f8ff;}#sk-container-id-4 div.sk-toggleable__content pre {margin: 0.2em;color: black;border-radius: 0.25em;background-color: #f0f8ff;}#sk-container-id-4 input.sk-toggleable__control:checked~div.sk-toggleable__content {max-height: 200px;max-width: 100%;overflow: auto;}#sk-container-id-4 input.sk-toggleable__control:checked~label.sk-toggleable__label-arrow:before {content: \"▾\";}#sk-container-id-4 div.sk-estimator input.sk-toggleable__control:checked~label.sk-toggleable__label {background-color: #d4ebff;}#sk-container-id-4 div.sk-label input.sk-toggleable__control:checked~label.sk-toggleable__label {background-color: #d4ebff;}#sk-container-id-4 input.sk-hidden--visually {border: 0;clip: rect(1px 1px 1px 1px);clip: rect(1px, 1px, 1px, 1px);height: 1px;margin: -1px;overflow: hidden;padding: 0;position: absolute;width: 1px;}#sk-container-id-4 div.sk-estimator {font-family: monospace;background-color: #f0f8ff;border: 1px dotted black;border-radius: 0.25em;box-sizing: border-box;margin-bottom: 0.5em;}#sk-container-id-4 div.sk-estimator:hover {background-color: #d4ebff;}#sk-container-id-4 div.sk-parallel-item::after {content: \"\";width: 100%;border-bottom: 1px solid gray;flex-grow: 1;}#sk-container-id-4 div.sk-label:hover label.sk-toggleable__label {background-color: #d4ebff;}#sk-container-id-4 div.sk-serial::before {content: \"\";position: absolute;border-left: 1px solid gray;box-sizing: border-box;top: 0;bottom: 0;left: 50%;z-index: 0;}#sk-container-id-4 div.sk-serial {display: flex;flex-direction: column;align-items: center;background-color: white;padding-right: 0.2em;padding-left: 0.2em;position: relative;}#sk-container-id-4 div.sk-item {position: relative;z-index: 1;}#sk-container-id-4 div.sk-parallel {display: flex;align-items: stretch;justify-content: center;background-color: white;position: relative;}#sk-container-id-4 div.sk-item::before, #sk-container-id-4 div.sk-parallel-item::before {content: \"\";position: absolute;border-left: 1px solid gray;box-sizing: border-box;top: 0;bottom: 0;left: 50%;z-index: -1;}#sk-container-id-4 div.sk-parallel-item {display: flex;flex-direction: column;z-index: 1;position: relative;background-color: white;}#sk-container-id-4 div.sk-parallel-item:first-child::after {align-self: flex-end;width: 50%;}#sk-container-id-4 div.sk-parallel-item:last-child::after {align-self: flex-start;width: 50%;}#sk-container-id-4 div.sk-parallel-item:only-child::after {width: 0;}#sk-container-id-4 div.sk-dashed-wrapped {border: 1px dashed gray;margin: 0 0.4em 0.5em 0.4em;box-sizing: border-box;padding-bottom: 0.4em;background-color: white;}#sk-container-id-4 div.sk-label label {font-family: monospace;font-weight: bold;display: inline-block;line-height: 1.2em;}#sk-container-id-4 div.sk-label-container {text-align: center;}#sk-container-id-4 div.sk-container {/* jupyter's `normalize.less` sets `[hidden] { display: none; }` but bootstrap.min.css set `[hidden] { display: none !important; }` so we also need the `!important` here to be able to override the default hidden behavior on the sphinx rendered scikit-learn.org. See: https://github.com/scikit-learn/scikit-learn/issues/21755 */display: inline-block !important;position: relative;}#sk-container-id-4 div.sk-text-repr-fallback {display: none;}</style><div id=\"sk-container-id-4\" class=\"sk-top-container\"><div class=\"sk-text-repr-fallback\"><pre>LogisticRegression(solver=&#x27;liblinear&#x27;)</pre><b>In a Jupyter environment, please rerun this cell to show the HTML representation or trust the notebook. <br />On GitHub, the HTML representation is unable to render, please try loading this page with nbviewer.org.</b></div><div class=\"sk-container\" hidden><div class=\"sk-item\"><div class=\"sk-estimator sk-toggleable\"><input class=\"sk-toggleable__control sk-hidden--visually\" id=\"sk-estimator-id-4\" type=\"checkbox\" checked><label for=\"sk-estimator-id-4\" class=\"sk-toggleable__label sk-toggleable__label-arrow\">LogisticRegression</label><div class=\"sk-toggleable__content\"><pre>LogisticRegression(solver=&#x27;liblinear&#x27;)</pre></div></div></div></div></div>"
      ],
      "text/plain": [
       "LogisticRegression(solver='liblinear')"
      ]
     },
     "execution_count": 155,
     "metadata": {},
     "output_type": "execute_result"
    }
   ],
   "source": [
    "logreg.fit(x_train_tfidf, y_train)"
   ]
  },
  {
   "cell_type": "code",
   "execution_count": 156,
   "id": "43ad3102",
   "metadata": {},
   "outputs": [],
   "source": [
    "y_pred_class = logreg.predict(x_test_tfidf)"
   ]
  },
  {
   "cell_type": "code",
   "execution_count": 157,
   "id": "191bee66",
   "metadata": {},
   "outputs": [
    {
     "data": {
      "text/plain": [
       "0.7988445378151261"
      ]
     },
     "execution_count": 157,
     "metadata": {},
     "output_type": "execute_result"
    }
   ],
   "source": [
    "metrics.accuracy_score(y_test, y_pred_class)"
   ]
  },
  {
   "cell_type": "code",
   "execution_count": 158,
   "id": "29f6d71a",
   "metadata": {},
   "outputs": [
    {
     "data": {
      "text/plain": [
       "array([[983, 108],\n",
       "       [275, 538]], dtype=int64)"
      ]
     },
     "execution_count": 158,
     "metadata": {},
     "output_type": "execute_result"
    }
   ],
   "source": [
    "metrics.confusion_matrix(y_test, y_pred_class)"
   ]
  },
  {
   "cell_type": "code",
   "execution_count": 159,
   "id": "aa5ccb21",
   "metadata": {},
   "outputs": [
    {
     "data": {
      "text/plain": [
       "array([0.70395245, 0.28634013, 0.32553158, ..., 0.8780701 , 0.8352306 ,\n",
       "       0.21113163])"
      ]
     },
     "execution_count": 159,
     "metadata": {},
     "output_type": "execute_result"
    }
   ],
   "source": [
    "y_pred_prob = nb.predict_proba(x_test_tfidf)[:, 1]\n",
    "y_pred_prob"
   ]
  },
  {
   "cell_type": "code",
   "execution_count": 160,
   "id": "af276b7f",
   "metadata": {},
   "outputs": [
    {
     "data": {
      "text/plain": [
       "0.857577315461514"
      ]
     },
     "execution_count": 160,
     "metadata": {},
     "output_type": "execute_result"
    }
   ],
   "source": [
    "metrics.roc_auc_score(y_test, y_pred_prob)"
   ]
  },
  {
   "cell_type": "markdown",
   "id": "b2845e35",
   "metadata": {},
   "source": [
    "#### prediction"
   ]
  },
  {
   "cell_type": "code",
   "execution_count": 161,
   "id": "7870dbed",
   "metadata": {},
   "outputs": [
    {
     "data": {
      "application/vnd.jupyter.widget-view+json": {
       "model_id": "ef1494140da942289fd5e99f5225e89a",
       "version_major": 2,
       "version_minor": 0
      },
      "text/plain": [
       "Pandas Apply:   0%|          | 0/3263 [00:00<?, ?it/s]"
      ]
     },
     "metadata": {},
     "output_type": "display_data"
    },
    {
     "data": {
      "application/vnd.jupyter.widget-view+json": {
       "model_id": "be5ada5e94424a26b524c8d1199f84fa",
       "version_major": 2,
       "version_minor": 0
      },
      "text/plain": [
       "Pandas Apply:   0%|          | 0/3263 [00:00<?, ?it/s]"
      ]
     },
     "metadata": {},
     "output_type": "display_data"
    },
    {
     "data": {
      "application/vnd.jupyter.widget-view+json": {
       "model_id": "cd11394ee8a04e1786d2ed7eee0224d0",
       "version_major": 2,
       "version_minor": 0
      },
      "text/plain": [
       "Pandas Apply:   0%|          | 0/3263 [00:00<?, ?it/s]"
      ]
     },
     "metadata": {},
     "output_type": "display_data"
    },
    {
     "data": {
      "application/vnd.jupyter.widget-view+json": {
       "model_id": "f8dbb15b5d654dddbc0d94993ea02f2d",
       "version_major": 2,
       "version_minor": 0
      },
      "text/plain": [
       "Pandas Apply:   0%|          | 0/3263 [00:00<?, ?it/s]"
      ]
     },
     "metadata": {},
     "output_type": "display_data"
    }
   ],
   "source": [
    "#Noise Removal - First we will lower the text\n",
    "df_submission['text_lowered'] = df_submission['text'].str.lower()\n",
    "\n",
    "#Replace apostrophe/short words in python\n",
    "df_submission['text_contraction_fixed'] = df_submission['text_lowered'].swifter.apply(contract_fix)\n",
    "\n",
    "#Remove http URLs from the text\n",
    "df_submission['text_url_removed'] = df_submission['text_contraction_fixed'].swifter.apply(lambda x : re.sub(r'http\\S+', '', x))\n",
    "\n",
    "#Checking the tweets where we see punctation present\n",
    "df_submission['text_url_spclchar_removed'] = df_submission['text_url_removed'].swifter.apply(lambda x : re.sub(r'[^&$%a-zA-Z]', ' ', x))\n",
    "\n",
    "#Replacing few special chars with meaning\n",
    "df_submission['text_url_spclchar_removed'] = df_submission['text_url_spclchar_removed'].swifter.apply(replace_char)"
   ]
  },
  {
   "cell_type": "code",
   "execution_count": 162,
   "id": "1acd9304",
   "metadata": {},
   "outputs": [
    {
     "data": {
      "application/vnd.jupyter.widget-view+json": {
       "model_id": "fb73904fb189434bbb9c178a526dd921",
       "version_major": 2,
       "version_minor": 0
      },
      "text/plain": [
       "Pandas Apply:   0%|          | 0/3263 [00:00<?, ?it/s]"
      ]
     },
     "metadata": {},
     "output_type": "display_data"
    }
   ],
   "source": [
    "df_submission['lemmatized_text'] = df_submission['text_url_spclchar_removed'].swifter.apply(lemmatization)"
   ]
  },
  {
   "cell_type": "code",
   "execution_count": 165,
   "id": "91e26d58",
   "metadata": {},
   "outputs": [
    {
     "data": {
      "application/vnd.jupyter.widget-view+json": {
       "model_id": "a8671d92efc94604813e623774066ccd",
       "version_major": 2,
       "version_minor": 0
      },
      "text/plain": [
       "Pandas Apply:   0%|          | 0/3263 [00:00<?, ?it/s]"
      ]
     },
     "metadata": {},
     "output_type": "display_data"
    }
   ],
   "source": [
    "df_submission['pos_filtered_text'] = df_submission['text_url_spclchar_removed'].swifter.apply(pos_tag_filtering)"
   ]
  },
  {
   "cell_type": "code",
   "execution_count": 168,
   "id": "d1628067",
   "metadata": {},
   "outputs": [],
   "source": [
    "x_pred = df_submission['pos_filtered_text']"
   ]
  },
  {
   "cell_type": "code",
   "execution_count": 169,
   "id": "7918953f",
   "metadata": {},
   "outputs": [],
   "source": [
    "x_pred_count = vectorizer.transform(x_pred)\n",
    "x_pred_tfidf = tfidf_transformer.transform(x_pred_count)"
   ]
  },
  {
   "cell_type": "code",
   "execution_count": 170,
   "id": "b50cb520",
   "metadata": {},
   "outputs": [],
   "source": [
    "df_submission['predicted_label'] = nb.predict(x_pred_tfidf)"
   ]
  },
  {
   "cell_type": "code",
   "execution_count": 172,
   "id": "a5062d7b",
   "metadata": {},
   "outputs": [
    {
     "data": {
      "text/plain": [
       "0    2207\n",
       "1    1056\n",
       "Name: predicted_label, dtype: int64"
      ]
     },
     "execution_count": 172,
     "metadata": {},
     "output_type": "execute_result"
    }
   ],
   "source": [
    "df_submission['predicted_label'].value_counts()"
   ]
  },
  {
   "cell_type": "code",
   "execution_count": 174,
   "id": "6d86bdb2",
   "metadata": {},
   "outputs": [],
   "source": [
    "submission = pd.read_csv('sample_submission.csv')"
   ]
  },
  {
   "cell_type": "code",
   "execution_count": 183,
   "id": "792159fa",
   "metadata": {},
   "outputs": [],
   "source": [
    "df_out = df_submission[['id','predicted_label']].rename({'predicted_label':'target'})"
   ]
  },
  {
   "cell_type": "code",
   "execution_count": 184,
   "id": "6dbfd1c4",
   "metadata": {},
   "outputs": [],
   "source": [
    "df_out.to_csv('sample_submission.csv')"
   ]
  },
  {
   "cell_type": "code",
   "execution_count": null,
   "id": "ed4a8625",
   "metadata": {},
   "outputs": [],
   "source": []
  }
 ],
 "metadata": {
  "kernelspec": {
   "display_name": "Python 3 (ipykernel)",
   "language": "python",
   "name": "python3"
  },
  "language_info": {
   "codemirror_mode": {
    "name": "ipython",
    "version": 3
   },
   "file_extension": ".py",
   "mimetype": "text/x-python",
   "name": "python",
   "nbconvert_exporter": "python",
   "pygments_lexer": "ipython3",
   "version": "3.9.13"
  }
 },
 "nbformat": 4,
 "nbformat_minor": 5
}

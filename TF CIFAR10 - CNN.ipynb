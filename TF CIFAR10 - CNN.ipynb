{
 "cells": [
  {
   "cell_type": "code",
   "execution_count": 1,
   "id": "1b2284e5",
   "metadata": {},
   "outputs": [],
   "source": [
    "import numpy as np\n",
    "import pandas as pd\n",
    "import matplotlib.pyplot as plt\n",
    "\n",
    "import tensorflow as tf\n",
    "from tensorflow.keras.layers import Conv2D,Dense,Dropout,GlobalMaxPool2D,Input,Flatten\n",
    "from tensorflow.keras.models import Model"
   ]
  },
  {
   "cell_type": "code",
   "execution_count": 2,
   "id": "67b1e3c8",
   "metadata": {},
   "outputs": [
    {
     "data": {
      "text/plain": [
       "[PhysicalDevice(name='/physical_device:CPU:0', device_type='CPU'),\n",
       " PhysicalDevice(name='/physical_device:GPU:0', device_type='GPU')]"
      ]
     },
     "execution_count": 2,
     "metadata": {},
     "output_type": "execute_result"
    }
   ],
   "source": [
    "tf.config.experimental.list_physical_devices()"
   ]
  },
  {
   "cell_type": "code",
   "execution_count": 3,
   "id": "53e595b6",
   "metadata": {},
   "outputs": [
    {
     "data": {
      "text/plain": [
       "True"
      ]
     },
     "execution_count": 3,
     "metadata": {},
     "output_type": "execute_result"
    }
   ],
   "source": [
    "tf.test.is_built_with_cuda()"
   ]
  },
  {
   "cell_type": "code",
   "execution_count": 4,
   "id": "15ca9188",
   "metadata": {},
   "outputs": [],
   "source": [
    "cifar = tf.keras.datasets.cifar10"
   ]
  },
  {
   "cell_type": "code",
   "execution_count": 5,
   "id": "d1108bf2",
   "metadata": {},
   "outputs": [],
   "source": [
    "(x_train,y_train),(x_test,y_test) = cifar.load_data()"
   ]
  },
  {
   "cell_type": "code",
   "execution_count": 4,
   "id": "67de0f50",
   "metadata": {},
   "outputs": [],
   "source": [
    "x_train,x_test = x_train/255.0 , x_test/255.0"
   ]
  },
  {
   "cell_type": "code",
   "execution_count": 9,
   "id": "68c4ab35",
   "metadata": {},
   "outputs": [],
   "source": [
    "y_train,y_test = y_train.flatten(),y_test.flatten()"
   ]
  },
  {
   "cell_type": "code",
   "execution_count": 10,
   "id": "1a3977d2",
   "metadata": {},
   "outputs": [],
   "source": [
    "# x_train = np.expand_dims(x_train,-1)\n",
    "# x_test = np.expand_dims(x_test,-1)\n",
    "# print(x_train.shape)"
   ]
  },
  {
   "cell_type": "code",
   "execution_count": 12,
   "id": "16beae1a",
   "metadata": {},
   "outputs": [
    {
     "data": {
      "text/plain": [
       "(50000, 32, 32, 3)"
      ]
     },
     "execution_count": 12,
     "metadata": {},
     "output_type": "execute_result"
    }
   ],
   "source": [
    "x_train.shape"
   ]
  },
  {
   "cell_type": "code",
   "execution_count": 11,
   "id": "195a652c",
   "metadata": {},
   "outputs": [
    {
     "name": "stdout",
     "output_type": "stream",
     "text": [
      "The No. of classes = 10\n"
     ]
    }
   ],
   "source": [
    "k = len(set(y_train))\n",
    "print(f'The No. of classes = {k}')"
   ]
  },
  {
   "cell_type": "code",
   "execution_count": 13,
   "id": "d2e36799",
   "metadata": {},
   "outputs": [],
   "source": [
    "i = Input(x_train[0].shape)\n",
    "x = Conv2D(32,(3,3),strides=2,activation='relu')(i)\n",
    "x = Conv2D(64,(3,3),strides=2,activation='relu')(x)\n",
    "x = Conv2D(128,(3,3),strides=2,activation='relu')(x)\n",
    "x = Flatten()(x)\n",
    "x = Dropout(0.2)(x)\n",
    "x = Dense(1024,activation='relu')(x)\n",
    "x = Dropout(0.2)(x)\n",
    "x = Dense(k,activation='softmax')(x)\n",
    "\n",
    "model = Model(i,x)"
   ]
  },
  {
   "cell_type": "code",
   "execution_count": 14,
   "id": "51dfaf24",
   "metadata": {},
   "outputs": [
    {
     "name": "stdout",
     "output_type": "stream",
     "text": [
      "Model: \"model\"\n",
      "_________________________________________________________________\n",
      " Layer (type)                Output Shape              Param #   \n",
      "=================================================================\n",
      " input_1 (InputLayer)        [(None, 32, 32, 3)]       0         \n",
      "                                                                 \n",
      " conv2d (Conv2D)             (None, 15, 15, 32)        896       \n",
      "                                                                 \n",
      " conv2d_1 (Conv2D)           (None, 7, 7, 64)          18496     \n",
      "                                                                 \n",
      " conv2d_2 (Conv2D)           (None, 3, 3, 128)         73856     \n",
      "                                                                 \n",
      " flatten (Flatten)           (None, 1152)              0         \n",
      "                                                                 \n",
      " dropout (Dropout)           (None, 1152)              0         \n",
      "                                                                 \n",
      " dense (Dense)               (None, 1024)              1180672   \n",
      "                                                                 \n",
      " dropout_1 (Dropout)         (None, 1024)              0         \n",
      "                                                                 \n",
      " dense_1 (Dense)             (None, 10)                10250     \n",
      "                                                                 \n",
      "=================================================================\n",
      "Total params: 1,284,170\n",
      "Trainable params: 1,284,170\n",
      "Non-trainable params: 0\n",
      "_________________________________________________________________\n"
     ]
    }
   ],
   "source": [
    "model.summary()"
   ]
  },
  {
   "cell_type": "code",
   "execution_count": 15,
   "id": "a51934a8",
   "metadata": {},
   "outputs": [],
   "source": [
    "model.compile(optimizer='adam',loss='sparse_categorical_crossentropy',metrics=['accuracy'])"
   ]
  },
  {
   "cell_type": "code",
   "execution_count": 16,
   "id": "87781241",
   "metadata": {},
   "outputs": [
    {
     "name": "stdout",
     "output_type": "stream",
     "text": [
      "Epoch 1/15\n",
      "1563/1563 [==============================] - 21s 13ms/step - loss: 1.5057 - accuracy: 0.4558 - val_loss: 1.2602 - val_accuracy: 0.5431\n",
      "Epoch 2/15\n",
      "1563/1563 [==============================] - 23s 14ms/step - loss: 1.1587 - accuracy: 0.5856 - val_loss: 1.0732 - val_accuracy: 0.6130\n",
      "Epoch 3/15\n",
      "1563/1563 [==============================] - 20s 13ms/step - loss: 0.9950 - accuracy: 0.6465 - val_loss: 0.9769 - val_accuracy: 0.6543\n",
      "Epoch 4/15\n",
      "1563/1563 [==============================] - 19s 12ms/step - loss: 0.8651 - accuracy: 0.6936 - val_loss: 0.8976 - val_accuracy: 0.6838\n",
      "Epoch 5/15\n",
      "1563/1563 [==============================] - 20s 13ms/step - loss: 0.7535 - accuracy: 0.7332 - val_loss: 0.9098 - val_accuracy: 0.6813\n",
      "Epoch 6/15\n",
      "1563/1563 [==============================] - 19s 12ms/step - loss: 0.6648 - accuracy: 0.7662 - val_loss: 0.8789 - val_accuracy: 0.6980\n",
      "Epoch 7/15\n",
      "1563/1563 [==============================] - 20s 13ms/step - loss: 0.5796 - accuracy: 0.7937 - val_loss: 0.9097 - val_accuracy: 0.6978\n",
      "Epoch 8/15\n",
      "1563/1563 [==============================] - 19s 12ms/step - loss: 0.5040 - accuracy: 0.8221 - val_loss: 0.9321 - val_accuracy: 0.6989\n",
      "Epoch 9/15\n",
      "1563/1563 [==============================] - 18s 11ms/step - loss: 0.4438 - accuracy: 0.8443 - val_loss: 0.9540 - val_accuracy: 0.7000\n",
      "Epoch 10/15\n",
      "1563/1563 [==============================] - 18s 11ms/step - loss: 0.3919 - accuracy: 0.8608 - val_loss: 0.9930 - val_accuracy: 0.6973\n",
      "Epoch 11/15\n",
      "1563/1563 [==============================] - 18s 11ms/step - loss: 0.3508 - accuracy: 0.8757 - val_loss: 1.0298 - val_accuracy: 0.6936\n",
      "Epoch 12/15\n",
      "1563/1563 [==============================] - 21s 14ms/step - loss: 0.3158 - accuracy: 0.8889 - val_loss: 1.0501 - val_accuracy: 0.7054\n",
      "Epoch 13/15\n",
      "1563/1563 [==============================] - 21s 14ms/step - loss: 0.3016 - accuracy: 0.8937 - val_loss: 1.0512 - val_accuracy: 0.7051\n",
      "Epoch 14/15\n",
      "1563/1563 [==============================] - 21s 14ms/step - loss: 0.2733 - accuracy: 0.9043 - val_loss: 1.1258 - val_accuracy: 0.6999\n",
      "Epoch 15/15\n",
      "1563/1563 [==============================] - 22s 14ms/step - loss: 0.2569 - accuracy: 0.9103 - val_loss: 1.1399 - val_accuracy: 0.7054\n"
     ]
    }
   ],
   "source": [
    "r = model.fit(x_train,y_train,validation_data=(x_test,y_test),epochs=15)"
   ]
  },
  {
   "cell_type": "code",
   "execution_count": 12,
   "id": "0d4a7ec0",
   "metadata": {},
   "outputs": [
    {
     "data": {
      "text/plain": [
       "<matplotlib.legend.Legend at 0x1393944ce50>"
      ]
     },
     "execution_count": 12,
     "metadata": {},
     "output_type": "execute_result"
    },
    {
     "data": {
      "image/png": "[encoded data removed]",
      "text/plain": [
       "<Figure size 432x288 with 1 Axes>"
      ]
     },
     "metadata": {
      "needs_background": "light"
     },
     "output_type": "display_data"
    }
   ],
   "source": [
    "plt.plot(r.history['loss'], label='loss')\n",
    "plt.plot(r.history['val_loss'], label='val_loss')\n",
    "plt.legend()"
   ]
  },
  {
   "cell_type": "code",
   "execution_count": 13,
   "id": "f021746b",
   "metadata": {},
   "outputs": [
    {
     "data": {
      "text/plain": [
       "<matplotlib.legend.Legend at 0x139397a6490>"
      ]
     },
     "execution_count": 13,
     "metadata": {},
     "output_type": "execute_result"
    },
    {
     "data": {
      "image/png": "[encoded data removed]",
      "text/plain": [
       "<Figure size 432x288 with 1 Axes>"
      ]
     },
     "metadata": {
      "needs_background": "light"
     },
     "output_type": "display_data"
    }
   ],
   "source": [
    "plt.plot(r.history['accuracy'], label='acc')\n",
    "plt.plot(r.history['val_accuracy'], label='val_acc')\n",
    "plt.legend()"
   ]
  },
  {
   "cell_type": "code",
   "execution_count": 14,
   "id": "790f6bca",
   "metadata": {},
   "outputs": [
    {
     "name": "stdout",
     "output_type": "stream",
     "text": [
      "313/313 [==============================] - 1s 2ms/step\n",
      "Confusion matrix, without normalization\n",
      "[[889   1  22  14   2   3  66   0   3   0]\n",
      " [  2 974   0  13   4   0   4   0   3   0]\n",
      " [ 19   1 864   8  59   0  49   0   0   0]\n",
      " [ 17   3  21 888  38   3  28   0   2   0]\n",
      " [  1   1  59  15 843   0  79   0   2   0]\n",
      " [  0   0   0   0   0 981   0  13   0   6]\n",
      " [133   1  79  22  88   0 667   0  10   0]\n",
      " [  0   0   0   0   0  19   0 949   0  32]\n",
      " [  7   1   5   2   4   4   2   1 974   0]\n",
      " [  1   0   0   0   0   5   0  31   0 963]]\n"
     ]
    },
    {
     "data": {
      "image/png": "[encoded data removed]",
      "text/plain": [
       "<Figure size 432x288 with 2 Axes>"
      ]
     },
     "metadata": {
      "needs_background": "light"
     },
     "output_type": "display_data"
    }
   ],
   "source": [
    "# Plot confusion matrix\n",
    "from sklearn.metrics import confusion_matrix\n",
    "import itertools\n",
    "\n",
    "def plot_confusion_matrix(cm, classes,\n",
    "                          normalize=False,\n",
    "                          title='Confusion matrix',\n",
    "                          cmap=plt.cm.Blues):\n",
    "  \"\"\"\n",
    "  This function prints and plots the confusion matrix.\n",
    "  Normalization can be applied by setting `normalize=True`.\n",
    "  \"\"\"\n",
    "  if normalize:\n",
    "      cm = cm.astype('float') / cm.sum(axis=1)[:, np.newaxis]\n",
    "      print(\"Normalized confusion matrix\")\n",
    "  else:\n",
    "      print('Confusion matrix, without normalization')\n",
    "\n",
    "  print(cm)\n",
    "\n",
    "  plt.imshow(cm, interpolation='nearest', cmap=cmap)\n",
    "  plt.title(title)\n",
    "  plt.colorbar()\n",
    "  tick_marks = np.arange(len(classes))\n",
    "  plt.xticks(tick_marks, classes, rotation=45)\n",
    "  plt.yticks(tick_marks, classes)\n",
    "\n",
    "  fmt = '.2f' if normalize else 'd'\n",
    "  thresh = cm.max() / 2.\n",
    "  for i, j in itertools.product(range(cm.shape[0]), range(cm.shape[1])):\n",
    "      plt.text(j, i, format(cm[i, j], fmt),\n",
    "               horizontalalignment=\"center\",\n",
    "               color=\"white\" if cm[i, j] > thresh else \"black\")\n",
    "\n",
    "  plt.tight_layout()\n",
    "  plt.ylabel('True label')\n",
    "  plt.xlabel('Predicted label')\n",
    "  plt.show()\n",
    "\n",
    "\n",
    "p_test = model.predict(x_test).argmax(axis=1)\n",
    "cm = confusion_matrix(y_test, p_test)\n",
    "plot_confusion_matrix(cm, list(range(10)))"
   ]
  },
  {
   "cell_type": "code",
   "execution_count": 17,
   "id": "c2bf88f5",
   "metadata": {},
   "outputs": [],
   "source": [
    "labels = '''T-shirt/top\n",
    "Trouser\n",
    "Pullover\n",
    "Dress\n",
    "Coat\n",
    "Sandal\n",
    "Shirt\n",
    "Sneaker\n",
    "Bag\n",
    "Ankle boot'''.split(\"\\n\")"
   ]
  },
  {
   "cell_type": "code",
   "execution_count": 18,
   "id": "6ca71b39",
   "metadata": {},
   "outputs": [
    {
     "data": {
      "image/png": "[encoded data removed]",
      "text/plain": [
       "<Figure size 432x288 with 1 Axes>"
      ]
     },
     "metadata": {
      "needs_background": "light"
     },
     "output_type": "display_data"
    }
   ],
   "source": [
    "misclassified_idx = np.where(p_test != y_test)[0]\n",
    "i = np.random.choice(misclassified_idx)\n",
    "plt.imshow(x_test[i], cmap='gray')\n",
    "plt.title(\"True label: %s Predicted: %s\" % (labels[y_test[i]], labels[p_test[i]]));"
   ]
  },
  {
   "cell_type": "code",
   "execution_count": null,
   "id": "c5517dd6",
   "metadata": {},
   "outputs": [],
   "source": []
  }
 ],
 "metadata": {
  "kernelspec": {
   "display_name": "Python 3 (ipykernel)",
   "language": "python",
   "name": "python3"
  },
  "language_info": {
   "codemirror_mode": {
    "name": "ipython",
    "version": 3
   },
   "file_extension": ".py",
   "mimetype": "text/x-python",
   "name": "python",
   "nbconvert_exporter": "python",
   "pygments_lexer": "ipython3",
   "version": "3.9.13"
  }
 },
 "nbformat": 4,
 "nbformat_minor": 5
}

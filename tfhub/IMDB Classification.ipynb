{
 "cells": [
  {
   "cell_type": "code",
   "execution_count": 1,
   "id": "b8f282cb",
   "metadata": {},
   "outputs": [
    {
     "name": "stdout",
     "output_type": "stream",
     "text": [
      "Version:  2.9.1\n",
      "Eager mode:  True\n",
      "Hub version:  0.12.0\n",
      "GPU is NOT AVAILABLE\n"
     ]
    }
   ],
   "source": [
    "import numpy as np\n",
    "\n",
    "import tensorflow as tf\n",
    "import tensorflow_hub as hub\n",
    "import tensorflow_datasets as tfds\n",
    "\n",
    "import matplotlib.pyplot as plt\n",
    "\n",
    "print(\"Version: \", tf.__version__)\n",
    "print(\"Eager mode: \", tf.executing_eagerly())\n",
    "print(\"Hub version: \", hub.__version__)\n",
    "print(\"GPU is\", \"available\" if tf.config.list_physical_devices('GPU') else \"NOT AVAILABLE\")"
   ]
  },
  {
   "cell_type": "code",
   "execution_count": 2,
   "id": "26eaa090",
   "metadata": {},
   "outputs": [],
   "source": [
    "train_data, test_data = tfds.load(name=\"imdb_reviews\", split=[\"train\", \"test\"], \n",
    "                                  batch_size=-1, as_supervised=True)\n",
    "\n",
    "train_examples, train_labels = tfds.as_numpy(train_data)\n",
    "test_examples, test_labels = tfds.as_numpy(test_data)"
   ]
  },
  {
   "cell_type": "code",
   "execution_count": 3,
   "id": "0115ceeb",
   "metadata": {},
   "outputs": [
    {
     "name": "stdout",
     "output_type": "stream",
     "text": [
      "Training entries: 25000, test entries: 25000\n"
     ]
    }
   ],
   "source": [
    "print(\"Training entries: {}, test entries: {}\".format(len(train_examples), len(test_examples)))"
   ]
  },
  {
   "cell_type": "code",
   "execution_count": 4,
   "id": "6dd640e2",
   "metadata": {},
   "outputs": [],
   "source": [
    "model = \"https://tfhub.dev/google/nnlm-en-dim50/2\"\n",
    "hub_layer = hub.KerasLayer(model, input_shape=[], dtype=tf.string, trainable=True)"
   ]
  },
  {
   "cell_type": "code",
   "execution_count": 5,
   "id": "28947b1f",
   "metadata": {},
   "outputs": [
    {
     "name": "stdout",
     "output_type": "stream",
     "text": [
      "Model: \"sequential\"\n",
      "_________________________________________________________________\n",
      " Layer (type)                Output Shape              Param #   \n",
      "=================================================================\n",
      " keras_layer (KerasLayer)    (None, 50)                48190600  \n",
      "                                                                 \n",
      " dense (Dense)               (None, 16)                816       \n",
      "                                                                 \n",
      " dense_1 (Dense)             (None, 16)                272       \n",
      "                                                                 \n",
      " dense_2 (Dense)             (None, 1)                 17        \n",
      "                                                                 \n",
      "=================================================================\n",
      "Total params: 48,191,705\n",
      "Trainable params: 48,191,705\n",
      "Non-trainable params: 0\n",
      "_________________________________________________________________\n"
     ]
    }
   ],
   "source": [
    "model = tf.keras.Sequential()\n",
    "model.add(hub_layer)\n",
    "model.add(tf.keras.layers.Dense(16,activation='relu'))\n",
    "model.add(tf.keras.layers.Dense(16,activation='relu'))\n",
    "model.add(tf.keras.layers.Dense(1))\n",
    "model.summary()"
   ]
  },
  {
   "cell_type": "code",
   "execution_count": 6,
   "id": "eef0ac46",
   "metadata": {},
   "outputs": [],
   "source": [
    "model.compile(optimizer='adam',\n",
    "              loss=tf.losses.BinaryCrossentropy(from_logits=True),\n",
    "              metrics=[tf.metrics.BinaryAccuracy(threshold=0.0, name='accuracy')])"
   ]
  },
  {
   "cell_type": "code",
   "execution_count": 7,
   "id": "98451e3b",
   "metadata": {},
   "outputs": [],
   "source": [
    "x_val = train_examples[:10000]\n",
    "partial_x_train = train_examples[10000:]\n",
    "\n",
    "y_val = train_labels[:10000]\n",
    "partial_y_train = train_labels[10000:]"
   ]
  },
  {
   "cell_type": "code",
   "execution_count": 8,
   "id": "dd2793ac",
   "metadata": {},
   "outputs": [
    {
     "name": "stdout",
     "output_type": "stream",
     "text": [
      "Epoch 1/40\n",
      "30/30 [==============================] - 14s 443ms/step - loss: 0.6704 - accuracy: 0.5981 - val_loss: 0.6148 - val_accuracy: 0.6985\n",
      "Epoch 2/40\n",
      "30/30 [==============================] - 13s 436ms/step - loss: 0.5399 - accuracy: 0.7697 - val_loss: 0.4818 - val_accuracy: 0.7977\n",
      "Epoch 3/40\n",
      "30/30 [==============================] - 13s 438ms/step - loss: 0.3682 - accuracy: 0.8662 - val_loss: 0.3625 - val_accuracy: 0.8490\n",
      "Epoch 4/40\n",
      "30/30 [==============================] - 13s 438ms/step - loss: 0.2399 - accuracy: 0.9191 - val_loss: 0.3194 - val_accuracy: 0.8621\n",
      "Epoch 5/40\n",
      "30/30 [==============================] - 13s 438ms/step - loss: 0.1597 - accuracy: 0.9509 - val_loss: 0.3025 - val_accuracy: 0.8714\n",
      "Epoch 6/40\n",
      "30/30 [==============================] - 13s 433ms/step - loss: 0.1040 - accuracy: 0.9722 - val_loss: 0.3082 - val_accuracy: 0.8747\n",
      "Epoch 7/40\n",
      "30/30 [==============================] - 13s 436ms/step - loss: 0.0656 - accuracy: 0.9864 - val_loss: 0.3238 - val_accuracy: 0.8726\n",
      "Epoch 8/40\n",
      "30/30 [==============================] - 13s 437ms/step - loss: 0.0409 - accuracy: 0.9940 - val_loss: 0.3441 - val_accuracy: 0.8700\n",
      "Epoch 9/40\n",
      "30/30 [==============================] - 13s 439ms/step - loss: 0.0257 - accuracy: 0.9976 - val_loss: 0.3653 - val_accuracy: 0.8697\n",
      "Epoch 10/40\n",
      "30/30 [==============================] - 13s 438ms/step - loss: 0.0160 - accuracy: 0.9991 - val_loss: 0.3867 - val_accuracy: 0.8694\n",
      "Epoch 11/40\n",
      "30/30 [==============================] - 13s 440ms/step - loss: 0.0107 - accuracy: 0.9995 - val_loss: 0.4049 - val_accuracy: 0.8703\n",
      "Epoch 12/40\n",
      "30/30 [==============================] - 13s 440ms/step - loss: 0.0077 - accuracy: 0.9997 - val_loss: 0.4233 - val_accuracy: 0.8683\n",
      "Epoch 13/40\n",
      "30/30 [==============================] - 13s 442ms/step - loss: 0.0057 - accuracy: 0.9997 - val_loss: 0.4384 - val_accuracy: 0.8683\n",
      "Epoch 14/40\n",
      "30/30 [==============================] - 13s 451ms/step - loss: 0.0042 - accuracy: 0.9999 - val_loss: 0.4525 - val_accuracy: 0.8676\n",
      "Epoch 15/40\n",
      "30/30 [==============================] - 13s 438ms/step - loss: 0.0033 - accuracy: 0.9999 - val_loss: 0.4660 - val_accuracy: 0.8691\n",
      "Epoch 16/40\n",
      "30/30 [==============================] - 13s 435ms/step - loss: 0.0027 - accuracy: 0.9999 - val_loss: 0.4781 - val_accuracy: 0.8680\n",
      "Epoch 17/40\n",
      "30/30 [==============================] - 13s 439ms/step - loss: 0.0020 - accuracy: 1.0000 - val_loss: 0.4912 - val_accuracy: 0.8682\n",
      "Epoch 18/40\n",
      "30/30 [==============================] - 13s 438ms/step - loss: 0.0014 - accuracy: 1.0000 - val_loss: 0.5225 - val_accuracy: 0.8671\n",
      "Epoch 19/40\n",
      "30/30 [==============================] - 13s 437ms/step - loss: 9.7603e-04 - accuracy: 1.0000 - val_loss: 0.5427 - val_accuracy: 0.8667\n",
      "Epoch 20/40\n",
      "30/30 [==============================] - 13s 437ms/step - loss: 7.4592e-04 - accuracy: 1.0000 - val_loss: 0.5613 - val_accuracy: 0.8664\n",
      "Epoch 21/40\n",
      "30/30 [==============================] - 13s 435ms/step - loss: 5.8364e-04 - accuracy: 1.0000 - val_loss: 0.5765 - val_accuracy: 0.8656\n",
      "Epoch 22/40\n",
      "30/30 [==============================] - 13s 438ms/step - loss: 4.7413e-04 - accuracy: 1.0000 - val_loss: 0.5912 - val_accuracy: 0.8651\n",
      "Epoch 23/40\n",
      "30/30 [==============================] - 13s 439ms/step - loss: 3.9151e-04 - accuracy: 1.0000 - val_loss: 0.6045 - val_accuracy: 0.8657\n",
      "Epoch 24/40\n",
      "30/30 [==============================] - 13s 437ms/step - loss: 3.3084e-04 - accuracy: 1.0000 - val_loss: 0.6164 - val_accuracy: 0.8653\n",
      "Epoch 25/40\n",
      "30/30 [==============================] - 13s 436ms/step - loss: 2.8196e-04 - accuracy: 1.0000 - val_loss: 0.6283 - val_accuracy: 0.8658\n",
      "Epoch 26/40\n",
      "30/30 [==============================] - 13s 437ms/step - loss: 2.4496e-04 - accuracy: 1.0000 - val_loss: 0.6380 - val_accuracy: 0.8654\n",
      "Epoch 27/40\n",
      "30/30 [==============================] - 13s 434ms/step - loss: 2.1415e-04 - accuracy: 1.0000 - val_loss: 0.6476 - val_accuracy: 0.8654\n",
      "Epoch 28/40\n",
      "30/30 [==============================] - 13s 435ms/step - loss: 1.8964e-04 - accuracy: 1.0000 - val_loss: 0.6572 - val_accuracy: 0.8656\n",
      "Epoch 29/40\n",
      "30/30 [==============================] - 13s 439ms/step - loss: 1.6903e-04 - accuracy: 1.0000 - val_loss: 0.6652 - val_accuracy: 0.8654\n",
      "Epoch 30/40\n",
      "30/30 [==============================] - 13s 437ms/step - loss: 1.5175e-04 - accuracy: 1.0000 - val_loss: 0.6731 - val_accuracy: 0.8652\n",
      "Epoch 31/40\n",
      "30/30 [==============================] - 13s 434ms/step - loss: 1.3728e-04 - accuracy: 1.0000 - val_loss: 0.6808 - val_accuracy: 0.8650\n",
      "Epoch 32/40\n",
      "30/30 [==============================] - 13s 435ms/step - loss: 1.2466e-04 - accuracy: 1.0000 - val_loss: 0.6884 - val_accuracy: 0.8651\n",
      "Epoch 33/40\n",
      "30/30 [==============================] - 13s 437ms/step - loss: 1.1374e-04 - accuracy: 1.0000 - val_loss: 0.6954 - val_accuracy: 0.8649\n",
      "Epoch 34/40\n",
      "30/30 [==============================] - 13s 440ms/step - loss: 1.0431e-04 - accuracy: 1.0000 - val_loss: 0.7022 - val_accuracy: 0.8648\n",
      "Epoch 35/40\n",
      "30/30 [==============================] - 13s 437ms/step - loss: 9.6032e-05 - accuracy: 1.0000 - val_loss: 0.7085 - val_accuracy: 0.8648\n",
      "Epoch 36/40\n",
      "30/30 [==============================] - 13s 436ms/step - loss: 8.8794e-05 - accuracy: 1.0000 - val_loss: 0.7147 - val_accuracy: 0.8648\n",
      "Epoch 37/40\n",
      "30/30 [==============================] - 13s 434ms/step - loss: 8.2285e-05 - accuracy: 1.0000 - val_loss: 0.7208 - val_accuracy: 0.8648\n",
      "Epoch 38/40\n",
      "30/30 [==============================] - 13s 437ms/step - loss: 7.6569e-05 - accuracy: 1.0000 - val_loss: 0.7263 - val_accuracy: 0.8650\n",
      "Epoch 39/40\n",
      "30/30 [==============================] - 13s 435ms/step - loss: 7.1349e-05 - accuracy: 1.0000 - val_loss: 0.7320 - val_accuracy: 0.8651\n",
      "Epoch 40/40\n",
      "30/30 [==============================] - 13s 437ms/step - loss: 6.6645e-05 - accuracy: 1.0000 - val_loss: 0.7373 - val_accuracy: 0.8648\n"
     ]
    }
   ],
   "source": [
    "r = model.fit(partial_x_train,\n",
    "                    partial_y_train,\n",
    "                    epochs=40,\n",
    "                    batch_size=512,\n",
    "                    validation_data=(x_val, y_val),\n",
    "                    verbose=1)"
   ]
  },
  {
   "cell_type": "code",
   "execution_count": null,
   "id": "2661a68c",
   "metadata": {},
   "outputs": [],
   "source": []
  }
 ],
 "metadata": {
  "kernelspec": {
   "display_name": "Python 3 (ipykernel)",
   "language": "python",
   "name": "python3"
  },
  "language_info": {
   "codemirror_mode": {
    "name": "ipython",
    "version": 3
   },
   "file_extension": ".py",
   "mimetype": "text/x-python",
   "name": "python",
   "nbconvert_exporter": "python",
   "pygments_lexer": "ipython3",
   "version": "3.9.12"
  }
 },
 "nbformat": 4,
 "nbformat_minor": 5
}

{
 "cells": [
  {
   "cell_type": "code",
   "execution_count": 1,
   "id": "1b2284e5",
   "metadata": {},
   "outputs": [],
   "source": [
    "import numpy as np\n",
    "import pandas as pd\n",
    "import matplotlib.pyplot as plt\n",
    "\n",
    "import tensorflow as tf\n",
    "from tensorflow.keras.layers import Input, Conv2D, Dense, Flatten, Dropout, MaxPooling2D, BatchNormalization\n",
    "from tensorflow.keras.models import Model"
   ]
  },
  {
   "cell_type": "code",
   "execution_count": 2,
   "id": "15ca9188",
   "metadata": {},
   "outputs": [],
   "source": [
    "cifar = tf.keras.datasets.cifar10"
   ]
  },
  {
   "cell_type": "code",
   "execution_count": 3,
   "id": "d1108bf2",
   "metadata": {},
   "outputs": [],
   "source": [
    "(x_train,y_train),(x_test,y_test) = cifar.load_data()"
   ]
  },
  {
   "cell_type": "code",
   "execution_count": 4,
   "id": "67de0f50",
   "metadata": {},
   "outputs": [],
   "source": [
    "x_train,x_test = x_train/255.0 , x_test/255.0"
   ]
  },
  {
   "cell_type": "code",
   "execution_count": 5,
   "id": "68c4ab35",
   "metadata": {},
   "outputs": [],
   "source": [
    "y_train,y_test = y_train.flatten(),y_test.flatten()"
   ]
  },
  {
   "cell_type": "code",
   "execution_count": 6,
   "id": "1a3977d2",
   "metadata": {},
   "outputs": [],
   "source": [
    "# x_train = np.expand_dims(x_train,-1)\n",
    "# x_test = np.expand_dims(x_test,-1)\n",
    "# print(x_train.shape)"
   ]
  },
  {
   "cell_type": "code",
   "execution_count": 7,
   "id": "16beae1a",
   "metadata": {},
   "outputs": [
    {
     "data": {
      "text/plain": [
       "(50000, 32, 32, 3)"
      ]
     },
     "execution_count": 7,
     "metadata": {},
     "output_type": "execute_result"
    }
   ],
   "source": [
    "x_train.shape"
   ]
  },
  {
   "cell_type": "code",
   "execution_count": 8,
   "id": "195a652c",
   "metadata": {},
   "outputs": [
    {
     "name": "stdout",
     "output_type": "stream",
     "text": [
      "The No. of classes = 10\n"
     ]
    }
   ],
   "source": [
    "k = len(set(y_train))\n",
    "print(f'The No. of classes = {k}')"
   ]
  },
  {
   "cell_type": "code",
   "execution_count": 10,
   "id": "d2e36799",
   "metadata": {},
   "outputs": [],
   "source": [
    "i = Input(shape = x_train[0].shape)\n",
    "\n",
    "x = Conv2D(32, (3,3), padding = 'same', activation = 'relu')(i)\n",
    "x = BatchNormalization()(x)\n",
    "x = Conv2D(32, (3,3), padding = 'same', activation = 'relu')(x)\n",
    "x = BatchNormalization()(x)\n",
    "x = MaxPooling2D((2,2))(x)\n",
    "\n",
    "x = Conv2D(64, (3,3), padding = 'same', activation = 'relu')(x)\n",
    "x = BatchNormalization()(x)\n",
    "x = Conv2D(64, (3,3), padding = 'same', activation = 'relu')(x)\n",
    "x = BatchNormalization()(x)\n",
    "x = MaxPooling2D((2,2))(x)\n",
    "\n",
    "x = Conv2D(128, (3,3), padding = 'same', activation = 'relu')(x)\n",
    "x = BatchNormalization()(x)\n",
    "x = Conv2D(128, (3,3), padding = 'same', activation = 'relu')(x)\n",
    "x = BatchNormalization()(x)\n",
    "x = MaxPooling2D((2,2))(x)\n",
    "\n",
    "x = Flatten()(x)\n",
    "x = Dropout(0.2)(x)\n",
    "x = Dense(1024, activation = 'relu')(x)\n",
    "x = Dropout(0.2)(x)\n",
    "x = Dense(k, activation = 'softmax')(x)\n",
    "\n",
    "model = Model(i,x)"
   ]
  },
  {
   "cell_type": "code",
   "execution_count": 11,
   "id": "51dfaf24",
   "metadata": {},
   "outputs": [
    {
     "name": "stdout",
     "output_type": "stream",
     "text": [
      "Model: \"model\"\n",
      "_________________________________________________________________\n",
      " Layer (type)                Output Shape              Param #   \n",
      "=================================================================\n",
      " input_2 (InputLayer)        [(None, 32, 32, 3)]       0         \n",
      "                                                                 \n",
      " conv2d_6 (Conv2D)           (None, 32, 32, 32)        896       \n",
      "                                                                 \n",
      " batch_normalization_6 (Batc  (None, 32, 32, 32)       128       \n",
      " hNormalization)                                                 \n",
      "                                                                 \n",
      " conv2d_7 (Conv2D)           (None, 32, 32, 32)        9248      \n",
      "                                                                 \n",
      " batch_normalization_7 (Batc  (None, 32, 32, 32)       128       \n",
      " hNormalization)                                                 \n",
      "                                                                 \n",
      " max_pooling2d_3 (MaxPooling  (None, 16, 16, 32)       0         \n",
      " 2D)                                                             \n",
      "                                                                 \n",
      " conv2d_8 (Conv2D)           (None, 16, 16, 64)        18496     \n",
      "                                                                 \n",
      " batch_normalization_8 (Batc  (None, 16, 16, 64)       256       \n",
      " hNormalization)                                                 \n",
      "                                                                 \n",
      " conv2d_9 (Conv2D)           (None, 16, 16, 64)        36928     \n",
      "                                                                 \n",
      " batch_normalization_9 (Batc  (None, 16, 16, 64)       256       \n",
      " hNormalization)                                                 \n",
      "                                                                 \n",
      " max_pooling2d_4 (MaxPooling  (None, 8, 8, 64)         0         \n",
      " 2D)                                                             \n",
      "                                                                 \n",
      " conv2d_10 (Conv2D)          (None, 8, 8, 128)         73856     \n",
      "                                                                 \n",
      " batch_normalization_10 (Bat  (None, 8, 8, 128)        512       \n",
      " chNormalization)                                                \n",
      "                                                                 \n",
      " conv2d_11 (Conv2D)          (None, 8, 8, 128)         147584    \n",
      "                                                                 \n",
      " batch_normalization_11 (Bat  (None, 8, 8, 128)        512       \n",
      " chNormalization)                                                \n",
      "                                                                 \n",
      " max_pooling2d_5 (MaxPooling  (None, 4, 4, 128)        0         \n",
      " 2D)                                                             \n",
      "                                                                 \n",
      " flatten_1 (Flatten)         (None, 2048)              0         \n",
      "                                                                 \n",
      " dropout_2 (Dropout)         (None, 2048)              0         \n",
      "                                                                 \n",
      " dense_1 (Dense)             (None, 1024)              2098176   \n",
      "                                                                 \n",
      " dropout_3 (Dropout)         (None, 1024)              0         \n",
      "                                                                 \n",
      " dense_2 (Dense)             (None, 10)                10250     \n",
      "                                                                 \n",
      "=================================================================\n",
      "Total params: 2,397,226\n",
      "Trainable params: 2,396,330\n",
      "Non-trainable params: 896\n",
      "_________________________________________________________________\n"
     ]
    }
   ],
   "source": [
    "model.summary()"
   ]
  },
  {
   "cell_type": "code",
   "execution_count": 12,
   "id": "a51934a8",
   "metadata": {},
   "outputs": [],
   "source": [
    "model.compile(optimizer='adam',loss='sparse_categorical_crossentropy',metrics=['accuracy'])"
   ]
  },
  {
   "cell_type": "code",
   "execution_count": null,
   "id": "87781241",
   "metadata": {},
   "outputs": [
    {
     "name": "stdout",
     "output_type": "stream",
     "text": [
      "Epoch 1/15\n",
      "1563/1563 [==============================] - 142s 90ms/step - loss: 1.3025 - accuracy: 0.5510 - val_loss: 1.0230 - val_accuracy: 0.6478\n",
      "Epoch 2/15\n",
      "1563/1563 [==============================] - 144s 92ms/step - loss: 0.8377 - accuracy: 0.7089 - val_loss: 1.0331 - val_accuracy: 0.6604\n",
      "Epoch 3/15\n",
      "1563/1563 [==============================] - 140s 89ms/step - loss: 0.6874 - accuracy: 0.7626 - val_loss: 0.7963 - val_accuracy: 0.7327\n",
      "Epoch 4/15\n",
      "1563/1563 [==============================] - 140s 90ms/step - loss: 0.5811 - accuracy: 0.8009 - val_loss: 0.8131 - val_accuracy: 0.7351\n",
      "Epoch 5/15\n",
      "1563/1563 [==============================] - 140s 90ms/step - loss: 0.4900 - accuracy: 0.8326 - val_loss: 0.6210 - val_accuracy: 0.7953\n",
      "Epoch 6/15\n",
      "1563/1563 [==============================] - 139s 89ms/step - loss: 0.4210 - accuracy: 0.8544 - val_loss: 0.6366 - val_accuracy: 0.7972\n",
      "Epoch 7/15\n",
      "1563/1563 [==============================] - 138s 88ms/step - loss: 0.3548 - accuracy: 0.8769 - val_loss: 0.6029 - val_accuracy: 0.8110\n",
      "Epoch 8/15\n",
      "1563/1563 [==============================] - 138s 88ms/step - loss: 0.3015 - accuracy: 0.8968 - val_loss: 0.6752 - val_accuracy: 0.8056\n",
      "Epoch 9/15\n",
      "1563/1563 [==============================] - 138s 88ms/step - loss: 0.2578 - accuracy: 0.9118 - val_loss: 0.6244 - val_accuracy: 0.8191\n",
      "Epoch 10/15\n",
      "1563/1563 [==============================] - 139s 89ms/step - loss: 0.2207 - accuracy: 0.9236 - val_loss: 0.7527 - val_accuracy: 0.8056\n",
      "Epoch 11/15\n",
      "1563/1563 [==============================] - 140s 89ms/step - loss: 0.2004 - accuracy: 0.9305 - val_loss: 0.7693 - val_accuracy: 0.8093\n",
      "Epoch 12/15\n",
      "1563/1563 [==============================] - 140s 89ms/step - loss: 0.1767 - accuracy: 0.9392 - val_loss: 0.7924 - val_accuracy: 0.8135\n",
      "Epoch 13/15\n",
      "1563/1563 [==============================] - 140s 90ms/step - loss: 0.1609 - accuracy: 0.9449 - val_loss: 0.6632 - val_accuracy: 0.8286\n",
      "Epoch 14/15\n",
      "1563/1563 [==============================] - 141s 90ms/step - loss: 0.1489 - accuracy: 0.9489 - val_loss: 0.6790 - val_accuracy: 0.8279\n",
      "Epoch 15/15\n",
      " 650/1563 [===========>..................] - ETA: 53:02 - loss: 0.1183 - accuracy: 0.9606"
     ]
    }
   ],
   "source": [
    "r = model.fit(x_train,y_train,validation_data=(x_test,y_test),epochs=15)"
   ]
  },
  {
   "cell_type": "code",
   "execution_count": null,
   "id": "322e1df9",
   "metadata": {},
   "outputs": [],
   "source": [
    "# Fit with data augmentation\n",
    "# Note: if you run this AFTER calling the previous model.fit(), it will CONTINUE training where it left off\n",
    "batch_size = 32\n",
    "data_generator = tf.keras.preprocessing.image.ImageDataGenerator(width_shift_range=0.1, height_shift_range = 0.1, horizontal_flip = True)\n",
    "train_generator = data_generator.flow(x_train,y_train,batch_size)\n",
    "steps_per_epoch = x_train.shape[0] // batch_size\n",
    "r = model.fit_generator(train_generator, validation_data=(x_test, y_test), steps_per_epoch=steps_per_epoch, epochs=50)"
   ]
  },
  {
   "cell_type": "code",
   "execution_count": null,
   "id": "0d4a7ec0",
   "metadata": {},
   "outputs": [],
   "source": [
    "plt.plot(r.history['loss'], label='loss')\n",
    "plt.plot(r.history['val_loss'], label='val_loss')\n",
    "plt.legend()"
   ]
  },
  {
   "cell_type": "code",
   "execution_count": null,
   "id": "f021746b",
   "metadata": {},
   "outputs": [],
   "source": [
    "plt.plot(r.history['accuracy'], label='acc')\n",
    "plt.plot(r.history['val_accuracy'], label='val_acc')\n",
    "plt.legend()"
   ]
  },
  {
   "cell_type": "code",
   "execution_count": null,
   "id": "790f6bca",
   "metadata": {},
   "outputs": [],
   "source": [
    "# Plot confusion matrix\n",
    "from sklearn.metrics import confusion_matrix\n",
    "import itertools\n",
    "\n",
    "def plot_confusion_matrix(cm, classes,\n",
    "                          normalize=False,\n",
    "                          title='Confusion matrix',\n",
    "                          cmap=plt.cm.Blues):\n",
    "  \"\"\"\n",
    "  This function prints and plots the confusion matrix.\n",
    "  Normalization can be applied by setting `normalize=True`.\n",
    "  \"\"\"\n",
    "  if normalize:\n",
    "      cm = cm.astype('float') / cm.sum(axis=1)[:, np.newaxis]\n",
    "      print(\"Normalized confusion matrix\")\n",
    "  else:\n",
    "      print('Confusion matrix, without normalization')\n",
    "\n",
    "  print(cm)\n",
    "\n",
    "  plt.imshow(cm, interpolation='nearest', cmap=cmap)\n",
    "  plt.title(title)\n",
    "  plt.colorbar()\n",
    "  tick_marks = np.arange(len(classes))\n",
    "  plt.xticks(tick_marks, classes, rotation=45)\n",
    "  plt.yticks(tick_marks, classes)\n",
    "\n",
    "  fmt = '.2f' if normalize else 'd'\n",
    "  thresh = cm.max() / 2.\n",
    "  for i, j in itertools.product(range(cm.shape[0]), range(cm.shape[1])):\n",
    "      plt.text(j, i, format(cm[i, j], fmt),\n",
    "               horizontalalignment=\"center\",\n",
    "               color=\"white\" if cm[i, j] > thresh else \"black\")\n",
    "\n",
    "  plt.tight_layout()\n",
    "  plt.ylabel('True label')\n",
    "  plt.xlabel('Predicted label')\n",
    "  plt.show()\n",
    "\n",
    "\n",
    "p_test = model.predict(x_test).argmax(axis=1)\n",
    "cm = confusion_matrix(y_test, p_test)\n",
    "plot_confusion_matrix(cm, list(range(10)))"
   ]
  },
  {
   "cell_type": "code",
   "execution_count": null,
   "id": "c2bf88f5",
   "metadata": {},
   "outputs": [],
   "source": [
    "labels = '''T-shirt/top\n",
    "Trouser\n",
    "Pullover\n",
    "Dress\n",
    "Coat\n",
    "Sandal\n",
    "Shirt\n",
    "Sneaker\n",
    "Bag\n",
    "Ankle boot'''.split(\"\\n\")"
   ]
  },
  {
   "cell_type": "code",
   "execution_count": null,
   "id": "6ca71b39",
   "metadata": {},
   "outputs": [],
   "source": [
    "misclassified_idx = np.where(p_test != y_test)[0]\n",
    "i = np.random.choice(misclassified_idx)\n",
    "plt.imshow(x_test[i], cmap='gray')\n",
    "plt.title(\"True label: %s Predicted: %s\" % (labels[y_test[i]], labels[p_test[i]]));"
   ]
  },
  {
   "cell_type": "code",
   "execution_count": null,
   "id": "c5517dd6",
   "metadata": {},
   "outputs": [],
   "source": []
  }
 ],
 "metadata": {
  "kernelspec": {
   "display_name": "Python 3 (ipykernel)",
   "language": "python",
   "name": "python3"
  },
  "language_info": {
   "codemirror_mode": {
    "name": "ipython",
    "version": 3
   },
   "file_extension": ".py",
   "mimetype": "text/x-python",
   "name": "python",
   "nbconvert_exporter": "python",
   "pygments_lexer": "ipython3",
   "version": "3.9.12"
  }
 },
 "nbformat": 4,
 "nbformat_minor": 5
}

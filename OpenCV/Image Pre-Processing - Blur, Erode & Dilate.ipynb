{
 "cells": [
  {
   "cell_type": "markdown",
   "id": "41068887",
   "metadata": {},
   "source": [
    "#### Gaussian Blur"
   ]
  },
  {
   "cell_type": "code",
   "execution_count": 1,
   "id": "7a86997c",
   "metadata": {},
   "outputs": [],
   "source": [
    "import numpy as np\n",
    "import cv2"
   ]
  },
  {
   "cell_type": "code",
   "execution_count": 2,
   "id": "81d54df7",
   "metadata": {},
   "outputs": [],
   "source": [
    "img = cv2.imread('messi5.jpg',1)\n",
    "cv2.imshow('messi',img)"
   ]
  },
  {
   "cell_type": "code",
   "execution_count": 3,
   "id": "17320710",
   "metadata": {},
   "outputs": [],
   "source": [
    "blur = cv2.GaussianBlur(img,(5,55),0)\n",
    "cv2.imshow('blur',blur)"
   ]
  },
  {
   "cell_type": "markdown",
   "id": "fb8f78e2",
   "metadata": {},
   "source": [
    "#### Dilation - Black to White , Erosion - White to Black"
   ]
  },
  {
   "cell_type": "code",
   "execution_count": 4,
   "id": "d6086e8f",
   "metadata": {},
   "outputs": [],
   "source": [
    "kernel = np.ones((5,5),'uint8')\n",
    "dilate = cv2.dilate(img,kernel,iterations=1)\n",
    "erode = cv2.erode(img,kernel,iterations=1)\n",
    "\n",
    "cv2.imshow('erode',erode)\n",
    "cv2.imshow('dilate',dilate)"
   ]
  },
  {
   "cell_type": "code",
   "execution_count": 5,
   "id": "e44f6270",
   "metadata": {},
   "outputs": [],
   "source": [
    "cv2.waitKey(0)\n",
    "cv2.destroyAllWindows()"
   ]
  }
 ],
 "metadata": {
  "kernelspec": {
   "display_name": "Python 3 (ipykernel)",
   "language": "python",
   "name": "python3"
  },
  "language_info": {
   "codemirror_mode": {
    "name": "ipython",
    "version": 3
   },
   "file_extension": ".py",
   "mimetype": "text/x-python",
   "name": "python",
   "nbconvert_exporter": "python",
   "pygments_lexer": "ipython3",
   "version": "3.9.13"
  }
 },
 "nbformat": 4,
 "nbformat_minor": 5
}

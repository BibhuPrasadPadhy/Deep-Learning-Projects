{
 "cells": [
  {
   "cell_type": "markdown",
   "id": "48b5393e",
   "metadata": {},
   "source": [
    "## Read an image & Display an image"
   ]
  },
  {
   "cell_type": "code",
   "execution_count": 1,
   "id": "7c60fc27",
   "metadata": {},
   "outputs": [],
   "source": [
    "import numpy as np\n",
    "import cv2"
   ]
  },
  {
   "cell_type": "markdown",
   "id": "3359b73a",
   "metadata": {},
   "source": [
    "Use the function cv2.imread() to read an image. The image should be in the working directory or a full path of image should be given.\n",
    "\n",
    "Second argument is a flag which specifies the way image should be read.\n",
    "\n",
    "1. cv2.IMREAD_COLOR : Loads a color image. Any transparency of image will be neglected. It is the default flag.\n",
    "2. cv2.IMREAD_GRAYSCALE : Loads image in grayscale mode\n",
    "3. cv2.IMREAD_UNCHANGED : Loads image as such including alpha channel\n",
    "\n",
    "\n",
    "Note. Instead of these three flags, you can simply pass integers 1, 0 or -1 respectively."
   ]
  },
  {
   "cell_type": "code",
   "execution_count": 2,
   "id": "6dc2f195",
   "metadata": {},
   "outputs": [],
   "source": [
    "# Load an color image in grayscale\n",
    "img = cv2.imread('messi5.jpg',0)"
   ]
  },
  {
   "cell_type": "code",
   "execution_count": 3,
   "id": "9093dcb9",
   "metadata": {},
   "outputs": [],
   "source": [
    "# Use the function cv2.imshow() to display an image in a window. \n",
    "# The window automatically fits to the image size.First argument is a window name which is a string. \n",
    "# second argument is our image. You can create as many windows as you wish, but with different window names.\n",
    "\n",
    "cv2.namedWindow('image', cv2.WINDOW_NORMAL) \n",
    "cv2.imshow('image',img)  #First argument is a window name which is a string. second argument is our image.\n",
    "cv2.waitKey(0) \n",
    "cv2.destroyAllWindows()"
   ]
  },
  {
   "cell_type": "markdown",
   "id": "3a44793e",
   "metadata": {},
   "source": [
    "#### Save the image read "
   ]
  },
  {
   "cell_type": "code",
   "execution_count": 4,
   "id": "2fc84996",
   "metadata": {},
   "outputs": [
    {
     "data": {
      "text/plain": [
       "True"
      ]
     },
     "execution_count": 4,
     "metadata": {},
     "output_type": "execute_result"
    }
   ],
   "source": [
    "cv2.imwrite('messigray.png',img)"
   ]
  },
  {
   "cell_type": "markdown",
   "id": "019943e3",
   "metadata": {},
   "source": [
    "### Getting Started with Videos"
   ]
  },
  {
   "cell_type": "markdown",
   "id": "7e3ba719",
   "metadata": {},
   "source": [
    "###### Playing from webcam"
   ]
  },
  {
   "cell_type": "code",
   "execution_count": 5,
   "id": "e1332b31",
   "metadata": {},
   "outputs": [],
   "source": [
    "import numpy as np\n",
    "import cv2\n",
    "\n",
    "cap = cv2.VideoCapture(0)  ## 0 - Device for webcam\n",
    "\n",
    "while(True):\n",
    "    # Capture frame-by-frame\n",
    "    ret, frame = cap.read()\n",
    "\n",
    "    # Our operations on the frame come here\n",
    "    gray = cv2.cvtColor(frame, cv2.COLOR_BGR2GRAY)\n",
    "\n",
    "    # Display the resulting frame\n",
    "    cv2.imshow('frame',gray)\n",
    "    if cv2.waitKey(1) & 0xFF == ord('q'):\n",
    "        break\n",
    "\n",
    "# When everything done, release the capture\n",
    "cap.release()\n",
    "cv2.destroyAllWindows()"
   ]
  },
  {
   "cell_type": "markdown",
   "id": "c3b9453d",
   "metadata": {},
   "source": [
    "###### Playing from video file"
   ]
  },
  {
   "cell_type": "code",
   "execution_count": 6,
   "id": "98561a77",
   "metadata": {},
   "outputs": [],
   "source": [
    "import numpy as np\n",
    "import cv2\n",
    "\n",
    "cap = cv2.VideoCapture('attack.mkv')\n",
    "\n",
    "while(cap.isOpened()):\n",
    "    ret, frame = cap.read()\n",
    "\n",
    "    gray = cv2.cvtColor(frame, cv2.COLOR_BGR2GRAY)\n",
    "\n",
    "    cv2.imshow('frame',gray)\n",
    "    if cv2.waitKey(1) & 0xFF == ord('q'):\n",
    "        break\n",
    "\n",
    "cap.release()\n",
    "cv2.destroyAllWindows()"
   ]
  }
 ],
 "metadata": {
  "kernelspec": {
   "display_name": "Python 3 (ipykernel)",
   "language": "python",
   "name": "python3"
  },
  "language_info": {
   "codemirror_mode": {
    "name": "ipython",
    "version": 3
   },
   "file_extension": ".py",
   "mimetype": "text/x-python",
   "name": "python",
   "nbconvert_exporter": "python",
   "pygments_lexer": "ipython3",
   "version": "3.9.13"
  }
 },
 "nbformat": 4,
 "nbformat_minor": 5
}
